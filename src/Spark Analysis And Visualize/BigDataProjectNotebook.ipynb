{
 "cells": [
  {
   "cell_type": "markdown",
   "metadata": {
    "id": "qEV94e-cEChT"
   },
   "source": [
    "## Setup"
   ]
  },
  {
   "cell_type": "code",
   "execution_count": 1,
   "metadata": {
    "id": "dGB-92fXEMcG"
   },
   "outputs": [
    {
     "name": "stderr",
     "output_type": "stream",
     "text": [
      "Warning: Ignoring non-Spark config property: spark-master\n",
      "WARNING: An illegal reflective access operation has occurred\n",
      "WARNING: Illegal reflective access by org.apache.spark.unsafe.Platform (file:/usr/local/spark-3.2.0-bin-hadoop3.2/jars/spark-unsafe_2.12-3.2.0.jar) to constructor java.nio.DirectByteBuffer(long,int)\n",
      "WARNING: Please consider reporting this to the maintainers of org.apache.spark.unsafe.Platform\n",
      "WARNING: Use --illegal-access=warn to enable warnings of further illegal reflective access operations\n",
      "WARNING: All illegal access operations will be denied in a future release\n",
      "Using Spark's default log4j profile: org/apache/spark/log4j-defaults.properties\n",
      "Setting default log level to \"WARN\".\n",
      "To adjust logging level use sc.setLogLevel(newLevel). For SparkR, use setLogLevel(newLevel).\n",
      "22/01/02 13:56:13 WARN NativeCodeLoader: Unable to load native-hadoop library for your platform... using builtin-java classes where applicable\n"
     ]
    }
   ],
   "source": [
    "from pyspark.sql import SparkSession\n",
    "\n",
    "spark = SparkSession.builder\\\n",
    "        .master(\"local[2]\")\\\n",
    "        .appName(\"spark_analysis\")\\\n",
    "        .config('spark-master', '7077')\\\n",
    "        .getOrCreate()"
   ]
  },
  {
   "cell_type": "markdown",
   "metadata": {
    "id": "RvcrcPBlEPoM"
   },
   "source": [
    "## Data reader"
   ]
  },
  {
   "cell_type": "code",
   "execution_count": 2,
   "metadata": {
    "id": "Q6B4BBaqEUcj"
   },
   "outputs": [],
   "source": [
    "from pyspark import SparkContext\n",
    "from pyspark.sql import functions as func\n",
    "from pyspark.sql import *\n",
    "from pyspark.sql.window import Window"
   ]
  },
  {
   "cell_type": "code",
   "execution_count": 3,
   "metadata": {
    "colab": {
     "base_uri": "https://localhost:8080/"
    },
    "id": "ofZO7K9fEj0T",
    "outputId": "653b52a7-ada3-40d1-bbf5-32fc5ff039ce"
   },
   "outputs": [
    {
     "name": "stderr",
     "output_type": "stream",
     "text": [
      "22/01/02 13:56:37 WARN package: Truncated the string representation of a plan since it was too large. This behavior can be adjusted by setting 'spark.sql.debug.maxToStringFields'.\n"
     ]
    },
    {
     "name": "stdout",
     "output_type": "stream",
     "text": [
      "+--------------------+--------------------+-------+---------+--------------------+--------------------+--------+---------+--------------+-------+------------+---------+--------+--------------------+---------+--------------+--------------------+----------+------------+--------+---------+---------+----------+--------------------+-----------+--------------------+-----------------+\n",
      "|                 Tên|               Mô tả|Mức giá|Diện tích|       Loại tin đăng|             Địa chỉ|Mặt tiền|Đường vào|Hướng ban công|Số tầng|Số phòng ngủ|Số toilet|Nội thất|             Pháp lý|Tên dự án|    Chủ đầu tư|              Quy mô| Ngày đăng|Ngày hết hạn|  Mã tin|Phòng ngủ|Hướng nhà|  Loại tin|                 url|       Tỉnh|          Quận/Huyện|Mức giá/Diện tích|\n",
      "+--------------------+--------------------+-------+---------+--------------------+--------------------+--------+---------+--------------+-------+------------+---------+--------+--------------------+---------+--------------+--------------------+----------+------------+--------+---------+---------+----------+--------------------+-----------+--------------------+-----------------+\n",
      "|Chính chủ cần bán...|- Ngay chợ Sông T...|  860.0|     90.0|             Bán đất|Đường Sông Trầu, ...|    null|      8.0|          null|     -1|          -1|       -1|    null|      Sổ đỏ/ Sổ hồng|     null|          null|                null|06/11/2021|  13/11/2021|31319056|     null|     null|Tin thường|https://batdongsa...|   Đồng Nai|     Huyện Trảng Bom|             9.56|\n",
      "|Bán lô đất TĐC gi...|Bán lô đất TĐC gi...| 2200.0|     79.8|             Bán đất|Phường Bửu Long, ...|    null|     10.0|          null|     -1|          -1|       -1|    null|                null|     null|          null|                null|06/11/2021|  13/11/2021|31319055|     null|      Nam|Tin thường|https://batdongsa...|   Đồng Nai|Thành phố Biên Hò...|            27.57|\n",
      "|Duy nhất căn nhà ...|* Nhà phố giá tốt...|15419.0|    138.0|Bán nhà biệt thự,...|Dự án Aqua City, ...|    null|     null|          null|      4|          -1|       -1|    null|                null|Aqua City|Novaland Group|11 phân khu với 1...|06/11/2021|  16/11/2021|31319054|     null|     null|Tin thường|https://batdongsa...|   Đồng Nai|Thành phố Biên Hò...|           111.73|\n",
      "|Nhà mặt tiền đườn...|Bán nhà mặt tiền ...| 6500.0|     74.5|Bán nhà mặt phố (...|Đường Lê Hồng Pho...|    4.77|     30.0|          null|      3|           4|        3|    null|      Sổ đỏ/ Sổ hồng|     null|          null|                null|06/11/2021|  13/11/2021|31319053|     4 PN|  Tây-Nam|Tin thường|https://batdongsa...|  Khánh Hòa|Thành phố Nha Tra...|            87.25|\n",
      "|Nhà MT đường số 4...|Nhà MT đường số 4...| 1800.0|     80.0|Bán nhà mặt phố (...|Đường Số 4, Phườn...|     4.0|     20.0|          null|      1|           2|        2|  Cơ bản|Mua bán công chứn...|     null|          null|                null|06/11/2021|  13/11/2021|31319052|     2 PN|     null|Tin thường|https://batdongsa...|Hồ Chí Minh|   Thành phố Thủ Đức|             22.5|\n",
      "+--------------------+--------------------+-------+---------+--------------------+--------------------+--------+---------+--------------+-------+------------+---------+--------+--------------------+---------+--------------+--------------------+----------+------------+--------+---------+---------+----------+--------------------+-----------+--------------------+-----------------+\n",
      "only showing top 5 rows\n",
      "\n"
     ]
    }
   ],
   "source": [
    "# Đọc dữ liệu \n",
    "df = spark.read.csv('hdfs://namenode:9000/Input_data/data_preprocessed.csv', escape = \"\\\"\", header = True, inferSchema=True,multiLine=True)\n",
    "df.show(5)"
   ]
  },
  {
   "cell_type": "markdown",
   "metadata": {
    "id": "1mmXMtlDKjKO"
   },
   "source": [
    "## Analysis price"
   ]
  },
  {
   "cell_type": "code",
   "execution_count": 4,
   "metadata": {
    "id": "Acs1kYU5YYTh"
   },
   "outputs": [],
   "source": [
    "import matplotlib.pyplot as plt\n",
    "import numpy as np\n",
    "import math\n",
    "\n",
    "def visualize_bar_chart(labels, bars, x_tick = None, title = '', x_axis= '', y_axis = '', figsize = (15,8), rotation=False):\n",
    "  plt.figure(figsize = figsize)\n",
    "\n",
    "  ind = np.arange(len(bars[0]))\n",
    "\n",
    "  w = round(float(0.9/len(bars)),1)\n",
    "  if rotation:\n",
    "    for i, (bar, label) in enumerate(zip(bars,labels)):\n",
    "      plt.barh(ind+w*(i-round(len(bars)/2)),bar,height=w,align='center', label = label)\n",
    "      plt.yticks(ind, x_tick)\n",
    "  else:\n",
    "    for i, (bar, label) in enumerate(zip(bars,labels)):\n",
    "      plt.bar(ind+w*(i-round(len(bars)/2)),bar,width=w,align='center', label = label)\n",
    "      \n",
    "      plt.xticks(ind, x_tick)\n",
    "  #if x_tick is not None:\n",
    "  #  if rotation:\n",
    "  #    plt.xticks(ind, x_tick, rotation='vertical')\n",
    "  #  else:\n",
    "  #    plt.xticks(ind, x_tick)\n",
    "  #yticks(xrange(10), rotation='vertical')\n",
    "  \n",
    "  plt.xlabel(x_axis)\n",
    "  plt.ylabel(y_axis)\n",
    "  plt.title(title)\n",
    "  plt.legend()\n",
    "  plt.show()"
   ]
  },
  {
   "cell_type": "code",
   "execution_count": 5,
   "metadata": {
    "id": "EJRSwSVs2TGC"
   },
   "outputs": [],
   "source": [
    "# Thống kê loại tin\n",
    "news_type = df.groupby(\"Loại tin đăng\")\\\n",
    "             .agg(func.count(\"Loại tin đăng\").alias(\"Số lượng tin\"))\n",
    "news_type = news_type\\\n",
    "  .withColumn(\"Tỉ lệ tin(%)\", func.col(\"Số lượng tin\")/func.sum(\"Số lượng tin\").over(Window.partitionBy())*100)\n",
    "news_type = news_type\\\n",
    "  .withColumn(\"Tỉ lệ tin(%)\", func.round(news_type[\"Tỉ lệ tin(%)\"], 2))"
   ]
  },
  {
   "cell_type": "code",
   "execution_count": 6,
   "metadata": {
    "colab": {
     "base_uri": "https://localhost:8080/"
    },
    "id": "YMHW6Uz_FX7d",
    "outputId": "869f651c-54c0-4097-c680-6435c41d7b9f"
   },
   "outputs": [
    {
     "name": "stderr",
     "output_type": "stream",
     "text": [
      "22/01/02 13:57:11 WARN WindowExec: No Partition Defined for Window operation! Moving all data to a single partition, this can cause serious performance degradation.\n",
      "22/01/02 13:57:11 WARN WindowExec: No Partition Defined for Window operation! Moving all data to a single partition, this can cause serious performance degradation.\n",
      "22/01/02 13:57:16 WARN WindowExec: No Partition Defined for Window operation! Moving all data to a single partition, this can cause serious performance degradation.\n",
      "22/01/02 13:57:17 WARN WindowExec: No Partition Defined for Window operation! Moving all data to a single partition, this can cause serious performance degradation.\n"
     ]
    },
    {
     "name": "stdout",
     "output_type": "stream",
     "text": [
      "+--------------------+------------+------------+\n",
      "|       Loại tin đăng|Số lượng tin|Tỉ lệ tin(%)|\n",
      "+--------------------+------------+------------+\n",
      "|             Bán đất|       46048|       25.26|\n",
      "|       Bán nhà riêng|       41841|       22.95|\n",
      "| Bán căn hộ chung cư|       36194|       19.85|\n",
      "|Bán nhà mặt phố (...|       23939|       13.13|\n",
      "|Bán nhà biệt thự,...|       16523|        9.06|\n",
      "|Bán đất nền dự án...|       15514|        8.51|\n",
      "|Bán loại bất động...|         972|        0.53|\n",
      "|  Bán kho, nhà xưởng|         669|        0.37|\n",
      "|Bán trang trại, k...|         477|        0.26|\n",
      "|        Bán condotel|         143|        0.08|\n",
      "+--------------------+------------+------------+\n",
      "\n"
     ]
    },
    {
     "name": "stderr",
     "output_type": "stream",
     "text": [
      "                                                                                \r"
     ]
    }
   ],
   "source": [
    "news_type.sort(\"Số lượng tin\", ascending=False)\\\n",
    "         .show()"
   ]
  },
  {
   "cell_type": "code",
   "execution_count": 8,
   "metadata": {
    "colab": {
     "base_uri": "https://localhost:8080/",
     "height": 476
    },
    "id": "76m5uYNybu2p",
    "outputId": "f775f6ee-8f23-40a6-d397-f6165fe33ace"
   },
   "outputs": [
    {
     "data": {
      "image/png": "[encoded data removed]",
      "text/plain": [
       "<Figure size 1080x576 with 1 Axes>"
      ]
     },
     "metadata": {
      "needs_background": "light"
     },
     "output_type": "display_data"
    }
   ],
   "source": [
    "visualize_df = news_type.toPandas()\n",
    "visualize_bar_chart(['Số lượng tin'], [list(visualize_df['Tỉ lệ tin(%)'])], list(visualize_df['Loại tin đăng']), rotation=True)"
   ]
  },
  {
   "cell_type": "code",
   "execution_count": 9,
   "metadata": {
    "id": "t0RS8apDToVJ"
   },
   "outputs": [],
   "source": [
    "# Phân tích chung cho từng tỉnh\n",
    "province_df = df.filter((df[\"Diện tích\"].isNotNull()) & (df[\"Tỉnh\"].isNotNull())\\\n",
    "                        & (df[\"Mức giá/Diện tích\"] > 0.1) & (df[\"Mức giá/Diện tích\"] < 10000))\\\n",
    "                .groupby(\"Tỉnh\")\\\n",
    "                .agg(func.mean(\"Diện tích\").alias(\"Diện tích đất trung bình(m^2)\"),\\\n",
    "                    func.mean(\"Mức giá\").alias(\"Mức giá đất trung bình(triệu VNĐ)\"),\\\n",
    "                    func.mean(\"Mức giá/Diện tích\").alias(\"Giá trị trung bình của 1 m^2(triệu VNĐ)\"),\\\n",
    "                    func.count(\"Diện tích\").alias(\"Số lượng tin\"))\n",
    "province_df = province_df\\\n",
    "              .withColumn(\"Giá trị trung bình của 1 m^2(triệu VNĐ)\", func.round(province_df[\"Giá trị trung bình của 1 m^2(triệu VNĐ)\"], 2))\\\n",
    "              .withColumn(\"Diện tích đất trung bình(m^2)\", func.round(province_df[\"Diện tích đất trung bình(m^2)\"], 2))\\\n",
    "              .withColumn(\"Mức giá đất trung bình(triệu VNĐ)\", func.round(province_df[\"Mức giá đất trung bình(triệu VNĐ)\"], 2))\\\n",
    "              .withColumn(\"Tỉ lệ tin(%)\", func.col(\"Số lượng tin\")/func.sum(\"Số lượng tin\").over(Window.partitionBy())*100)\n",
    "province_df = province_df\\\n",
    "              .withColumn(\"Tỉ lệ tin(%)\", func.round(province_df[\"Tỉ lệ tin(%)\"], 2))"
   ]
  },
  {
   "cell_type": "code",
   "execution_count": 10,
   "metadata": {
    "colab": {
     "base_uri": "https://localhost:8080/"
    },
    "id": "E2HPZWWVPIko",
    "outputId": "588aaf00-0554-4f53-dac5-405f1e339319"
   },
   "outputs": [
    {
     "name": "stderr",
     "output_type": "stream",
     "text": [
      "22/01/02 13:59:41 WARN WindowExec: No Partition Defined for Window operation! Moving all data to a single partition, this can cause serious performance degradation.\n",
      "22/01/02 13:59:41 WARN WindowExec: No Partition Defined for Window operation! Moving all data to a single partition, this can cause serious performance degradation.\n",
      "22/01/02 13:59:47 WARN WindowExec: No Partition Defined for Window operation! Moving all data to a single partition, this can cause serious performance degradation.\n",
      "22/01/02 13:59:47 WARN WindowExec: No Partition Defined for Window operation! Moving all data to a single partition, this can cause serious performance degradation.\n"
     ]
    },
    {
     "name": "stdout",
     "output_type": "stream",
     "text": [
      "+----------+-----------------------------+---------------------------------+---------------------------------------+------------+------------+\n",
      "|      Tỉnh|Diện tích đất trung bình(m^2)|Mức giá đất trung bình(triệu VNĐ)|Giá trị trung bình của 1 m^2(triệu VNĐ)|Số lượng tin|Tỉ lệ tin(%)|\n",
      "+----------+-----------------------------+---------------------------------+---------------------------------------+------------+------------+\n",
      "|  Nam Định|                     23139.93|                         18540.98|                                  30.45|          45|        0.03|\n",
      "|  Đắk Nông|                      16851.5|                           3960.0|                                   1.55|          22|        0.01|\n",
      "| Hải Dương|                      5668.65|                          6711.83|                                   15.3|          44|        0.03|\n",
      "|  Hòa Bình|                      5223.89|                          5115.34|                                   7.68|         449|        0.29|\n",
      "|    Sơn La|                      5078.52|                          3751.17|                                   6.57|          30|        0.02|\n",
      "|Bình Thuận|                       4127.8|                         11855.45|                                  22.09|        1345|        0.87|\n",
      "| Ninh Bình|                      3819.96|                         19179.02|                                  31.29|          23|        0.01|\n",
      "|   Yên Bái|                      3720.45|                          2391.82|                                   24.9|          11|        0.01|\n",
      "|   Hà Tĩnh|                       3599.3|                          8613.78|                                   6.34|         564|        0.36|\n",
      "| Hậu Giang|                      3302.54|                         37506.59|                                  15.04|          42|        0.03|\n",
      "|Tiền Giang|                      3088.15|                          5699.19|                                  13.56|         135|        0.09|\n",
      "|  Lâm Đồng|                      2404.33|                         25184.36|                                   19.5|        2392|        1.54|\n",
      "|  Tây Ninh|                       2338.0|                          2115.81|                                   4.15|         307|         0.2|\n",
      "|   Long An|                      2316.59|                          8926.47|                                  16.33|        2653|        1.71|\n",
      "|   Phú Thọ|                      2163.47|                          5643.17|                                  33.59|          58|        0.04|\n",
      "|Kiên Giang|                      2093.67|                          15594.8|                                  68.19|         640|        0.41|\n",
      "|Bình Phước|                      2008.28|                          3492.55|                                   5.02|        1225|        0.79|\n",
      "| Vĩnh Long|                      1928.63|                          6569.52|                                  11.48|          75|        0.05|\n",
      "| Sóc Trăng|                      1832.31|                          5096.67|                                   8.27|          15|        0.01|\n",
      "|   Kon Tum|                      1756.03|                          1337.79|                                   2.47|          63|        0.04|\n",
      "+----------+-----------------------------+---------------------------------+---------------------------------------+------------+------------+\n",
      "only showing top 20 rows\n",
      "\n"
     ]
    },
    {
     "name": "stderr",
     "output_type": "stream",
     "text": [
      "                                                                                \r"
     ]
    }
   ],
   "source": [
    "province_df.sort(\"Diện tích đất trung bình(m^2)\", ascending=False)\\\n",
    "           .show()"
   ]
  },
  {
   "cell_type": "code",
   "execution_count": 12,
   "metadata": {
    "colab": {
     "base_uri": "https://localhost:8080/",
     "height": 484
    },
    "id": "wS8OkuFipZuU",
    "outputId": "ce716f33-870b-47fd-aa5c-7048ff845cb8"
   },
   "outputs": [
    {
     "name": "stderr",
     "output_type": "stream",
     "text": [
      "22/01/02 14:00:01 WARN WindowExec: No Partition Defined for Window operation! Moving all data to a single partition, this can cause serious performance degradation.\n",
      "22/01/02 14:00:01 WARN WindowExec: No Partition Defined for Window operation! Moving all data to a single partition, this can cause serious performance degradation.\n",
      "22/01/02 14:00:06 WARN WindowExec: No Partition Defined for Window operation! Moving all data to a single partition, this can cause serious performance degradation.\n",
      "22/01/02 14:00:06 WARN WindowExec: No Partition Defined for Window operation! Moving all data to a single partition, this can cause serious performance degradation.\n",
      "                                                                                \r"
     ]
    },
    {
     "data": {
      "image/png": "[encoded data removed]",
      "text/plain": [
       "<Figure size 1080x576 with 1 Axes>"
      ]
     },
     "metadata": {
      "needs_background": "light"
     },
     "output_type": "display_data"
    }
   ],
   "source": [
    "visualize_df = province_df.sort(\"Diện tích đất trung bình(m^2)\", ascending=False).limit(6).toPandas()\n",
    "visualize_bar_chart(['Giá tiền'], [list(visualize_df['Giá trị trung bình của 1 m^2(triệu VNĐ)'])], list(visualize_df['Tỉnh']), rotation=False)"
   ]
  },
  {
   "cell_type": "code",
   "execution_count": null,
   "metadata": {
    "id": "dJm3ioqZEl8f"
   },
   "outputs": [],
   "source": [
    "# Phân tích chi tiết từng tỉnh\n",
    "detail_province_df = df.filter(df[\"Mức giá/Diện tích\"].isNotNull() & df[\"Tỉnh\"].isNotNull()\\\n",
    "                               & (df[\"Mức giá/Diện tích\"] > 0.1) & (df[\"Mức giá/Diện tích\"] < 10000))\\\n",
    "                       .groupBy(\"Tỉnh\",\"Loại tin đăng\")\\\n",
    "                       .agg(func.mean(\"Diện tích\").alias(\"Diện tích đất trung bình(m^2)\"),\\\n",
    "                            func.max(\"Diện tích\").alias(\"Diện tích đất lớn nhất(m^2)\"),\\\n",
    "                            func.min(\"Diện tích\").alias(\"Diện tích đất nhỏ nhất(m^2)\"),\\\n",
    "                            func.mean(\"Mức giá\").alias(\"Mức giá đất trung bình(triệu VNĐ)\"),\\\n",
    "                            func.max(\"Mức giá\").alias(\"Mức giá đất lớn nhất(triệu VNĐ)\"),\\\n",
    "                            func.min(\"Mức giá\").alias(\"Mức giá đất nhỏ nhất(triệu VNĐ)\"),\\\n",
    "                            func.mean(\"Mức giá/Diện tích\").alias(\"Giá trị trung bình của 1 m^2(triệu VNĐ)\"),\\\n",
    "                            func.max(\"Mức giá/Diện tích\").alias(\"Giá trị cao nhất của 1 m^2(triệu VNĐ)\"),\\\n",
    "                            func.min(\"Mức giá/Diện tích\").alias(\"Giá trị thấp nhất của 1 m^2(triệu VNĐ)\"),\\\n",
    "                            func.count(\"Mã tin\").alias(\"Số lượng tin\"))\n",
    "detail_province_df = detail_province_df\\\n",
    "                    .withColumn(\"Giá trị trung bình của 1 m^2(triệu VNĐ)\", func.round(detail_province_df[\"Giá trị trung bình của 1 m^2(triệu VNĐ)\"], 2))\\\n",
    "                    .withColumn(\"Diện tích đất trung bình(m^2)\", func.round(detail_province_df[\"Diện tích đất trung bình(m^2)\"], 2))\\\n",
    "                    .withColumn(\"Mức giá đất trung bình(triệu VNĐ)\", func.round(detail_province_df[\"Mức giá đất trung bình(triệu VNĐ)\"], 2))\\\n",
    "                    .withColumn(\"Tỉ lệ tin(%)\", func.col(\"Số lượng tin\")/func.sum(\"Số lượng tin\").over(Window.partitionBy())*100)\n",
    "detail_province_df = detail_province_df\\\n",
    "                    .withColumn(\"Tỉ lệ tin(%)\", func.round(detail_province_df[\"Tỉ lệ tin(%)\"], 2))\n"
   ]
  },
  {
   "cell_type": "code",
   "execution_count": null,
   "metadata": {
    "colab": {
     "base_uri": "https://localhost:8080/"
    },
    "id": "ShyMS5VxE9Mo",
    "outputId": "bf352dd6-f111-4a2b-f71d-05f51c9187d1"
   },
   "outputs": [],
   "source": [
    "detail_province_df.sort(\"Giá trị trung bình của 1 m^2(triệu VNĐ)\", ascending = False)\\\n",
    "                  .show()"
   ]
  },
  {
   "cell_type": "code",
   "execution_count": null,
   "metadata": {
    "id": "h8ErSHF4SJ0H"
   },
   "outputs": [],
   "source": [
    "# Phân tích chi tiết từng quận ở 1 tỉnh\n",
    "PROVINCE = \"Hà Nội\"\n",
    "TYPE = \"Bán nhà mặt phố\"\n",
    "\n",
    "district_price = df.filter(df[\"Mức giá/Diện tích\"].isNotNull() & (df[\"Tỉnh\"] == PROVINCE)\\\n",
    "                            & (df[\"Mức giá/Diện tích\"] > 0.1) & (df[\"Mức giá/Diện tích\"] < 10000) & (df[\"Loại tin đăng\"].startswith(TYPE)))\\\n",
    "                   .groupby(\"Quận/Huyện\",\"Loại tin đăng\")\\\n",
    "                   .agg(func.mean(\"Diện tích\").alias(\"Diện tích đất trung bình(m^2)\"),\\\n",
    "                        func.max(\"Diện tích\").alias(\"Diện tích đất lớn nhất(m^2)\"),\\\n",
    "                        func.min(\"Diện tích\").alias(\"Diện tích đất nhỏ nhất(m^2)\"),\\\n",
    "                        func.mean(\"Mức giá\").alias(\"Mức giá đất trung bình(triệu VNĐ)\"),\\\n",
    "                        func.max(\"Mức giá\").alias(\"Mức giá đất lớn nhất(triệu VNĐ)\"),\\\n",
    "                        func.min(\"Mức giá\").alias(\"Mức giá đất nhỏ nhất(triệu VNĐ)\"),\\\n",
    "                        func.mean(\"Mức giá/Diện tích\").alias(\"Giá trị trung bình của 1 m^2(triệu VNĐ)\"),\\\n",
    "                        func.max(\"Mức giá/Diện tích\").alias(\"Giá trị cao nhất của 1 m^2(triệu VNĐ)\"),\\\n",
    "                        func.min(\"Mức giá/Diện tích\").alias(\"Giá trị thấp nhất của 1 m^2(triệu VNĐ)\"),\\\n",
    "                        func.count(\"Mã tin\").alias(\"Số lượng tin\"))\n",
    "district_price = district_price\\\n",
    "  .withColumn(\"Giá trị trung bình của 1 m^2(triệu VNĐ)\", func.round(district_price[\"Giá trị trung bình của 1 m^2(triệu VNĐ)\"], 2))\\\n",
    "  .withColumn(\"Diện tích đất trung bình(m^2)\", func.round(district_price[\"Diện tích đất trung bình(m^2)\"], 2))\\\n",
    "  .withColumn(\"Mức giá đất trung bình(triệu VNĐ)\", func.round(district_price[\"Mức giá đất trung bình(triệu VNĐ)\"], 2))\\\n",
    "  .withColumn(\"Tỉ lệ tin(%)\", func.col(\"Số lượng tin\")/func.sum(\"Số lượng tin\").over(Window.partitionBy())*100)\n",
    "district_price = district_price\\\n",
    "  .withColumn(\"Tỉ lệ tin(%)\", func.round(district_price[\"Tỉ lệ tin(%)\"], 2))"
   ]
  },
  {
   "cell_type": "code",
   "execution_count": null,
   "metadata": {
    "colab": {
     "base_uri": "https://localhost:8080/"
    },
    "id": "Z9xIAdhVGuM2",
    "outputId": "0b4676cd-4881-4a2f-fccf-ece9ca024847"
   },
   "outputs": [
    {
     "name": "stdout",
     "output_type": "stream",
     "text": [
      "+-----------------+--------------------+-----------------------------+---------------------------+---------------------------+---------------------------------+-------------------------------+-------------------------------+---------------------------------------+-------------------------------------+--------------------------------------+------------+------------+\n",
      "|       Quận/Huyện|       Loại tin đăng|Diện tích đất trung bình(m^2)|Diện tích đất lớn nhất(m^2)|Diện tích đất nhỏ nhất(m^2)|Mức giá đất trung bình(triệu VNĐ)|Mức giá đất lớn nhất(triệu VNĐ)|Mức giá đất nhỏ nhất(triệu VNĐ)|Giá trị trung bình của 1 m^2(triệu VNĐ)|Giá trị cao nhất của 1 m^2(triệu VNĐ)|Giá trị thấp nhất của 1 m^2(triệu VNĐ)|Số lượng tin|Tỉ lệ tin(%)|\n",
      "+-----------------+--------------------+-----------------------------+---------------------------+---------------------------+---------------------------------+-------------------------------+-------------------------------+---------------------------------------+-------------------------------------+--------------------------------------+------------+------------+\n",
      "|   Quận Hoàn Kiếm|Bán nhà mặt phố (...|                        238.9|                    35000.0|                        2.6|                         139900.8|                      5400000.0|                         3000.0|                                 523.26|                              2307.69|                                 41.28|         976|       12.31|\n",
      "|     Quận Ba Đình|Bán nhà mặt phố (...|                       135.03|                     2300.0|                       16.0|                         54389.61|                       930000.0|                        0.00234|                                 398.78|                              1045.45|                                   0.0|         787|        9.93|\n",
      "|Quận Hai Bà Trưng|Bán nhà mặt phố (...|                       122.02|                     1148.8|                        8.5|                         51801.17|                       564000.0|                            3.7|                                 388.82|                              1152.17|                                  0.25|         782|        9.86|\n",
      "|      Quận Tây Hồ|Bán nhà mặt phố (...|                       174.81|                     3626.8|                       19.0|                         66898.24|                       760000.0|                         2900.0|                                 386.23|                              1021.74|                                  7.25|         739|        9.32|\n",
      "|     Quận Đống Đa|Bán nhà mặt phố (...|                        127.0|                    10000.0|                       19.2|                         43147.31|                       350000.0|                          960.0|                                 356.06|                               730.34|                                  19.2|        1038|       13.09|\n",
      "|    Quận Cầu Giấy|Bán nhà mặt phố (...|                       140.59|                     3300.0|                       10.0|                         47793.33|                       950000.0|                           16.0|                                 338.47|                              2305.56|                                   0.2|        1320|       16.65|\n",
      "|  Quận Thanh Xuân|Bán nhà mặt phố (...|                       139.19|                     2250.0|                       28.0|                         38238.72|                       600000.0|                           15.5|                                 267.15|                               595.24|                                  0.26|         492|        6.21|\n",
      "| Quận Bắc Từ Liêm|Bán nhà mặt phố (...|                       135.99|                     2500.0|                       24.0|                         33938.33|                       630000.0|                          12.39|                                 230.99|                               638.46|                                   0.2|         379|        4.78|\n",
      "|   Quận Long Biên|Bán nhà mặt phố (...|                       112.31|                     1650.0|                       20.0|                         20226.58|                       360000.0|                         2150.0|                                 179.61|                               522.22|                                 23.85|         557|        7.03|\n",
      "|     Quận Hà Đông|Bán nhà mặt phố (...|                        385.0|                   200000.0|                       23.5|                         15425.29|                       140000.0|                         2326.5|                                 174.61|                               424.24|                                  0.25|         672|        8.48|\n",
      "|  Huyện Thanh Trì|Bán nhà mặt phố (...|                       121.41|                      950.0|                       32.0|                         20250.31|                       120000.0|                         3100.0|                                 127.63|                               382.17|                                 33.68|          70|        0.88|\n",
      "|    Huyện Gia Lâm|Bán nhà mặt phố (...|                       118.43|                      366.5|                       40.0|                         13732.34|                        36800.0|                         2650.0|                                 124.24|                               260.87|                                 34.11|          62|        0.78|\n",
      "|   Huyện Hoài Đức|Bán nhà mặt phố (...|                        92.08|                      286.0|                       28.0|                          8621.08|                        22800.0|                         2400.0|                                 112.69|                                200.0|                                 54.32|          13|        0.16|\n",
      "| Huyện Thường Tín|Bán nhà mặt phố (...|                         80.0|                       80.0|                       80.0|                           8900.0|                         8900.0|                         8900.0|                                 111.25|                               111.25|                                111.25|           1|        0.01|\n",
      "|   Huyện Đông Anh|Bán nhà mặt phố (...|                        87.73|                      230.0|                       40.0|                          7444.76|                        15900.0|                         1800.0|                                  85.46|                                161.9|                                  30.0|          25|        0.32|\n",
      "|    Huyện Ứng Hòa|Bán nhà mặt phố (...|                       193.86|                      264.3|                       93.5|                          12310.0|                        19050.0|                         6100.0|                                  64.04|                                 75.0|                                 52.97|           5|        0.06|\n",
      "|      Huyện Ba Vì|Bán nhà mặt phố (...|                        352.5|                      460.0|                       90.0|                           6462.5|                        15000.0|                         3250.0|                                  47.83|                               166.67|                                  8.12|           4|        0.05|\n",
      "|  Huyện Chương Mỹ|Bán nhà mặt phố (...|                        135.2|                      166.5|                       91.5|                           4300.0|                         5300.0|                         3800.0|                                  33.04|                                41.53|                                 25.75|           3|        0.04|\n",
      "|    Huyện Sóc Sơn|Bán nhà mặt phố (...|                        400.0|                      400.0|                      400.0|                          11500.0|                        11500.0|                        11500.0|                                  28.75|                                28.75|                                 28.75|           1|        0.01|\n",
      "|   Huyện Quốc Oai|Bán nhà mặt phố (...|                        105.9|                      110.0|                      101.8|                           2525.0|                         2600.0|                         2450.0|                                  23.86|                                24.07|                                 23.64|           2|        0.03|\n",
      "+-----------------+--------------------+-----------------------------+---------------------------+---------------------------+---------------------------------+-------------------------------+-------------------------------+---------------------------------------+-------------------------------------+--------------------------------------+------------+------------+\n",
      "\n"
     ]
    }
   ],
   "source": [
    "district_price.sort(\"Giá trị trung bình của 1 m^2(triệu VNĐ)\", ascending = False)\\\n",
    "              .show()"
   ]
  },
  {
   "cell_type": "code",
   "execution_count": null,
   "metadata": {
    "colab": {
     "base_uri": "https://localhost:8080/",
     "height": 338
    },
    "id": "7FMKUpJbAR3N",
    "outputId": "33db5dc2-04df-425e-d884-e5bf159b51fc"
   },
   "outputs": [
    {
     "data": {
      "image/png": "[encoded data removed]",
      "text/plain": [
       "<Figure size 864x360 with 1 Axes>"
      ]
     },
     "metadata": {
      "needs_background": "light"
     },
     "output_type": "display_data"
    }
   ],
   "source": [
    "import matplotlib.pyplot as plt\n",
    "import numpy as np\n",
    "\n",
    "plot_data = district_price.limit(5).toPandas()\n",
    "x = list(plot_data['Quận/Huyện'])\n",
    "ind = np.arange(len(x))\n",
    "\n",
    "max_value = list(plot_data['Giá trị cao nhất của 1 m^2(triệu VNĐ)'])\n",
    "min_value = list(plot_data['Giá trị thấp nhất của 1 m^2(triệu VNĐ)'])\n",
    "average_value = list(plot_data['Giá trị trung bình của 1 m^2(triệu VNĐ)'])\n",
    "\n",
    "w = 0.2\n",
    "ax = plt.figure(figsize = (12, 5))\n",
    "#ax.bar(ind-0.3, max_value, width=0.2, color='b', align='center')\n",
    "plt.bar(ind-w, max_value, width=0.2, color='g', align='center', label = \"Max\")\n",
    "plt.bar(ind, average_value, width=0.2, color='b', align='center', label = \"Average\")\n",
    "plt.bar(ind+w, min_value, width=0.2, color='r', align='center', label = \"Min\")\n",
    "plt.title(\"Mức giá theo từng quận/huyện ở Hà Nội\")\n",
    "plt.xticks(ind, x)\n",
    "plt.legend()\n",
    "plt.show()\n",
    "#plt.autoscale(tight=True)\n",
    "#ax.set_xticklabels(x)"
   ]
  },
  {
   "cell_type": "code",
   "execution_count": null,
   "metadata": {
    "colab": {
     "base_uri": "https://localhost:8080/"
    },
    "id": "gt9cawNCZc61",
    "outputId": "f1928dbb-7a6c-41db-a931-c4b38160e894"
   },
   "outputs": [
    {
     "data": {
      "text/plain": [
       "0.1"
      ]
     },
     "execution_count": 2,
     "metadata": {},
     "output_type": "execute_result"
    }
   ],
   "source": [
    "round(float(1.0/10),1)"
   ]
  },
  {
   "cell_type": "code",
   "execution_count": null,
   "metadata": {
    "id": "YX0QF77WTT69"
   },
   "outputs": [],
   "source": [
    "### Save analysis file\n",
    "district_price.toPandas().to_csv(\"district_price_analysis.csv\")"
   ]
  },
  {
   "cell_type": "markdown",
   "metadata": {
    "id": "zbHWfRIuUVyx"
   },
   "source": [
    "# Analysis description"
   ]
  },
  {
   "cell_type": "code",
   "execution_count": null,
   "metadata": {
    "id": "ijI-nK3TVqPJ"
   },
   "outputs": [],
   "source": [
    "# Các chủ đầu tư tham gia vào nhiều dự án nhất\n",
    "investors_df= df.groupby(\"Chủ đầu tư\")\\\n",
    "                .agg(func.sum(\"Diện tích\").alias(\"Tổng diện tích đất giao bán(m^2)\"),\\\n",
    "                     func.sum(\"Mức giá\").alias(\"Tổng giá trị đất giao bán(nghìn tỉ VNĐ)\"),\\\n",
    "                     func.count(\"Chủ đầu tư\").alias(\"Số dự án tham gia\"))\n",
    "investors_df = investors_df\\\n",
    "               .withColumn(\"Tổng diện tích đất giao bán(m^2)\", func.round(investors_df[\"Tổng diện tích đất giao bán(m^2)\"], 2))\\\n",
    "               .withColumn(\"Tỉ lệ tham gia dự án(%)\", func.col(\"Số dự án tham gia\")/func.sum(\"Số dự án tham gia\").over(Window.partitionBy())*100)\\\n",
    "               .withColumn(\"Tổng giá trị đất giao bán(nghìn tỉ VNĐ)\", investors_df[\"Tổng giá trị đất giao bán(nghìn tỉ VNĐ)\"]/1000000)\n",
    "investors_df = investors_df\\\n",
    "               .withColumn(\"Tỉ lệ tham gia dự án(%)\", func.round(investors_df[\"Tỉ lệ tham gia dự án(%)\"], 2))\\\n",
    "               .withColumn(\"Tổng giá trị đất giao bán(nghìn tỉ VNĐ)\", func.round(investors_df[\"Tổng giá trị đất giao bán(nghìn tỉ VNĐ)\"], 2))"
   ]
  },
  {
   "cell_type": "code",
   "execution_count": null,
   "metadata": {
    "colab": {
     "base_uri": "https://localhost:8080/"
    },
    "id": "guVerdGuxujY",
    "outputId": "db3bda05-d2ba-4446-c2f0-dd4b5539829a"
   },
   "outputs": [
    {
     "name": "stdout",
     "output_type": "stream",
     "text": [
      "+--------------------+--------------------------------+---------------------------------------+-----------------+-----------------------+\n",
      "|          Chủ đầu tư|Tổng diện tích đất giao bán(m^2)|Tổng giá trị đất giao bán(nghìn tỉ VNĐ)|Số dự án tham gia|Tỉ lệ tham gia dự án(%)|\n",
      "+--------------------+--------------------------------+---------------------------------------+-----------------+-----------------------+\n",
      "|   Tập đoàn Vingroup|                       687775.76|                                  75.68|             5025|                   9.37|\n",
      "|      Novaland Group|                       261552.11|                                  17.95|             2508|                   4.68|\n",
      "|Công ty CP Tập đo...|                       192582.03|                                   9.08|             2155|                   4.02|\n",
      "|Công ty TNHH Phát...|                       270770.07|                                   37.9|             1772|                   3.31|\n",
      "|Tổng Công ty Đầu ...|                       242525.85|                                  13.14|             1086|                   2.03|\n",
      "|Công ty CP Đầu tư...|                        95906.63|                                   5.55|              960|                   1.79|\n",
      "|Công ty Cổ phần T...|                        92542.59|                                   4.06|              737|                   1.37|\n",
      "|Công ty CP Đầu tư...|                         62548.8|                                   1.11|              734|                   1.37|\n",
      "|  Tập đoàn Sun Group|                       121244.95|                                   7.11|              733|                   1.37|\n",
      "|Công ty Cổ Phần Đ...|                        99315.71|                                   8.78|              724|                   1.35|\n",
      "| Tập đoàn CapitaLand|                        90340.57|                                   5.62|              671|                   1.25|\n",
      "|Công ty CP Tập đo...|                        95807.49|                                   6.71|              625|                   1.17|\n",
      "|Công ty TNHH Kepp...|                        72358.41|                                   6.27|              602|                   1.12|\n",
      "|  Công ty CP Him Lam|                        54907.55|                                   6.46|              466|                   0.87|\n",
      "|Tổng công ty Đầu ...|                        83310.09|                                   7.24|              463|                   0.86|\n",
      "|Tổng Công ty Vigl...|                       164198.29|                                    3.6|              460|                   0.86|\n",
      "|Công ty CP Phát t...|                        36593.31|                                   1.33|              454|                   0.85|\n",
      "|Công ty TNHH Gamu...|                        49083.84|                                   2.79|              453|                   0.84|\n",
      "|Công ty TNHH phát...|                        75084.54|                                   8.68|              444|                   0.83|\n",
      "|Công ty CP Tập đo...|                       107863.21|                                   2.74|              422|                   0.79|\n",
      "+--------------------+--------------------------------+---------------------------------------+-----------------+-----------------------+\n",
      "only showing top 20 rows\n",
      "\n"
     ]
    }
   ],
   "source": [
    "investors_df.sort(\"Số dự án tham gia\", ascending=False)\\\n",
    "            .show()"
   ]
  },
  {
   "cell_type": "markdown",
   "metadata": {
    "id": "FA69KrX3JeSg"
   },
   "source": [
    "# MLLib"
   ]
  },
  {
   "cell_type": "code",
   "execution_count": null,
   "metadata": {
    "colab": {
     "base_uri": "https://localhost:8080/",
     "height": 269
    },
    "id": "O8l_ZGV0HM3b",
    "outputId": "29b431db-6b7c-4928-93c6-189c34f2e203"
   },
   "outputs": [
    {
     "data": {
      "text/html": [
       "<style  type=\"text/css\" >\n",
       "#T_12246d5a_6b12_11ec_a6ba_0242ac1c0002row0_col0{\n",
       "            background-color:  #fde725;\n",
       "            color:  #000000;\n",
       "        }#T_12246d5a_6b12_11ec_a6ba_0242ac1c0002row1_col0{\n",
       "            background-color:  #228c8d;\n",
       "            color:  #000000;\n",
       "        }#T_12246d5a_6b12_11ec_a6ba_0242ac1c0002row2_col0{\n",
       "            background-color:  #433d84;\n",
       "            color:  #f1f1f1;\n",
       "        }#T_12246d5a_6b12_11ec_a6ba_0242ac1c0002row3_col0{\n",
       "            background-color:  #463480;\n",
       "            color:  #f1f1f1;\n",
       "        }#T_12246d5a_6b12_11ec_a6ba_0242ac1c0002row4_col0{\n",
       "            background-color:  #481f70;\n",
       "            color:  #f1f1f1;\n",
       "        }#T_12246d5a_6b12_11ec_a6ba_0242ac1c0002row5_col0{\n",
       "            background-color:  #470e61;\n",
       "            color:  #f1f1f1;\n",
       "        }#T_12246d5a_6b12_11ec_a6ba_0242ac1c0002row6_col0{\n",
       "            background-color:  #440154;\n",
       "            color:  #f1f1f1;\n",
       "        }</style><table id=\"T_12246d5a_6b12_11ec_a6ba_0242ac1c0002\" class=\"dataframe\"><thead>    <tr>        <th class=\"blank level0\" ></th>        <th class=\"col_heading level0 col0\" >Mức giá</th>    </tr></thead><tbody>\n",
       "                <tr>\n",
       "                        <th id=\"T_12246d5a_6b12_11ec_a6ba_0242ac1c0002level0_row0\" class=\"row_heading level0 row0\" >Mức giá</th>\n",
       "                        <td id=\"T_12246d5a_6b12_11ec_a6ba_0242ac1c0002row0_col0\" class=\"data row0 col0\" >1.000000</td>\n",
       "            </tr>\n",
       "            <tr>\n",
       "                        <th id=\"T_12246d5a_6b12_11ec_a6ba_0242ac1c0002level0_row1\" class=\"row_heading level0 row1\" >Diện tích</th>\n",
       "                        <td id=\"T_12246d5a_6b12_11ec_a6ba_0242ac1c0002row1_col0\" class=\"data row1 col0\" >0.489584</td>\n",
       "            </tr>\n",
       "            <tr>\n",
       "                        <th id=\"T_12246d5a_6b12_11ec_a6ba_0242ac1c0002level0_row2\" class=\"row_heading level0 row2\" >Đường vào</th>\n",
       "                        <td id=\"T_12246d5a_6b12_11ec_a6ba_0242ac1c0002row2_col0\" class=\"data row2 col0\" >0.185214</td>\n",
       "            </tr>\n",
       "            <tr>\n",
       "                        <th id=\"T_12246d5a_6b12_11ec_a6ba_0242ac1c0002level0_row3\" class=\"row_heading level0 row3\" >Mặt tiền</th>\n",
       "                        <td id=\"T_12246d5a_6b12_11ec_a6ba_0242ac1c0002row3_col0\" class=\"data row3 col0\" >0.160617</td>\n",
       "            </tr>\n",
       "            <tr>\n",
       "                        <th id=\"T_12246d5a_6b12_11ec_a6ba_0242ac1c0002level0_row4\" class=\"row_heading level0 row4\" >Số phòng ngủ</th>\n",
       "                        <td id=\"T_12246d5a_6b12_11ec_a6ba_0242ac1c0002row4_col0\" class=\"data row4 col0\" >0.093217</td>\n",
       "            </tr>\n",
       "            <tr>\n",
       "                        <th id=\"T_12246d5a_6b12_11ec_a6ba_0242ac1c0002level0_row5\" class=\"row_heading level0 row5\" >Số toilet</th>\n",
       "                        <td id=\"T_12246d5a_6b12_11ec_a6ba_0242ac1c0002row5_col0\" class=\"data row5 col0\" >0.049255</td>\n",
       "            </tr>\n",
       "            <tr>\n",
       "                        <th id=\"T_12246d5a_6b12_11ec_a6ba_0242ac1c0002level0_row6\" class=\"row_heading level0 row6\" >Số tầng</th>\n",
       "                        <td id=\"T_12246d5a_6b12_11ec_a6ba_0242ac1c0002row6_col0\" class=\"data row6 col0\" >0.011073</td>\n",
       "            </tr>\n",
       "    </tbody></table>"
      ],
      "text/plain": [
       "<pandas.io.formats.style.Styler at 0x7fe242466850>"
      ]
     },
     "execution_count": 36,
     "metadata": {},
     "output_type": "execute_result"
    }
   ],
   "source": [
    "corr = data.corr()\n",
    "corr[['Mức giá']].sort_values(by='Mức giá',ascending=False).style.background_gradient(cmap='viridis', axis=None)"
   ]
  },
  {
   "cell_type": "code",
   "execution_count": null,
   "metadata": {
    "colab": {
     "base_uri": "https://localhost:8080/",
     "height": 363
    },
    "id": "GEXssEL7K2MG",
    "outputId": "c5945f0f-33b6-48f3-f82f-24479020cd1e"
   },
   "outputs": [
    {
     "data": {
      "text/html": [
       "\n",
       "  <div id=\"df-37f57027-6207-43bf-a7e3-9c1a5fde06a6\">\n",
       "    <div class=\"colab-df-container\">\n",
       "      <div>\n",
       "<style scoped>\n",
       "    .dataframe tbody tr th:only-of-type {\n",
       "        vertical-align: middle;\n",
       "    }\n",
       "\n",
       "    .dataframe tbody tr th {\n",
       "        vertical-align: top;\n",
       "    }\n",
       "\n",
       "    .dataframe thead th {\n",
       "        text-align: right;\n",
       "    }\n",
       "</style>\n",
       "<table border=\"1\" class=\"dataframe\">\n",
       "  <thead>\n",
       "    <tr style=\"text-align: right;\">\n",
       "      <th></th>\n",
       "      <th>Mức giá</th>\n",
       "      <th>Diện tích</th>\n",
       "      <th>Mặt tiền</th>\n",
       "      <th>Đường vào</th>\n",
       "      <th>Số tầng</th>\n",
       "      <th>Số phòng ngủ</th>\n",
       "      <th>Số toilet</th>\n",
       "      <th>Address</th>\n",
       "    </tr>\n",
       "  </thead>\n",
       "  <tbody>\n",
       "    <tr>\n",
       "      <th>0</th>\n",
       "      <td>4100.0</td>\n",
       "      <td>100.0</td>\n",
       "      <td>-1.0</td>\n",
       "      <td>-1.0</td>\n",
       "      <td>2</td>\n",
       "      <td>3</td>\n",
       "      <td>2</td>\n",
       "      <td>Thành phố Thủ Dầu Một (tỉnh lỵ)</td>\n",
       "    </tr>\n",
       "    <tr>\n",
       "      <th>1</th>\n",
       "      <td>2350.0</td>\n",
       "      <td>98.0</td>\n",
       "      <td>-1.0</td>\n",
       "      <td>3.0</td>\n",
       "      <td>-1</td>\n",
       "      <td>2</td>\n",
       "      <td>1</td>\n",
       "      <td>Thành phố Thủ Dầu Một (tỉnh lỵ)</td>\n",
       "    </tr>\n",
       "    <tr>\n",
       "      <th>2</th>\n",
       "      <td>1800.0</td>\n",
       "      <td>88.5</td>\n",
       "      <td>15.0</td>\n",
       "      <td>3.5</td>\n",
       "      <td>-1</td>\n",
       "      <td>-1</td>\n",
       "      <td>-1</td>\n",
       "      <td>Thành phố Thủ Dầu Một (tỉnh lỵ)</td>\n",
       "    </tr>\n",
       "    <tr>\n",
       "      <th>3</th>\n",
       "      <td>7900.0</td>\n",
       "      <td>108.0</td>\n",
       "      <td>-1.0</td>\n",
       "      <td>8.0</td>\n",
       "      <td>4</td>\n",
       "      <td>6</td>\n",
       "      <td>5</td>\n",
       "      <td>Thành phố Thủ Dầu Một (tỉnh lỵ)</td>\n",
       "    </tr>\n",
       "    <tr>\n",
       "      <th>4</th>\n",
       "      <td>5200.0</td>\n",
       "      <td>100.0</td>\n",
       "      <td>5.0</td>\n",
       "      <td>8.0</td>\n",
       "      <td>2</td>\n",
       "      <td>3</td>\n",
       "      <td>2</td>\n",
       "      <td>Thành phố Thủ Dầu Một (tỉnh lỵ)</td>\n",
       "    </tr>\n",
       "    <tr>\n",
       "      <th>5</th>\n",
       "      <td>4800.0</td>\n",
       "      <td>69.0</td>\n",
       "      <td>5.0</td>\n",
       "      <td>5.0</td>\n",
       "      <td>3</td>\n",
       "      <td>3</td>\n",
       "      <td>3</td>\n",
       "      <td>Thành phố Thủ Dầu Một (tỉnh lỵ)</td>\n",
       "    </tr>\n",
       "    <tr>\n",
       "      <th>6</th>\n",
       "      <td>3050.0</td>\n",
       "      <td>64.0</td>\n",
       "      <td>4.0</td>\n",
       "      <td>5.0</td>\n",
       "      <td>2</td>\n",
       "      <td>3</td>\n",
       "      <td>2</td>\n",
       "      <td>Thành phố Thủ Dầu Một (tỉnh lỵ)</td>\n",
       "    </tr>\n",
       "    <tr>\n",
       "      <th>7</th>\n",
       "      <td>3900.0</td>\n",
       "      <td>90.5</td>\n",
       "      <td>5.0</td>\n",
       "      <td>6.0</td>\n",
       "      <td>2</td>\n",
       "      <td>3</td>\n",
       "      <td>2</td>\n",
       "      <td>Thành phố Thủ Dầu Một (tỉnh lỵ)</td>\n",
       "    </tr>\n",
       "    <tr>\n",
       "      <th>8</th>\n",
       "      <td>3100.0</td>\n",
       "      <td>85.0</td>\n",
       "      <td>5.0</td>\n",
       "      <td>4.0</td>\n",
       "      <td>2</td>\n",
       "      <td>3</td>\n",
       "      <td>2</td>\n",
       "      <td>Thành phố Thủ Dầu Một (tỉnh lỵ)</td>\n",
       "    </tr>\n",
       "    <tr>\n",
       "      <th>9</th>\n",
       "      <td>4200.0</td>\n",
       "      <td>60.0</td>\n",
       "      <td>6.0</td>\n",
       "      <td>5.0</td>\n",
       "      <td>2</td>\n",
       "      <td>2</td>\n",
       "      <td>2</td>\n",
       "      <td>Thành phố Thủ Dầu Một (tỉnh lỵ)</td>\n",
       "    </tr>\n",
       "  </tbody>\n",
       "</table>\n",
       "</div>\n",
       "      <button class=\"colab-df-convert\" onclick=\"convertToInteractive('df-37f57027-6207-43bf-a7e3-9c1a5fde06a6')\"\n",
       "              title=\"Convert this dataframe to an interactive table.\"\n",
       "              style=\"display:none;\">\n",
       "        \n",
       "  <svg xmlns=\"http://www.w3.org/2000/svg\" height=\"24px\"viewBox=\"0 0 24 24\"\n",
       "       width=\"24px\">\n",
       "    <path d=\"M0 0h24v24H0V0z\" fill=\"none\"/>\n",
       "    <path d=\"M18.56 5.44l.94 2.06.94-2.06 2.06-.94-2.06-.94-.94-2.06-.94 2.06-2.06.94zm-11 1L8.5 8.5l.94-2.06 2.06-.94-2.06-.94L8.5 2.5l-.94 2.06-2.06.94zm10 10l.94 2.06.94-2.06 2.06-.94-2.06-.94-.94-2.06-.94 2.06-2.06.94z\"/><path d=\"M17.41 7.96l-1.37-1.37c-.4-.4-.92-.59-1.43-.59-.52 0-1.04.2-1.43.59L10.3 9.45l-7.72 7.72c-.78.78-.78 2.05 0 2.83L4 21.41c.39.39.9.59 1.41.59.51 0 1.02-.2 1.41-.59l7.78-7.78 2.81-2.81c.8-.78.8-2.07 0-2.86zM5.41 20L4 18.59l7.72-7.72 1.47 1.35L5.41 20z\"/>\n",
       "  </svg>\n",
       "      </button>\n",
       "      \n",
       "  <style>\n",
       "    .colab-df-container {\n",
       "      display:flex;\n",
       "      flex-wrap:wrap;\n",
       "      gap: 12px;\n",
       "    }\n",
       "\n",
       "    .colab-df-convert {\n",
       "      background-color: #E8F0FE;\n",
       "      border: none;\n",
       "      border-radius: 50%;\n",
       "      cursor: pointer;\n",
       "      display: none;\n",
       "      fill: #1967D2;\n",
       "      height: 32px;\n",
       "      padding: 0 0 0 0;\n",
       "      width: 32px;\n",
       "    }\n",
       "\n",
       "    .colab-df-convert:hover {\n",
       "      background-color: #E2EBFA;\n",
       "      box-shadow: 0px 1px 2px rgba(60, 64, 67, 0.3), 0px 1px 3px 1px rgba(60, 64, 67, 0.15);\n",
       "      fill: #174EA6;\n",
       "    }\n",
       "\n",
       "    [theme=dark] .colab-df-convert {\n",
       "      background-color: #3B4455;\n",
       "      fill: #D2E3FC;\n",
       "    }\n",
       "\n",
       "    [theme=dark] .colab-df-convert:hover {\n",
       "      background-color: #434B5C;\n",
       "      box-shadow: 0px 1px 3px 1px rgba(0, 0, 0, 0.15);\n",
       "      filter: drop-shadow(0px 1px 2px rgba(0, 0, 0, 0.3));\n",
       "      fill: #FFFFFF;\n",
       "    }\n",
       "  </style>\n",
       "\n",
       "      <script>\n",
       "        const buttonEl =\n",
       "          document.querySelector('#df-37f57027-6207-43bf-a7e3-9c1a5fde06a6 button.colab-df-convert');\n",
       "        buttonEl.style.display =\n",
       "          google.colab.kernel.accessAllowed ? 'block' : 'none';\n",
       "\n",
       "        async function convertToInteractive(key) {\n",
       "          const element = document.querySelector('#df-37f57027-6207-43bf-a7e3-9c1a5fde06a6');\n",
       "          const dataTable =\n",
       "            await google.colab.kernel.invokeFunction('convertToInteractive',\n",
       "                                                     [key], {});\n",
       "          if (!dataTable) return;\n",
       "\n",
       "          const docLinkHtml = 'Like what you see? Visit the ' +\n",
       "            '<a target=\"_blank\" href=https://colab.research.google.com/notebooks/data_table.ipynb>data table notebook</a>'\n",
       "            + ' to learn more about interactive tables.';\n",
       "          element.innerHTML = '';\n",
       "          dataTable['output_type'] = 'display_data';\n",
       "          await google.colab.output.renderOutput(dataTable, element);\n",
       "          const docLink = document.createElement('div');\n",
       "          docLink.innerHTML = docLinkHtml;\n",
       "          element.appendChild(docLink);\n",
       "        }\n",
       "      </script>\n",
       "    </div>\n",
       "  </div>\n",
       "  "
      ],
      "text/plain": [
       "   Mức giá  Diện tích  ...  Số toilet                          Address\n",
       "0   4100.0      100.0  ...          2  Thành phố Thủ Dầu Một (tỉnh lỵ)\n",
       "1   2350.0       98.0  ...          1  Thành phố Thủ Dầu Một (tỉnh lỵ)\n",
       "2   1800.0       88.5  ...         -1  Thành phố Thủ Dầu Một (tỉnh lỵ)\n",
       "3   7900.0      108.0  ...          5  Thành phố Thủ Dầu Một (tỉnh lỵ)\n",
       "4   5200.0      100.0  ...          2  Thành phố Thủ Dầu Một (tỉnh lỵ)\n",
       "5   4800.0       69.0  ...          3  Thành phố Thủ Dầu Một (tỉnh lỵ)\n",
       "6   3050.0       64.0  ...          2  Thành phố Thủ Dầu Một (tỉnh lỵ)\n",
       "7   3900.0       90.5  ...          2  Thành phố Thủ Dầu Một (tỉnh lỵ)\n",
       "8   3100.0       85.0  ...          2  Thành phố Thủ Dầu Một (tỉnh lỵ)\n",
       "9   4200.0       60.0  ...          2  Thành phố Thủ Dầu Một (tỉnh lỵ)\n",
       "\n",
       "[10 rows x 8 columns]"
      ]
     },
     "execution_count": 45,
     "metadata": {},
     "output_type": "execute_result"
    }
   ],
   "source": [
    "data = data.fillna(-1)\n",
    "data.head(10)"
   ]
  },
  {
   "cell_type": "code",
   "execution_count": null,
   "metadata": {
    "colab": {
     "base_uri": "https://localhost:8080/",
     "height": 367
    },
    "id": "seCrJunnLFVD",
    "outputId": "ebc8d3ac-fa2c-4fd3-fdeb-292376da901e"
   },
   "outputs": [
    {
     "data": {
      "text/plain": [
       "Text(0.5, 1.0, 'GarageCars vs SalePrice')"
      ]
     },
     "execution_count": 57,
     "metadata": {},
     "output_type": "execute_result"
    },
    {
     "data": {
      "image/png": "[encoded data removed]",
      "text/plain": [
       "<Figure size 1080x360 with 4 Axes>"
      ]
     },
     "metadata": {
      "needs_background": "light"
     },
     "output_type": "display_data"
    }
   ],
   "source": [
    "fig, axes = plt.subplots(1, 4, sharex=True, figsize=(15,5))\n",
    "#axes[0].set_xlim(0,10)\n",
    "\n",
    "sns.scatterplot(data=data, ax=axes[0], x='Diện tích', y='Mặt tiền')\n",
    "axes[0].set_title('OverallQual vs SalePrice')\n",
    "sns.scatterplot(data=data, ax=axes[1], x='Diện tích', y='Số tầng')\n",
    "axes[1].set_title('GarageCars vs SalePrice')\n",
    "sns.scatterplot(data=data, ax=axes[2], x='Diện tích', y='Số phòng ngủ')\n",
    "axes[1].set_title('GarageCars vs SalePrice')\n",
    "sns.scatterplot(data=data, ax=axes[3], x='Diện tích', y='Số toilet')\n",
    "axes[1].set_title('GarageCars vs SalePrice')"
   ]
  },
  {
   "cell_type": "code",
   "execution_count": null,
   "metadata": {
    "colab": {
     "base_uri": "https://localhost:8080/"
    },
    "id": "Nqc_fPrkQRig",
    "outputId": "48b03808-e387-4daa-bebb-7bc092cc11d2"
   },
   "outputs": [
    {
     "data": {
      "text/plain": [
       "204"
      ]
     },
     "execution_count": 73,
     "metadata": {},
     "output_type": "execute_result"
    }
   ],
   "source": [
    "len(data[data['Số toilet']>20])"
   ]
  },
  {
   "cell_type": "code",
   "execution_count": null,
   "metadata": {
    "id": "aE7WaQQnMOM7"
   },
   "outputs": [],
   "source": [
    "data= data.drop((data[(data['Mặt tiền']>30) | (data['Diện tích']>1000) | (data['Số phòng ngủ']>20) | (data['Số toilet']>20)].index))"
   ]
  },
  {
   "cell_type": "code",
   "execution_count": null,
   "metadata": {
    "id": "XBLTAHwJR6Ak"
   },
   "outputs": [],
   "source": [
    "from sklearn.model_selection import train_test_split\n",
    "\n",
    "pd_train, pd_test = train_test_split(data, test_size=0.15)"
   ]
  },
  {
   "cell_type": "code",
   "execution_count": null,
   "metadata": {
    "id": "Qv5oTC0eH-eC"
   },
   "outputs": [],
   "source": [
    "from sklearn import preprocessing\n",
    "le = preprocessing.LabelEncoder()\n",
    "le.fit(pd_train['Address'])\n",
    "pd_train['Address'] = le.transform(pd_train['Address'])\n",
    "pd_test['Address'] = le.transform(pd_test['Address'])"
   ]
  },
  {
   "cell_type": "code",
   "execution_count": null,
   "metadata": {
    "id": "vfIUZvFSSJIF"
   },
   "outputs": [],
   "source": [
    "train_df = spark.createDataFrame(pd_train)\n",
    "test_df = spark.createDataFrame(pd_test)"
   ]
  },
  {
   "cell_type": "code",
   "execution_count": null,
   "metadata": {
    "colab": {
     "base_uri": "https://localhost:8080/"
    },
    "id": "47H7VwfYSoqt",
    "outputId": "f1f75429-0cf5-4211-b73c-e500e763705f"
   },
   "outputs": [
    {
     "name": "stdout",
     "output_type": "stream",
     "text": [
      "+-------+---------+--------+---------+-------+------------+---------+-------+\n",
      "|Mức giá|Diện tích|Mặt tiền|Đường vào|Số tầng|Số phòng ngủ|Số toilet|Address|\n",
      "+-------+---------+--------+---------+-------+------------+---------+-------+\n",
      "| 4150.0|     35.0|     4.0|      3.0|      5|           3|        4|      4|\n",
      "| 4500.0|     51.0|     4.3|      9.0|      2|           2|        2|      3|\n",
      "| 7600.0|     40.0|    -1.0|     -1.0|      5|          -1|       -1|      9|\n",
      "| 1800.0|     39.0|     5.0|     -1.0|      3|           3|        3|      0|\n",
      "|14900.0|     95.0|    -1.0|     -1.0|      5|           6|        8|      3|\n",
      "+-------+---------+--------+---------+-------+------------+---------+-------+\n",
      "only showing top 5 rows\n",
      "\n"
     ]
    }
   ],
   "source": [
    "test_df.show(5)"
   ]
  },
  {
   "cell_type": "code",
   "execution_count": null,
   "metadata": {
    "id": "ToC_5l6NT2wj"
   },
   "outputs": [],
   "source": [
    "from pyspark.ml.feature import VectorAssembler\n",
    "vectorAssembler = VectorAssembler(inputCols = train_df.drop(\"Mức giá\").columns, outputCol = 'features').setHandleInvalid(\"keep\")\n",
    "\n",
    "train_vector = vectorAssembler.transform(train_df)"
   ]
  },
  {
   "cell_type": "code",
   "execution_count": null,
   "metadata": {
    "id": "AytK5Gl4URJ9"
   },
   "outputs": [],
   "source": [
    "vectorAssembler2 = VectorAssembler(inputCols = test_df.drop(\"Mức giá\").columns, outputCol = 'features').setHandleInvalid(\"keep\")\n",
    "\n",
    "test_vector = vectorAssembler2.transform(test_df)"
   ]
  },
  {
   "cell_type": "code",
   "execution_count": null,
   "metadata": {
    "id": "NszpqAvxUfPM"
   },
   "outputs": [],
   "source": [
    "#from pyspark.ml.feature import StandardScaler\n",
    "scaler = StandardScaler(inputCol=\"features\", outputCol=\"scaledFeatures\", withStd=True, withMean=False)\n",
    "scalerModel = scaler.fit(train_vector)\n",
    "scaled_train = scalerModel.transform(train_vector)\n",
    "\n",
    "scalerModel2 = scaler.fit(test_vector)\n",
    "scaled_test = scalerModel2.transform(test_vector)"
   ]
  },
  {
   "cell_type": "code",
   "execution_count": null,
   "metadata": {
    "colab": {
     "base_uri": "https://localhost:8080/"
    },
    "id": "1rqR55meVU39",
    "outputId": "10455066-dddf-4342-cb75-b84f25265903"
   },
   "outputs": [
    {
     "name": "stdout",
     "output_type": "stream",
     "text": [
      "+-------+---------+--------+---------+-------+------------+---------+-------+--------------------+--------------------+\n",
      "|Mức giá|Diện tích|Mặt tiền|Đường vào|Số tầng|Số phòng ngủ|Số toilet|Address|            features|      scaledFeatures|\n",
      "+-------+---------+--------+---------+-------+------------+---------+-------+--------------------+--------------------+\n",
      "| 6650.0|     82.0|    6.48|      8.0|      4|           4|        5|      3|[82.0,6.48,8.0,4....|[1.55202022030022...|\n",
      "|19000.0|     64.0|    -1.0|     -1.0|     -1|          -1|       -1|      3|[64.0,-1.0,-1.0,-...|[1.21133285486846...|\n",
      "| 4100.0|     50.7|    -1.0|     -1.0|     -1|          -1|       -1|     22|[50.7,-1.0,-1.0,-...|[0.95960274596611...|\n",
      "| 7900.0|     63.0|    -1.0|     -1.0|     -1|           3|       -1|      5|[63.0,-1.0,-1.0,-...|[1.19240577901114...|\n",
      "| 4500.0|     64.0|    -1.0|      8.0|      3|           4|        4|      3|[64.0,-1.0,8.0,3....|[1.21133285486846...|\n",
      "+-------+---------+--------+---------+-------+------------+---------+-------+--------------------+--------------------+\n",
      "only showing top 5 rows\n",
      "\n"
     ]
    }
   ],
   "source": [
    "scaled_train.show(5)"
   ]
  },
  {
   "cell_type": "code",
   "execution_count": null,
   "metadata": {
    "colab": {
     "base_uri": "https://localhost:8080/"
    },
    "id": "tdzeE358UrJV",
    "outputId": "ec6183b4-644c-4125-a8f5-92f2637ea789"
   },
   "outputs": [
    {
     "name": "stdout",
     "output_type": "stream",
     "text": [
      "RMSE: 7991.678340\n",
      "r2: 0.421645\n",
      "+------------------+-------+--------------------+\n",
      "|        prediction|Mức giá|      scaledFeatures|\n",
      "+------------------+-------+--------------------+\n",
      "|  6482.89550297895| 4150.0|[0.67881991248299...|\n",
      "|  6640.44843632443| 4500.0|[0.98913758676093...|\n",
      "| 7455.403147846682| 7600.0|[0.77579418569485...|\n",
      "| 6247.414694413271| 1800.0|[0.75639933105248...|\n",
      "|14508.477990170839|14900.0|[1.84251119102527...|\n",
      "+------------------+-------+--------------------+\n",
      "only showing top 5 rows\n",
      "\n",
      "R Squared (R2) on val data = 0.463612\n"
     ]
    }
   ],
   "source": [
    "# Simple baseline (linreg)\n",
    "\n",
    "from pyspark.ml.regression import LinearRegression\n",
    "\n",
    "lr = LinearRegression(featuresCol = 'scaledFeatures', labelCol='Mức giá', maxIter=10, \n",
    "                      regParam=0.8, elasticNetParam=0.1) # It is always a good idea to play with hyperparameters.\n",
    "lr_model = lr.fit(scaled_train)\n",
    "\n",
    "trainingSummary = lr_model.summary\n",
    "print(\"RMSE: %f\" % trainingSummary.rootMeanSquaredError)\n",
    "print(\"r2: %f\" % trainingSummary.r2)\n",
    "\n",
    "lr_predictions = lr_model.transform(scaled_test)\n",
    "lr_predictions.select(\"prediction\",\"Mức giá\",\"scaledFeatures\").show(5)\n",
    "\n",
    "from pyspark.ml.evaluation import RegressionEvaluator\n",
    "lr_evaluator = RegressionEvaluator(predictionCol=\"prediction\", \\\n",
    "                 labelCol=\"Mức giá\",metricName=\"r2\")\n",
    "print(\"R Squared (R2) on val data = %g\" % lr_evaluator.evaluate(lr_predictions))"
   ]
  },
  {
   "cell_type": "code",
   "execution_count": null,
   "metadata": {
    "colab": {
     "base_uri": "https://localhost:8080/"
    },
    "id": "oczvCbzRWe3u",
    "outputId": "f1bfe6b2-958f-4652-f5a4-f4c95a67d64f"
   },
   "outputs": [
    {
     "name": "stdout",
     "output_type": "stream",
     "text": [
      "+------------------+-------+--------------------+\n",
      "|        prediction|Mức giá|      scaledFeatures|\n",
      "+------------------+-------+--------------------+\n",
      "| 3880.233530758681| 4150.0|[0.67881991248299...|\n",
      "| 5044.895000000001| 4500.0|[0.98913758676093...|\n",
      "| 9029.467620124973| 7600.0|[0.77579418569485...|\n",
      "|2375.8690476190477| 1800.0|[0.75639933105248...|\n",
      "|15774.916666666666|14900.0|[1.84251119102527...|\n",
      "+------------------+-------+--------------------+\n",
      "only showing top 5 rows\n",
      "\n",
      "R Squared (R2) on val data = 0.625795\n"
     ]
    }
   ],
   "source": [
    "# A more complex model with RF\n",
    "\n",
    "from pyspark.ml.regression import RandomForestRegressor\n",
    "\n",
    "rf = RandomForestRegressor(featuresCol = 'scaledFeatures', labelCol='Mức giá', \n",
    "                           maxDepth=20, \n",
    "                           minInstancesPerNode=2,\n",
    "                           bootstrap=True\n",
    "                          )\n",
    "rf_model = rf.fit(scaled_train)\n",
    "\n",
    "rf_predictions = rf_model.transform(scaled_test)\n",
    "rf_predictions.select(\"prediction\",\"Mức giá\",\"scaledFeatures\").show(5)\n",
    "\n",
    "from pyspark.ml.evaluation import RegressionEvaluator\n",
    "rf_evaluator = RegressionEvaluator(predictionCol=\"prediction\", \\\n",
    "                 labelCol=\"Mức giá\",metricName=\"r2\")\n",
    "print(\"R Squared (R2) on val data = %g\" % rf_evaluator.evaluate(rf_predictions))"
   ]
  },
  {
   "cell_type": "code",
   "execution_count": null,
   "metadata": {
    "id": "OxOqLPD5YC-G"
   },
   "outputs": [],
   "source": []
  }
 ],
 "metadata": {
  "colab": {
   "collapsed_sections": [],
   "name": "BigDataProjectNotebook.ipynb",
   "provenance": []
  },
  "kernelspec": {
   "display_name": "Python 3 (ipykernel)",
   "language": "python",
   "name": "python3"
  },
  "language_info": {
   "codemirror_mode": {
    "name": "ipython",
    "version": 3
   },
   "file_extension": ".py",
   "mimetype": "text/x-python",
   "name": "python",
   "nbconvert_exporter": "python",
   "pygments_lexer": "ipython3",
   "version": "3.9.7"
  }
 },
 "nbformat": 4,
 "nbformat_minor": 1
}
