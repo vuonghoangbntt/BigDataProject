{
 "cells": [
  {
   "cell_type": "code",
   "execution_count": 1,
   "id": "2b7e4470",
   "metadata": {},
   "outputs": [
    {
     "name": "stderr",
     "output_type": "stream",
     "text": [
      "Warning: Ignoring non-Spark config property: spark-master\n",
      "WARNING: An illegal reflective access operation has occurred\n",
      "WARNING: Illegal reflective access by org.apache.spark.unsafe.Platform (file:/usr/local/spark-3.2.0-bin-hadoop3.2/jars/spark-unsafe_2.12-3.2.0.jar) to constructor java.nio.DirectByteBuffer(long,int)\n",
      "WARNING: Please consider reporting this to the maintainers of org.apache.spark.unsafe.Platform\n",
      "WARNING: Use --illegal-access=warn to enable warnings of further illegal reflective access operations\n",
      "WARNING: All illegal access operations will be denied in a future release\n",
      "Using Spark's default log4j profile: org/apache/spark/log4j-defaults.properties\n",
      "Setting default log level to \"WARN\".\n",
      "To adjust logging level use sc.setLogLevel(newLevel). For SparkR, use setLogLevel(newLevel).\n",
      "22/01/01 16:24:34 WARN NativeCodeLoader: Unable to load native-hadoop library for your platform... using builtin-java classes where applicable\n"
     ]
    }
   ],
   "source": [
    "#!/usr/bin/python\n",
    "# -*- coding: utf-8 -*-\n",
    "from pyspark import SparkContext\n",
    "from pyspark.streaming import StreamingContext\n",
    "from pyspark.sql import SparkSession\n",
    "from pyspark.sql import functions as func\n",
    "\n",
    "spark = SparkSession.builder\\\n",
    "        .master(\"local\")\\\n",
    "        .appName(\"House_Price_Prediction\")\\\n",
    "        .config('spark-master', '7077')\\\n",
    "        .config(\"spark.cleaner.referenceTracking.cleanCheckpoints\", \"true\")\\\n",
    "        .getOrCreate()"
   ]
  },
  {
   "cell_type": "code",
   "execution_count": 21,
   "id": "5af19266",
   "metadata": {},
   "outputs": [
    {
     "name": "stderr",
     "output_type": "stream",
     "text": [
      "/usr/local/spark/python/pyspark/sql/context.py:77: FutureWarning: Deprecated in 3.0.0. Use SparkSession.builder.getOrCreate() instead.\n",
      "  warnings.warn(\n"
     ]
    }
   ],
   "source": [
    "spark_context = spark.sparkContext\n",
    "spark_sql_context = SQLContext(spark_context)"
   ]
  },
  {
   "cell_type": "markdown",
   "id": "2c74644a",
   "metadata": {},
   "source": [
    "## Preprocess"
   ]
  },
  {
   "cell_type": "code",
   "execution_count": 2,
   "id": "6a211dbe",
   "metadata": {},
   "outputs": [],
   "source": [
    "from pyspark import SparkConf, SparkContext\n",
    "from pyspark.sql import SparkSession, SQLContext\n",
    "\n",
    "from pyspark.sql.types import *\n",
    "import pyspark.sql.functions as F\n",
    "from pyspark.sql.functions import udf, col\n",
    "\n",
    "from pyspark.ml.regression import LinearRegression\n",
    "from pyspark.mllib.evaluation import RegressionMetrics\n",
    "\n",
    "from pyspark.ml.tuning import ParamGridBuilder, CrossValidator, CrossValidatorModel\n",
    "from pyspark.ml.feature import VectorAssembler, StandardScaler\n",
    "from pyspark.ml.evaluation import RegressionEvaluator"
   ]
  },
  {
   "cell_type": "code",
   "execution_count": 8,
   "id": "ce4398d9",
   "metadata": {},
   "outputs": [
    {
     "name": "stderr",
     "output_type": "stream",
     "text": [
      "                                                                                \r"
     ]
    },
    {
     "name": "stdout",
     "output_type": "stream",
     "text": [
      "+-------+---------+--------------------+--------------------+--------+---------+--------------+-------+------------+---------+-------+--------------------+--------------------+----------+------------+-------+---------+---------+----------+-----------+-------------+-------------------+\n",
      "|Mức giá|Diện tích|       Loại tin đăng|             Địa chỉ|Mặt tiền|Đường vào|Hướng ban công|Số tầng|Số phòng ngủ|Số toilet|Pháp lý|           Tên dự án|          Chủ đầu tư| Ngày đăng|Ngày hết hạn| Mã tin|Phòng ngủ|Hướng nhà|  Loại tin|       Tỉnh|   Quận/Huyện|     Thời gian đăng|\n",
      "+-------+---------+--------------------+--------------------+--------+---------+--------------+-------+------------+---------+-------+--------------------+--------------------+----------+------------+-------+---------+---------+----------+-----------+-------------+-------------------+\n",
      "|   null|    201.0|Bán nhà biệt thự,...|Dự án Yên Hòa, Cầ...|    13.0|     null|          null|      4|          -1|       -1|   null|  Khu đô thị Yên Hòa|Tổng công ty Đầu ...|09/11/2021|  19/11/2021|2790817|     null| Đông-Nam|Tin thường|     Hà Nội|Quận Cầu Giấy|2021-06-01 00:00:00|\n",
      "| 6990.0|     84.0|       Bán nhà riêng|Đường Cống Lở, Ph...|     5.0|      6.0|          null|      4|           4|        5|   null|                null|                null|04/11/2021|  11/11/2021|2952646|     4 PN| Đông-Nam|Tin thường|Hồ Chí Minh|Quận Bình Tân|2021-06-01 00:01:30|\n",
      "| 7500.0|     90.0|Bán đất nền dự án...|Dự án Phú Mỹ 2, Đ...|     5.0|     30.0|          null|     -1|          -1|       -1|  Sổ đỏ|Khu tái định cư P...| Công ty CP Đức Khải|11/11/2021|  18/11/2021|3675193|     null|      Bắc|Tin thường|Hồ Chí Minh|       Quận 1|2021-06-01 00:03:00|\n",
      "|28000.0|    220.5|Bán nhà biệt thự,...|Dự án KDC Phú Mỹ,...|    null|     null|           Nam|      3|           5|        6|   null|   Khu dân cư Phú Mỹ|Công ty CP Vạn Ph...|05/11/2021|  12/11/2021|3741671|     5 PN|      Nam|Tin thường|Hồ Chí Minh|       Quận 1|2021-06-01 00:04:30|\n",
      "| 7800.0|    145.0| Bán căn hộ chung cư|Dự án Xi Rivervie...|    null|     null|          null|     -1|           3|        3|   null| Xi Riverview Palace|    Công ty GS E & C|02/11/2021|  10/11/2021|3873467|     3 PN|     null|Tin thường|Hồ Chí Minh|       Quận 1|2021-06-01 00:06:00|\n",
      "+-------+---------+--------------------+--------------------+--------+---------+--------------+-------+------------+---------+-------+--------------------+--------------------+----------+------------+-------+---------+---------+----------+-----------+-------------+-------------------+\n",
      "only showing top 5 rows\n",
      "\n"
     ]
    }
   ],
   "source": [
    "# Đọc dữ liệu \n",
    "df = spark.read.csv('hdfs://namenode:9000/bigdataproject/raws_data/data.csv', escape = \"\\\"\", header = True, inferSchema=True,multiLine=True)\n",
    "df.show(5)"
   ]
  },
  {
   "cell_type": "code",
   "execution_count": 14,
   "id": "65780ce6",
   "metadata": {},
   "outputs": [],
   "source": [
    "df = df.where(df['Mức giá'].isNotNull()&df['Diện tích'].isNotNull()).withColumn('Mức giá/Diện tích', func.round(func.col('Mức giá')/func.col('Diện tích'),2))"
   ]
  },
  {
   "cell_type": "code",
   "execution_count": 15,
   "id": "2ff9d876",
   "metadata": {},
   "outputs": [
    {
     "name": "stdout",
     "output_type": "stream",
     "text": [
      "+-------+---------+--------+---------+-------+------------+---------+-----------+-------------+\n",
      "|Mức giá|Diện tích|Mặt tiền|Đường vào|Số tầng|Số phòng ngủ|Số toilet|       Tỉnh|   Quận/Huyện|\n",
      "+-------+---------+--------+---------+-------+------------+---------+-----------+-------------+\n",
      "| 6990.0|     84.0|     5.0|      6.0|      4|           4|        5|Hồ Chí Minh|Quận Bình Tân|\n",
      "| 5500.0|     67.2|    null|      8.0|      3|           4|        5|Hồ Chí Minh|Quận Bình Tân|\n",
      "| 4500.0|     72.0|     4.0|     null|      3|           4|        4|Hồ Chí Minh|Quận Bình Tân|\n",
      "| 2450.0|     60.0|     4.0|      3.0|     -1|           3|        3|Hồ Chí Minh|Huyện Hóc Môn|\n",
      "| 5350.0|     68.0|     4.0|      5.0|      4|           4|        4|Hồ Chí Minh|Quận Bình Tân|\n",
      "+-------+---------+--------+---------+-------+------------+---------+-----------+-------------+\n",
      "only showing top 5 rows\n",
      "\n"
     ]
    }
   ],
   "source": [
    "### Features filtering\n",
    "new_df = df.filter((df['Loại tin đăng'] == 'Bán nhà riêng') & (df[\"Mức giá/Diện tích\"] > 0.1) & (df[\"Mức giá/Diện tích\"] < 10000)).select('Mức giá','Diện tích','Mặt tiền','Đường vào','Số tầng','Số phòng ngủ','Số toilet','Tỉnh','Quận/Huyện')\n",
    "new_df.show(5)"
   ]
  },
  {
   "cell_type": "code",
   "execution_count": 16,
   "id": "09d90270",
   "metadata": {},
   "outputs": [],
   "source": [
    "filter_df = new_df.groupby('Quận/Huyện')\\\n",
    "            .agg(func.count('Mức giá').alias('Số lượng tin'))\\\n",
    "            .sort('Số lượng tin', ascending=False)\\\n",
    "            .filter(func.col('Số lượng tin')>300)"
   ]
  },
  {
   "cell_type": "code",
   "execution_count": 17,
   "id": "ffbd1bb0",
   "metadata": {},
   "outputs": [
    {
     "name": "stderr",
     "output_type": "stream",
     "text": [
      "\r",
      "[Stage 12:>                                                         (0 + 1) / 1]\r"
     ]
    },
    {
     "name": "stdout",
     "output_type": "stream",
     "text": [
      "+----------------+------------+\n",
      "|      Quận/Huyện|Số lượng tin|\n",
      "+----------------+------------+\n",
      "|          Quận 1|        4566|\n",
      "|   Quận Cầu Giấy|        3392|\n",
      "|   Quận Bình Tân|        3198|\n",
      "|    Quận Đống Đa|        2812|\n",
      "|Quận Bắc Từ Liêm|        2417|\n",
      "+----------------+------------+\n",
      "only showing top 5 rows\n",
      "\n"
     ]
    },
    {
     "name": "stderr",
     "output_type": "stream",
     "text": [
      "\r",
      "                                                                                \r"
     ]
    }
   ],
   "source": [
    "filter_df.show(5)"
   ]
  },
  {
   "cell_type": "code",
   "execution_count": 23,
   "id": "b447983a",
   "metadata": {},
   "outputs": [
    {
     "name": "stderr",
     "output_type": "stream",
     "text": [
      "                                                                                \r"
     ]
    }
   ],
   "source": [
    "data = new_df.withColumn('Address',func.col('Quận/Huyện'))\\\n",
    "            .join(filter_df, filter_df['Quận/Huyện']==new_df['Quận/Huyện'], \"inner\")\\\n",
    "            .select('Mức giá','Diện tích','Mặt tiền','Đường vào','Số tầng','Số phòng ngủ','Số toilet','Address').toPandas()"
   ]
  },
  {
   "cell_type": "code",
   "execution_count": 26,
   "id": "d405cbc4",
   "metadata": {},
   "outputs": [
    {
     "data": {
      "text/html": [
       "<div>\n",
       "<style scoped>\n",
       "    .dataframe tbody tr th:only-of-type {\n",
       "        vertical-align: middle;\n",
       "    }\n",
       "\n",
       "    .dataframe tbody tr th {\n",
       "        vertical-align: top;\n",
       "    }\n",
       "\n",
       "    .dataframe thead th {\n",
       "        text-align: right;\n",
       "    }\n",
       "</style>\n",
       "<table border=\"1\" class=\"dataframe\">\n",
       "  <thead>\n",
       "    <tr style=\"text-align: right;\">\n",
       "      <th></th>\n",
       "      <th>Mức giá</th>\n",
       "      <th>Diện tích</th>\n",
       "      <th>Mặt tiền</th>\n",
       "      <th>Đường vào</th>\n",
       "      <th>Số tầng</th>\n",
       "      <th>Số phòng ngủ</th>\n",
       "      <th>Số toilet</th>\n",
       "      <th>Address</th>\n",
       "    </tr>\n",
       "  </thead>\n",
       "  <tbody>\n",
       "    <tr>\n",
       "      <th>0</th>\n",
       "      <td>6990.0</td>\n",
       "      <td>84.0</td>\n",
       "      <td>5.0</td>\n",
       "      <td>6.0</td>\n",
       "      <td>4</td>\n",
       "      <td>4</td>\n",
       "      <td>5</td>\n",
       "      <td>Quận Bình Tân</td>\n",
       "    </tr>\n",
       "    <tr>\n",
       "      <th>1</th>\n",
       "      <td>5500.0</td>\n",
       "      <td>67.2</td>\n",
       "      <td>-1.0</td>\n",
       "      <td>8.0</td>\n",
       "      <td>3</td>\n",
       "      <td>4</td>\n",
       "      <td>5</td>\n",
       "      <td>Quận Bình Tân</td>\n",
       "    </tr>\n",
       "    <tr>\n",
       "      <th>2</th>\n",
       "      <td>4500.0</td>\n",
       "      <td>72.0</td>\n",
       "      <td>4.0</td>\n",
       "      <td>-1.0</td>\n",
       "      <td>3</td>\n",
       "      <td>4</td>\n",
       "      <td>4</td>\n",
       "      <td>Quận Bình Tân</td>\n",
       "    </tr>\n",
       "    <tr>\n",
       "      <th>3</th>\n",
       "      <td>5350.0</td>\n",
       "      <td>68.0</td>\n",
       "      <td>4.0</td>\n",
       "      <td>5.0</td>\n",
       "      <td>4</td>\n",
       "      <td>4</td>\n",
       "      <td>4</td>\n",
       "      <td>Quận Bình Tân</td>\n",
       "    </tr>\n",
       "    <tr>\n",
       "      <th>4</th>\n",
       "      <td>6350.0</td>\n",
       "      <td>75.6</td>\n",
       "      <td>4.2</td>\n",
       "      <td>7.0</td>\n",
       "      <td>-1</td>\n",
       "      <td>4</td>\n",
       "      <td>4</td>\n",
       "      <td>Quận Bình Tân</td>\n",
       "    </tr>\n",
       "    <tr>\n",
       "      <th>5</th>\n",
       "      <td>3200.0</td>\n",
       "      <td>40.0</td>\n",
       "      <td>-1.0</td>\n",
       "      <td>3.0</td>\n",
       "      <td>2</td>\n",
       "      <td>2</td>\n",
       "      <td>2</td>\n",
       "      <td>Quận Bình Tân</td>\n",
       "    </tr>\n",
       "    <tr>\n",
       "      <th>6</th>\n",
       "      <td>6750.0</td>\n",
       "      <td>85.0</td>\n",
       "      <td>4.0</td>\n",
       "      <td>5.0</td>\n",
       "      <td>4</td>\n",
       "      <td>4</td>\n",
       "      <td>5</td>\n",
       "      <td>Quận Bình Tân</td>\n",
       "    </tr>\n",
       "    <tr>\n",
       "      <th>7</th>\n",
       "      <td>5100.0</td>\n",
       "      <td>67.6</td>\n",
       "      <td>5.2</td>\n",
       "      <td>5.0</td>\n",
       "      <td>4</td>\n",
       "      <td>4</td>\n",
       "      <td>5</td>\n",
       "      <td>Quận Bình Tân</td>\n",
       "    </tr>\n",
       "    <tr>\n",
       "      <th>8</th>\n",
       "      <td>7500.0</td>\n",
       "      <td>56.0</td>\n",
       "      <td>-1.0</td>\n",
       "      <td>-1.0</td>\n",
       "      <td>3</td>\n",
       "      <td>-1</td>\n",
       "      <td>-1</td>\n",
       "      <td>Quận Bình Tân</td>\n",
       "    </tr>\n",
       "    <tr>\n",
       "      <th>9</th>\n",
       "      <td>3800.0</td>\n",
       "      <td>42.0</td>\n",
       "      <td>4.2</td>\n",
       "      <td>11.5</td>\n",
       "      <td>4</td>\n",
       "      <td>6</td>\n",
       "      <td>3</td>\n",
       "      <td>Huyện Hoài Đức</td>\n",
       "    </tr>\n",
       "  </tbody>\n",
       "</table>\n",
       "</div>"
      ],
      "text/plain": [
       "   Mức giá  Diện tích  Mặt tiền  Đường vào  Số tầng  Số phòng ngủ  Số toilet  \\\n",
       "0   6990.0       84.0       5.0        6.0        4             4          5   \n",
       "1   5500.0       67.2      -1.0        8.0        3             4          5   \n",
       "2   4500.0       72.0       4.0       -1.0        3             4          4   \n",
       "3   5350.0       68.0       4.0        5.0        4             4          4   \n",
       "4   6350.0       75.6       4.2        7.0       -1             4          4   \n",
       "5   3200.0       40.0      -1.0        3.0        2             2          2   \n",
       "6   6750.0       85.0       4.0        5.0        4             4          5   \n",
       "7   5100.0       67.6       5.2        5.0        4             4          5   \n",
       "8   7500.0       56.0      -1.0       -1.0        3            -1         -1   \n",
       "9   3800.0       42.0       4.2       11.5        4             6          3   \n",
       "\n",
       "          Address  \n",
       "0   Quận Bình Tân  \n",
       "1   Quận Bình Tân  \n",
       "2   Quận Bình Tân  \n",
       "3   Quận Bình Tân  \n",
       "4   Quận Bình Tân  \n",
       "5   Quận Bình Tân  \n",
       "6   Quận Bình Tân  \n",
       "7   Quận Bình Tân  \n",
       "8   Quận Bình Tân  \n",
       "9  Huyện Hoài Đức  "
      ]
     },
     "execution_count": 26,
     "metadata": {},
     "output_type": "execute_result"
    }
   ],
   "source": [
    "data = data.fillna(-1)\n",
    "data.head(10)"
   ]
  },
  {
   "cell_type": "code",
   "execution_count": 27,
   "id": "e6f0b9b2",
   "metadata": {},
   "outputs": [
    {
     "data": {
      "text/html": [
       "<style type=\"text/css\">\n",
       "#T_7a6bf_row0_col0 {\n",
       "  background-color: #fde725;\n",
       "  color: #000000;\n",
       "}\n",
       "#T_7a6bf_row1_col0 {\n",
       "  background-color: #228c8d;\n",
       "  color: #f1f1f1;\n",
       "}\n",
       "#T_7a6bf_row2_col0 {\n",
       "  background-color: #481f70;\n",
       "  color: #f1f1f1;\n",
       "}\n",
       "#T_7a6bf_row3_col0 {\n",
       "  background-color: #481467;\n",
       "  color: #f1f1f1;\n",
       "}\n",
       "#T_7a6bf_row4_col0 {\n",
       "  background-color: #470e61;\n",
       "  color: #f1f1f1;\n",
       "}\n",
       "#T_7a6bf_row5_col0 {\n",
       "  background-color: #460a5d;\n",
       "  color: #f1f1f1;\n",
       "}\n",
       "#T_7a6bf_row6_col0 {\n",
       "  background-color: #440154;\n",
       "  color: #f1f1f1;\n",
       "}\n",
       "</style>\n",
       "<table id=\"T_7a6bf_\">\n",
       "  <thead>\n",
       "    <tr>\n",
       "      <th class=\"blank level0\" >&nbsp;</th>\n",
       "      <th class=\"col_heading level0 col0\" >Mức giá</th>\n",
       "    </tr>\n",
       "  </thead>\n",
       "  <tbody>\n",
       "    <tr>\n",
       "      <th id=\"T_7a6bf_level0_row0\" class=\"row_heading level0 row0\" >Mức giá</th>\n",
       "      <td id=\"T_7a6bf_row0_col0\" class=\"data row0 col0\" >1.000000</td>\n",
       "    </tr>\n",
       "    <tr>\n",
       "      <th id=\"T_7a6bf_level0_row1\" class=\"row_heading level0 row1\" >Diện tích</th>\n",
       "      <td id=\"T_7a6bf_row1_col0\" class=\"data row1 col0\" >0.489584</td>\n",
       "    </tr>\n",
       "    <tr>\n",
       "      <th id=\"T_7a6bf_level0_row2\" class=\"row_heading level0 row2\" >Số phòng ngủ</th>\n",
       "      <td id=\"T_7a6bf_row2_col0\" class=\"data row2 col0\" >0.093217</td>\n",
       "    </tr>\n",
       "    <tr>\n",
       "      <th id=\"T_7a6bf_level0_row3\" class=\"row_heading level0 row3\" >Mặt tiền</th>\n",
       "      <td id=\"T_7a6bf_row3_col0\" class=\"data row3 col0\" >0.062380</td>\n",
       "    </tr>\n",
       "    <tr>\n",
       "      <th id=\"T_7a6bf_level0_row4\" class=\"row_heading level0 row4\" >Số toilet</th>\n",
       "      <td id=\"T_7a6bf_row4_col0\" class=\"data row4 col0\" >0.049255</td>\n",
       "    </tr>\n",
       "    <tr>\n",
       "      <th id=\"T_7a6bf_level0_row5\" class=\"row_heading level0 row5\" >Đường vào</th>\n",
       "      <td id=\"T_7a6bf_row5_col0\" class=\"data row5 col0\" >0.034488</td>\n",
       "    </tr>\n",
       "    <tr>\n",
       "      <th id=\"T_7a6bf_level0_row6\" class=\"row_heading level0 row6\" >Số tầng</th>\n",
       "      <td id=\"T_7a6bf_row6_col0\" class=\"data row6 col0\" >0.011073</td>\n",
       "    </tr>\n",
       "  </tbody>\n",
       "</table>\n"
      ],
      "text/plain": [
       "<pandas.io.formats.style.Styler at 0x7fc5a9a4a9a0>"
      ]
     },
     "execution_count": 27,
     "metadata": {},
     "output_type": "execute_result"
    }
   ],
   "source": [
    "corr = data.corr()\n",
    "corr[['Mức giá']].sort_values(by='Mức giá',ascending=False).style.background_gradient(cmap='viridis', axis=None)"
   ]
  },
  {
   "cell_type": "code",
   "execution_count": 28,
   "id": "d65092f1",
   "metadata": {},
   "outputs": [],
   "source": [
    "import matplotlib.pyplot as plt\n",
    "import seaborn as sns\n",
    "\n",
    "from scipy import stats\n",
    "from scipy.stats import norm, skew "
   ]
  },
  {
   "cell_type": "code",
   "execution_count": 29,
   "id": "38ef6411",
   "metadata": {},
   "outputs": [
    {
     "data": {
      "text/plain": [
       "Text(0.5, 1.0, 'Diện tích vs Số toilet')"
      ]
     },
     "execution_count": 29,
     "metadata": {},
     "output_type": "execute_result"
    },
    {
     "data": {
      "image/png": "[encoded data removed]",
      "text/plain": [
       "<Figure size 1080x360 with 4 Axes>"
      ]
     },
     "metadata": {
      "needs_background": "light"
     },
     "output_type": "display_data"
    }
   ],
   "source": [
    "fig, axes = plt.subplots(1, 4, sharex=True, figsize=(15,5))\n",
    "#axes[0].set_xlim(0,10)\n",
    "\n",
    "sns.scatterplot(data=data, ax=axes[0], x='Diện tích', y='Mặt tiền')\n",
    "axes[0].set_title('Diện tích vs Mặt tiền')\n",
    "sns.scatterplot(data=data, ax=axes[1], x='Diện tích', y='Số tầng')\n",
    "axes[1].set_title('Diện tích vs Số tầng')\n",
    "sns.scatterplot(data=data, ax=axes[2], x='Diện tích', y='Số phòng ngủ')\n",
    "axes[1].set_title('Diện tích vs Số phòng ngủ')\n",
    "sns.scatterplot(data=data, ax=axes[3], x='Diện tích', y='Số toilet')\n",
    "axes[1].set_title('Diện tích vs Số toilet')"
   ]
  },
  {
   "cell_type": "code",
   "execution_count": null,
   "id": "ecf44a87",
   "metadata": {},
   "outputs": [],
   "source": [
    "data= data.drop((data[(data['Mặt tiền']>30) | (data['Diện tích']>1000) | (data['Số phòng ngủ']>20) | (data['Số toilet']>20)].index))"
   ]
  },
  {
   "cell_type": "markdown",
   "id": "9dc8b59c",
   "metadata": {},
   "source": [
    "## Train and Predict"
   ]
  },
  {
   "cell_type": "code",
   "execution_count": 31,
   "id": "947b04ad",
   "metadata": {},
   "outputs": [],
   "source": [
    "from sklearn.model_selection import train_test_split\n",
    "\n",
    "pd_train, pd_test = train_test_split(data, test_size=0.15)"
   ]
  },
  {
   "cell_type": "code",
   "execution_count": 32,
   "id": "7788f8b9",
   "metadata": {},
   "outputs": [],
   "source": [
    "from sklearn import preprocessing\n",
    "le = preprocessing.LabelEncoder()\n",
    "le.fit(pd_train['Address'])\n",
    "pd_train['Address'] = le.transform(pd_train['Address'])\n",
    "pd_test['Address'] = le.transform(pd_test['Address'])"
   ]
  },
  {
   "cell_type": "code",
   "execution_count": 33,
   "id": "e7404abf",
   "metadata": {},
   "outputs": [],
   "source": [
    "train_df = spark.createDataFrame(pd_train)\n",
    "test_df = spark.createDataFrame(pd_test)"
   ]
  },
  {
   "cell_type": "code",
   "execution_count": 34,
   "id": "251bb3c2",
   "metadata": {},
   "outputs": [
    {
     "name": "stdout",
     "output_type": "stream",
     "text": [
      "+-------+---------+--------+---------+-------+------------+---------+-------+\n",
      "|Mức giá|Diện tích|Mặt tiền|Đường vào|Số tầng|Số phòng ngủ|Số toilet|Address|\n",
      "+-------+---------+--------+---------+-------+------------+---------+-------+\n",
      "| 2350.0|     33.0|     3.5|      2.0|      4|           3|        3|     11|\n",
      "|10000.0|     66.0|     5.0|     -1.0|      6|          -1|       -1|      6|\n",
      "| 7100.0|     39.0|    -1.0|     -1.0|      5|           5|       -1|     14|\n",
      "| 2220.0|     15.7|     4.0|      2.0|      2|           1|        2|      5|\n",
      "| 9500.0|     85.0|    -1.0|     12.0|      4|          -1|       -1|     15|\n",
      "+-------+---------+--------+---------+-------+------------+---------+-------+\n",
      "only showing top 5 rows\n",
      "\n"
     ]
    },
    {
     "name": "stderr",
     "output_type": "stream",
     "text": [
      "\r",
      "[Stage 23:>                                                         (0 + 1) / 1]\r",
      "\r",
      "                                                                                \r"
     ]
    }
   ],
   "source": [
    "test_df.show(5)"
   ]
  },
  {
   "cell_type": "code",
   "execution_count": 35,
   "id": "3a6a0168",
   "metadata": {},
   "outputs": [],
   "source": [
    "from pyspark.ml.feature import VectorAssembler\n",
    "\n",
    "vectorAssembler = VectorAssembler(inputCols = train_df.drop(\"Mức giá\").columns, outputCol = 'features').setHandleInvalid(\"keep\")\n",
    "train_vector = vectorAssembler.transform(train_df)\n",
    "\n",
    "vectorAssembler2 = VectorAssembler(inputCols = test_df.drop(\"Mức giá\").columns, outputCol = 'features').setHandleInvalid(\"keep\")\n",
    "test_vector = vectorAssembler2.transform(test_df)"
   ]
  },
  {
   "cell_type": "code",
   "execution_count": 36,
   "id": "01cb9dc0",
   "metadata": {},
   "outputs": [
    {
     "name": "stderr",
     "output_type": "stream",
     "text": [
      "22/01/01 16:51:05 WARN TaskSetManager: Stage 24 contains a task of very large size (1470 KiB). The maximum recommended task size is 1000 KiB.\n",
      "                                                                                \r"
     ]
    }
   ],
   "source": [
    "scaler = StandardScaler(inputCol=\"features\", outputCol=\"scaledFeatures\", withStd=True, withMean=False)\n",
    "scalerModel = scaler.fit(train_vector)\n",
    "scaled_train = scalerModel.transform(train_vector)\n",
    "\n",
    "scalerModel2 = scaler.fit(test_vector)\n",
    "scaled_test = scalerModel2.transform(test_vector)"
   ]
  },
  {
   "cell_type": "code",
   "execution_count": 37,
   "id": "8b57c990",
   "metadata": {},
   "outputs": [
    {
     "name": "stdout",
     "output_type": "stream",
     "text": [
      "+-------+---------+--------+---------+-------+------------+---------+-------+--------------------+--------------------+\n",
      "|Mức giá|Diện tích|Mặt tiền|Đường vào|Số tầng|Số phòng ngủ|Số toilet|Address|            features|      scaledFeatures|\n",
      "+-------+---------+--------+---------+-------+------------+---------+-------+--------------------+--------------------+\n",
      "| 4680.0|    65.25|    -1.0|     -1.0|     -1|          -1|       -1|      8|[65.25,-1.0,-1.0,...|[1.26475907251622...|\n",
      "| 2700.0|     34.0|    -1.0|     -1.0|      4|           3|        3|      2|[34.0,-1.0,-1.0,4...|[0.65903154736477...|\n",
      "| 5300.0|     55.0|    -1.0|     -1.0|     -1|          -1|       -1|      8|[55.0,-1.0,-1.0,-...|[1.06608044426655...|\n",
      "|10300.0|    156.0|    12.0|      8.0|      3|           4|        4|     12|[156.0,12.0,8.0,3...|[3.02379180555604...|\n",
      "| 3350.0|     63.0|     4.5|      5.0|      2|           2|        2|      3|[63.0,4.5,5.0,2.0...|[1.22114669070532...|\n",
      "+-------+---------+--------+---------+-------+------------+---------+-------+--------------------+--------------------+\n",
      "only showing top 5 rows\n",
      "\n"
     ]
    },
    {
     "name": "stderr",
     "output_type": "stream",
     "text": [
      "22/01/01 16:51:16 WARN TaskSetManager: Stage 30 contains a task of very large size (1470 KiB). The maximum recommended task size is 1000 KiB.\n"
     ]
    }
   ],
   "source": [
    "scaled_train.show(5)"
   ]
  },
  {
   "cell_type": "code",
   "execution_count": 38,
   "id": "b311f9bf",
   "metadata": {},
   "outputs": [
    {
     "name": "stderr",
     "output_type": "stream",
     "text": [
      "22/01/01 16:51:30 WARN TaskSetManager: Stage 31 contains a task of very large size (1470 KiB). The maximum recommended task size is 1000 KiB.\n",
      "22/01/01 16:51:30 WARN InstanceBuilder$NativeBLAS: Failed to load implementation from:dev.ludovic.netlib.blas.JNIBLAS\n",
      "22/01/01 16:51:30 WARN InstanceBuilder$NativeBLAS: Failed to load implementation from:dev.ludovic.netlib.blas.ForeignLinkerBLAS\n",
      "22/01/01 16:51:32 WARN TaskSetManager: Stage 32 contains a task of very large size (1470 KiB). The maximum recommended task size is 1000 KiB.\n"
     ]
    },
    {
     "name": "stdout",
     "output_type": "stream",
     "text": [
      "RMSE: 8028.057832\n",
      "r2: 0.412728\n",
      "+------------------+-------+--------------------+\n",
      "|        prediction|Mức giá|      scaledFeatures|\n",
      "+------------------+-------+--------------------+\n",
      "| 3604.640700475448| 2350.0|[0.56652998512635...|\n",
      "|10777.926928956307|10000.0|[1.13305997025270...|\n",
      "| 5273.204764369471| 7100.0|[0.66953543696750...|\n",
      "|1259.6799864275054| 2220.0|[0.26953093231768...|\n",
      "|10078.814644653918| 9500.0|[1.45924390108302...|\n",
      "+------------------+-------+--------------------+\n",
      "only showing top 5 rows\n",
      "\n",
      "R Squared (R2) on val data = 0.512412\n"
     ]
    }
   ],
   "source": [
    "# Simple baseline (linreg)\n",
    "\n",
    "from pyspark.ml.regression import LinearRegression\n",
    "\n",
    "lr = LinearRegression(featuresCol = 'scaledFeatures', labelCol='Mức giá', maxIter=10, \n",
    "                      regParam=0.8, elasticNetParam=0.1) # It is always a good idea to play with hyperparameters.\n",
    "lr_model = lr.fit(scaled_train)\n",
    "\n",
    "trainingSummary = lr_model.summary\n",
    "print(\"RMSE: %f\" % trainingSummary.rootMeanSquaredError)\n",
    "print(\"r2: %f\" % trainingSummary.r2)\n",
    "\n",
    "lr_predictions = lr_model.transform(scaled_test)\n",
    "lr_predictions.select(\"prediction\",\"Mức giá\",\"scaledFeatures\").show(5)\n",
    "\n",
    "from pyspark.ml.evaluation import RegressionEvaluator\n",
    "lr_evaluator = RegressionEvaluator(predictionCol=\"prediction\", \\\n",
    "                 labelCol=\"Mức giá\",metricName=\"r2\")\n",
    "print(\"R Squared (R2) on val data = %g\" % lr_evaluator.evaluate(lr_predictions))"
   ]
  },
  {
   "cell_type": "code",
   "execution_count": 39,
   "id": "e44bd2e0",
   "metadata": {},
   "outputs": [
    {
     "name": "stderr",
     "output_type": "stream",
     "text": [
      "22/01/01 16:51:55 WARN TaskSetManager: Stage 35 contains a task of very large size (1470 KiB). The maximum recommended task size is 1000 KiB.\n",
      "22/01/01 16:51:55 WARN TaskSetManager: Stage 36 contains a task of very large size (1470 KiB). The maximum recommended task size is 1000 KiB.\n",
      "22/01/01 16:51:56 WARN TaskSetManager: Stage 37 contains a task of very large size (1470 KiB). The maximum recommended task size is 1000 KiB.\n",
      "22/01/01 16:51:56 WARN TaskSetManager: Stage 39 contains a task of very large size (1470 KiB). The maximum recommended task size is 1000 KiB.\n",
      "22/01/01 16:51:58 WARN TaskSetManager: Stage 41 contains a task of very large size (1470 KiB). The maximum recommended task size is 1000 KiB.\n",
      "22/01/01 16:51:58 WARN TaskSetManager: Stage 43 contains a task of very large size (1470 KiB). The maximum recommended task size is 1000 KiB.\n",
      "22/01/01 16:51:59 WARN TaskSetManager: Stage 45 contains a task of very large size (1470 KiB). The maximum recommended task size is 1000 KiB.\n",
      "22/01/01 16:51:59 WARN TaskSetManager: Stage 47 contains a task of very large size (1470 KiB). The maximum recommended task size is 1000 KiB.\n",
      "22/01/01 16:52:00 WARN TaskSetManager: Stage 49 contains a task of very large size (1470 KiB). The maximum recommended task size is 1000 KiB.\n",
      "22/01/01 16:52:00 WARN TaskSetManager: Stage 51 contains a task of very large size (1470 KiB). The maximum recommended task size is 1000 KiB.\n",
      "22/01/01 16:52:01 WARN TaskSetManager: Stage 53 contains a task of very large size (1470 KiB). The maximum recommended task size is 1000 KiB.\n",
      "22/01/01 16:52:02 WARN DAGScheduler: Broadcasting large task binary with size 1182.2 KiB\n",
      "22/01/01 16:52:02 WARN TaskSetManager: Stage 55 contains a task of very large size (1470 KiB). The maximum recommended task size is 1000 KiB.\n",
      "22/01/01 16:52:03 WARN DAGScheduler: Broadcasting large task binary with size 1962.8 KiB\n",
      "22/01/01 16:52:03 WARN TaskSetManager: Stage 57 contains a task of very large size (1470 KiB). The maximum recommended task size is 1000 KiB.\n",
      "22/01/01 16:52:04 WARN DAGScheduler: Broadcasting large task binary with size 3.1 MiB\n",
      "22/01/01 16:52:04 WARN TaskSetManager: Stage 59 contains a task of very large size (1470 KiB). The maximum recommended task size is 1000 KiB.\n",
      "22/01/01 16:52:07 WARN DAGScheduler: Broadcasting large task binary with size 4.7 MiB\n",
      "22/01/01 16:52:07 WARN TaskSetManager: Stage 61 contains a task of very large size (1470 KiB). The maximum recommended task size is 1000 KiB.\n",
      "22/01/01 16:52:08 WARN DAGScheduler: Broadcasting large task binary with size 1018.9 KiB\n",
      "22/01/01 16:52:09 WARN DAGScheduler: Broadcasting large task binary with size 7.0 MiB\n",
      "22/01/01 16:52:09 WARN TaskSetManager: Stage 63 contains a task of very large size (1470 KiB). The maximum recommended task size is 1000 KiB.\n",
      "22/01/01 16:52:10 WARN DAGScheduler: Broadcasting large task binary with size 1348.7 KiB\n",
      "22/01/01 16:52:12 WARN DAGScheduler: Broadcasting large task binary with size 9.8 MiB\n",
      "22/01/01 16:52:12 WARN TaskSetManager: Stage 65 contains a task of very large size (1470 KiB). The maximum recommended task size is 1000 KiB.\n",
      "22/01/01 16:52:13 WARN DAGScheduler: Broadcasting large task binary with size 1687.3 KiB\n",
      "22/01/01 16:52:15 WARN DAGScheduler: Broadcasting large task binary with size 13.2 MiB\n",
      "22/01/01 16:52:15 WARN TaskSetManager: Stage 67 contains a task of very large size (1470 KiB). The maximum recommended task size is 1000 KiB.\n",
      "22/01/01 16:52:16 WARN DAGScheduler: Broadcasting large task binary with size 2011.5 KiB\n",
      "22/01/01 16:52:18 WARN DAGScheduler: Broadcasting large task binary with size 17.0 MiB\n",
      "22/01/01 16:52:19 WARN TaskSetManager: Stage 69 contains a task of very large size (1470 KiB). The maximum recommended task size is 1000 KiB.\n",
      "22/01/01 16:52:20 WARN DAGScheduler: Broadcasting large task binary with size 2.2 MiB\n",
      "22/01/01 16:52:23 WARN DAGScheduler: Broadcasting large task binary with size 21.2 MiB\n",
      "22/01/01 16:52:23 WARN TaskSetManager: Stage 71 contains a task of very large size (1470 KiB). The maximum recommended task size is 1000 KiB.\n",
      "22/01/01 16:52:25 WARN DAGScheduler: Broadcasting large task binary with size 2.4 MiB\n",
      "22/01/01 16:52:28 WARN DAGScheduler: Broadcasting large task binary with size 25.5 MiB\n",
      "22/01/01 16:52:28 WARN TaskSetManager: Stage 73 contains a task of very large size (1470 KiB). The maximum recommended task size is 1000 KiB.\n",
      "22/01/01 16:52:30 WARN DAGScheduler: Broadcasting large task binary with size 2.4 MiB\n",
      "22/01/01 16:52:33 WARN DAGScheduler: Broadcasting large task binary with size 29.6 MiB\n",
      "22/01/01 16:52:33 WARN TaskSetManager: Stage 75 contains a task of very large size (1470 KiB). The maximum recommended task size is 1000 KiB.\n",
      "22/01/01 16:52:35 WARN DAGScheduler: Broadcasting large task binary with size 2.3 MiB\n",
      "22/01/01 16:52:38 WARN DAGScheduler: Broadcasting large task binary with size 33.4 MiB\n",
      "22/01/01 16:52:38 WARN TaskSetManager: Stage 77 contains a task of very large size (1470 KiB). The maximum recommended task size is 1000 KiB.\n",
      "22/01/01 16:52:40 WARN DAGScheduler: Broadcasting large task binary with size 2.1 MiB\n",
      "                                                                                \r"
     ]
    },
    {
     "name": "stdout",
     "output_type": "stream",
     "text": [
      "+------------------+-------+--------------------+\n",
      "|        prediction|Mức giá|      scaledFeatures|\n",
      "+------------------+-------+--------------------+\n",
      "|2398.2420234085193| 2350.0|[0.56652998512635...|\n",
      "|11411.003807418327|10000.0|[1.13305997025270...|\n",
      "| 9562.748412698413| 7100.0|[0.66953543696750...|\n",
      "| 2262.018994732657| 2220.0|[0.26953093231768...|\n",
      "|10773.711093073593| 9500.0|[1.45924390108302...|\n",
      "+------------------+-------+--------------------+\n",
      "only showing top 5 rows\n",
      "\n",
      "R Squared (R2) on val data = 0.577268\n"
     ]
    }
   ],
   "source": [
    "# A more complex model with RF\n",
    "\n",
    "from pyspark.ml.regression import RandomForestRegressor\n",
    "\n",
    "rf = RandomForestRegressor(featuresCol = 'scaledFeatures', labelCol='Mức giá', \n",
    "                           maxDepth=20, \n",
    "                           minInstancesPerNode=2,\n",
    "                           bootstrap=True\n",
    "                          )\n",
    "rf_model = rf.fit(scaled_train)\n",
    "\n",
    "rf_predictions = rf_model.transform(scaled_test)\n",
    "rf_predictions.select(\"prediction\",\"Mức giá\",\"scaledFeatures\").show(5)\n",
    "\n",
    "from pyspark.ml.evaluation import RegressionEvaluator\n",
    "rf_evaluator = RegressionEvaluator(predictionCol=\"prediction\", \\\n",
    "                 labelCol=\"Mức giá\",metricName=\"r2\")\n",
    "print(\"R Squared (R2) on val data = %g\" % rf_evaluator.evaluate(rf_predictions))"
   ]
  },
  {
   "cell_type": "code",
   "execution_count": null,
   "id": "97953840",
   "metadata": {},
   "outputs": [],
   "source": []
  }
 ],
 "metadata": {
  "kernelspec": {
   "display_name": "Python 3 (ipykernel)",
   "language": "python",
   "name": "python3"
  },
  "language_info": {
   "codemirror_mode": {
    "name": "ipython",
    "version": 3
   },
   "file_extension": ".py",
   "mimetype": "text/x-python",
   "name": "python",
   "nbconvert_exporter": "python",
   "pygments_lexer": "ipython3",
   "version": "3.9.7"
  }
 },
 "nbformat": 4,
 "nbformat_minor": 5
}
