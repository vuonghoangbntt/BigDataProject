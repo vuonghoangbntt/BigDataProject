{
  "nbformat": 4,
  "nbformat_minor": 0,
  "metadata": {
    "colab": {
      "name": "Bản sao của Bigdata_preprocessing.ipynb",
      "provenance": [],
      "collapsed_sections": []
    },
    "kernelspec": {
      "display_name": "Python 3",
      "name": "python3"
    },
    "language_info": {
      "name": "python"
    }
  },
  "cells": [
    {
      "cell_type": "code",
      "metadata": {
        "colab": {
          "base_uri": "https://localhost:8080/"
        },
        "id": "sHgv5oxWXXzn",
        "outputId": "e434670c-0b05-451c-b473-b9baf9954f5f"
      },
      "source": [
        "from google.colab import drive\n",
        "drive._mount('/content/drive')"
      ],
      "execution_count": 1,
      "outputs": [
        {
          "output_type": "stream",
          "name": "stdout",
          "text": [
            "Mounted at /content/drive\n"
          ]
        }
      ]
    },
    {
      "cell_type": "code",
      "metadata": {
        "colab": {
          "base_uri": "https://localhost:8080/"
        },
        "id": "EWiF7vr8Ze8M",
        "outputId": "93285696-543d-4f14-9977-d56d3eb6a1d7"
      },
      "source": [
        "cd /content/drive/MyDrive/BigDataProject/"
      ],
      "execution_count": 2,
      "outputs": [
        {
          "output_type": "stream",
          "name": "stdout",
          "text": [
            "/content/drive/MyDrive/BigDataProject\n"
          ]
        }
      ]
    },
    {
      "cell_type": "code",
      "metadata": {
        "colab": {
          "base_uri": "https://localhost:8080/"
        },
        "id": "mfr4DufUWRfY",
        "outputId": "30990024-be26-48b1-fc42-7d6757ae6c95"
      },
      "source": [
        "cd data"
      ],
      "execution_count": 3,
      "outputs": [
        {
          "output_type": "stream",
          "name": "stdout",
          "text": [
            "/content/drive/MyDrive/BigDataProject/data\n"
          ]
        }
      ]
    },
    {
      "cell_type": "code",
      "metadata": {
        "colab": {
          "base_uri": "https://localhost:8080/"
        },
        "id": "DEV3eiJJZm73",
        "outputId": "ec5497bd-c486-42f1-d236-a6f933296a75"
      },
      "source": [
        "ls"
      ],
      "execution_count": 4,
      "outputs": [
        {
          "output_type": "stream",
          "name": "stdout",
          "text": [
            "data_0_10000.csv        data_160000_170000.csv  data_60000_70000.csv\n",
            "data_100000_110000.csv  data_170000_180000.csv  data_70000_80000.csv\n",
            "data_10000_20000.csv    data_180000_190000.csv  data_80000_90000.csv\n",
            "data_110000_120000.csv  data_190000_200000.csv  data_90000_100000.csv\n",
            "data_120000_130000.csv  data_20000_30000.csv    data.csv\n",
            "data_130000_140000.csv  data_30000_40000.csv    local.json\n",
            "data_140000_150000.csv  data_40000_50000.csv    url_failed_to_load.txt\n",
            "data_150000_160000.csv  data_50000_60000.csv\n"
          ]
        }
      ]
    },
    {
      "cell_type": "markdown",
      "source": [
        "### Merge Data\n"
      ],
      "metadata": {
        "id": "lvi0LTBmRnaS"
      }
    },
    {
      "cell_type": "code",
      "metadata": {
        "id": "ysGydL6eXaYc"
      },
      "source": [
        "import os\n",
        "import csv\n",
        "\n",
        "file_names = os.listdir(os.getcwd())\n",
        "content = []\n",
        "key = True\n",
        "for i, file_name in enumerate(file_names):\n",
        "  l = []\n",
        "  if file_name[-3:] == 'csv':\n",
        "    with open(file_name, 'r') as f:\n",
        "      reader = csv.reader(f)\n",
        "      l = list(reader)\n",
        "  if key == True and file_name[-3:] == 'csv':\n",
        "    content.append(l[0])\n",
        "    key = False\n",
        "  content.extend(l[1:])\n"
      ],
      "execution_count": null,
      "outputs": []
    },
    {
      "cell_type": "code",
      "metadata": {
        "id": "d29A79EnYcLb",
        "colab": {
          "base_uri": "https://localhost:8080/"
        },
        "outputId": "4994a0b8-808d-4b5e-9f0e-cba3af59a7a2"
      },
      "source": [
        "len(content)"
      ],
      "execution_count": null,
      "outputs": [
        {
          "output_type": "execute_result",
          "data": {
            "text/plain": [
              "199555"
            ]
          },
          "metadata": {},
          "execution_count": 6
        }
      ]
    },
    {
      "cell_type": "code",
      "metadata": {
        "id": "R8snrWH2Y6KC"
      },
      "source": [
        "with open('data.csv', 'w') as file:\n",
        "    writer = csv.writer(file)\n",
        "    writer.writerows(content)"
      ],
      "execution_count": null,
      "outputs": []
    },
    {
      "cell_type": "markdown",
      "source": [
        "### Preprocess"
      ],
      "metadata": {
        "id": "aVQxle57RwT-"
      }
    },
    {
      "cell_type": "code",
      "metadata": {
        "id": "hMMNctFxiSop",
        "colab": {
          "base_uri": "https://localhost:8080/"
        },
        "outputId": "d6112d6a-cbc9-4103-bc89-c06fa8fd3586"
      },
      "source": [
        "import pandas as pd\n",
        "df = pd.read_csv('./data.csv')"
      ],
      "execution_count": 5,
      "outputs": [
        {
          "output_type": "stream",
          "name": "stderr",
          "text": [
            "/usr/local/lib/python3.7/dist-packages/IPython/core/interactiveshell.py:2718: DtypeWarning: Columns (19) have mixed types.Specify dtype option on import or set low_memory=False.\n",
            "  interactivity=interactivity, compiler=compiler, result=result)\n"
          ]
        }
      ]
    },
    {
      "cell_type": "code",
      "metadata": {
        "colab": {
          "base_uri": "https://localhost:8080/"
        },
        "id": "4OIHL5NMiwVt",
        "outputId": "5d1a09a9-8838-4222-fe8a-a358d4a4036e"
      },
      "source": [
        "df.info()"
      ],
      "execution_count": 6,
      "outputs": [
        {
          "output_type": "stream",
          "name": "stdout",
          "text": [
            "<class 'pandas.core.frame.DataFrame'>\n",
            "RangeIndex: 199554 entries, 0 to 199553\n",
            "Data columns (total 24 columns):\n",
            " #   Column          Non-Null Count   Dtype \n",
            "---  ------          --------------   ----- \n",
            " 0   Tên             199554 non-null  object\n",
            " 1   Mô tả           199401 non-null  object\n",
            " 2   Mức giá         199363 non-null  object\n",
            " 3   Diện tích       197105 non-null  object\n",
            " 4   Loại tin đăng   199368 non-null  object\n",
            " 5   Địa chỉ         199347 non-null  object\n",
            " 6   Mặt tiền        92019 non-null   object\n",
            " 7   Đường vào       87346 non-null   object\n",
            " 8   Hướng ban công  26589 non-null   object\n",
            " 9   Số tầng         68211 non-null   object\n",
            " 10  Số phòng ngủ    94068 non-null   object\n",
            " 11  Số toilet       79611 non-null   object\n",
            " 12  Nội thất        47865 non-null   object\n",
            " 13  Pháp lý         113105 non-null  object\n",
            " 14  Tên dự án       72643 non-null   object\n",
            " 15  Chủ đầu tư      58496 non-null   object\n",
            " 16  Quy mô          53555 non-null   object\n",
            " 17  Ngày đăng       199368 non-null  object\n",
            " 18  Ngày hết hạn    199368 non-null  object\n",
            " 19  Mã tin          199351 non-null  object\n",
            " 20  Phòng ngủ       94067 non-null   object\n",
            " 21  Hướng nhà       61416 non-null   object\n",
            " 22  Loại tin        199368 non-null  object\n",
            " 23  url             199335 non-null  object\n",
            "dtypes: object(24)\n",
            "memory usage: 36.5+ MB\n"
          ]
        }
      ]
    },
    {
      "cell_type": "code",
      "metadata": {
        "colab": {
          "base_uri": "https://localhost:8080/",
          "height": 1000
        },
        "id": "Ny8pqEmdMc26",
        "outputId": "e5e49842-821c-4337-afb4-54d03c641dc4"
      },
      "source": [
        "df.head(5)"
      ],
      "execution_count": 7,
      "outputs": [
        {
          "output_type": "execute_result",
          "data": {
            "text/html": [
              "\n",
              "  <div id=\"df-81b32846-1c5a-4fe1-9dce-6a437f295d6b\">\n",
              "    <div class=\"colab-df-container\">\n",
              "      <div>\n",
              "<style scoped>\n",
              "    .dataframe tbody tr th:only-of-type {\n",
              "        vertical-align: middle;\n",
              "    }\n",
              "\n",
              "    .dataframe tbody tr th {\n",
              "        vertical-align: top;\n",
              "    }\n",
              "\n",
              "    .dataframe thead th {\n",
              "        text-align: right;\n",
              "    }\n",
              "</style>\n",
              "<table border=\"1\" class=\"dataframe\">\n",
              "  <thead>\n",
              "    <tr style=\"text-align: right;\">\n",
              "      <th></th>\n",
              "      <th>Tên</th>\n",
              "      <th>Mô tả</th>\n",
              "      <th>Mức giá</th>\n",
              "      <th>Diện tích</th>\n",
              "      <th>Loại tin đăng</th>\n",
              "      <th>Địa chỉ</th>\n",
              "      <th>Mặt tiền</th>\n",
              "      <th>Đường vào</th>\n",
              "      <th>Hướng ban công</th>\n",
              "      <th>Số tầng</th>\n",
              "      <th>Số phòng ngủ</th>\n",
              "      <th>Số toilet</th>\n",
              "      <th>Nội thất</th>\n",
              "      <th>Pháp lý</th>\n",
              "      <th>Tên dự án</th>\n",
              "      <th>Chủ đầu tư</th>\n",
              "      <th>Quy mô</th>\n",
              "      <th>Ngày đăng</th>\n",
              "      <th>Ngày hết hạn</th>\n",
              "      <th>Mã tin</th>\n",
              "      <th>Phòng ngủ</th>\n",
              "      <th>Hướng nhà</th>\n",
              "      <th>Loại tin</th>\n",
              "      <th>url</th>\n",
              "    </tr>\n",
              "  </thead>\n",
              "  <tbody>\n",
              "    <tr>\n",
              "      <th>0</th>\n",
              "      <td>Chính chủ cần bán gấp lô đất ngay gần chợ Sông...</td>\n",
              "      <td>- Ngay chợ Sông Trầu.- Dân cư đang phát triển,...</td>\n",
              "      <td>860 triệu</td>\n",
              "      <td>90 m²</td>\n",
              "      <td>Bán đất</td>\n",
              "      <td>Đường Sông Trầu, Xã Sông Trầu, Trảng Bom, Đồng...</td>\n",
              "      <td>NaN</td>\n",
              "      <td>8 m</td>\n",
              "      <td>NaN</td>\n",
              "      <td>NaN</td>\n",
              "      <td>NaN</td>\n",
              "      <td>NaN</td>\n",
              "      <td>NaN</td>\n",
              "      <td>Sổ đỏ/ Sổ hồng</td>\n",
              "      <td>NaN</td>\n",
              "      <td>NaN</td>\n",
              "      <td>NaN</td>\n",
              "      <td>06/11/2021</td>\n",
              "      <td>13/11/2021</td>\n",
              "      <td>31319056</td>\n",
              "      <td>NaN</td>\n",
              "      <td>NaN</td>\n",
              "      <td>Tin thường</td>\n",
              "      <td>https://batdongsan.com.vn/nha-dat-ban//ban-dat...</td>\n",
              "    </tr>\n",
              "    <tr>\n",
              "      <th>1</th>\n",
              "      <td>Bán lô đất TĐC giai đoạn 3 Bửu Long, Biên Hòa ...</td>\n",
              "      <td>Bán lô đất TĐC giai đoạn 3 Bửu Long, Biên Hòa....</td>\n",
              "      <td>2.2 tỷ</td>\n",
              "      <td>79.8 m²</td>\n",
              "      <td>Bán đất</td>\n",
              "      <td>Phường Bửu Long, Biên Hòa, Đồng Nai</td>\n",
              "      <td>NaN</td>\n",
              "      <td>10 m</td>\n",
              "      <td>NaN</td>\n",
              "      <td>NaN</td>\n",
              "      <td>NaN</td>\n",
              "      <td>NaN</td>\n",
              "      <td>NaN</td>\n",
              "      <td>NaN</td>\n",
              "      <td>NaN</td>\n",
              "      <td>NaN</td>\n",
              "      <td>NaN</td>\n",
              "      <td>06/11/2021</td>\n",
              "      <td>13/11/2021</td>\n",
              "      <td>31319055</td>\n",
              "      <td>NaN</td>\n",
              "      <td>Nam</td>\n",
              "      <td>Tin thường</td>\n",
              "      <td>https://batdongsan.com.vn/nha-dat-ban//ban-dat...</td>\n",
              "    </tr>\n",
              "    <tr>\n",
              "      <th>2</th>\n",
              "      <td>Duy nhất căn nhà phố vị trí đẹp khu Habor 1 Aq...</td>\n",
              "      <td>* Nhà phố giá tốt - đẹp không khác gì shophous...</td>\n",
              "      <td>15.419 tỷ</td>\n",
              "      <td>138 m²</td>\n",
              "      <td>Bán nhà biệt thự, liền kề (nhà trong dự án quy...</td>\n",
              "      <td>Dự án Aqua City, Đường Hương lộ 2, Xã Long Hưn...</td>\n",
              "      <td>NaN</td>\n",
              "      <td>NaN</td>\n",
              "      <td>NaN</td>\n",
              "      <td>4 tầng</td>\n",
              "      <td>NaN</td>\n",
              "      <td>NaN</td>\n",
              "      <td>NaN</td>\n",
              "      <td>NaN</td>\n",
              "      <td>Aqua City</td>\n",
              "      <td>Novaland Group</td>\n",
              "      <td>11 phân khu với 15000 căn nhà phố, biệt thự, s...</td>\n",
              "      <td>06/11/2021</td>\n",
              "      <td>16/11/2021</td>\n",
              "      <td>31319054</td>\n",
              "      <td>NaN</td>\n",
              "      <td>NaN</td>\n",
              "      <td>Tin thường</td>\n",
              "      <td>https://batdongsan.com.vn/nha-dat-ban//ban-nha...</td>\n",
              "    </tr>\n",
              "    <tr>\n",
              "      <th>3</th>\n",
              "      <td>Nhà mặt tiền đường Lê Hồng Phong, ngay vòng xo...</td>\n",
              "      <td>Bán nhà mặt tiền đường Lê Hồng Phong, phường P...</td>\n",
              "      <td>6.5 tỷ</td>\n",
              "      <td>74.5 m²</td>\n",
              "      <td>Bán nhà mặt phố (nhà mặt tiền trên các tuyến phố)</td>\n",
              "      <td>Đường Lê Hồng Phong, Phường Phước Long, Nha Tr...</td>\n",
              "      <td>4.77 m</td>\n",
              "      <td>30 m</td>\n",
              "      <td>NaN</td>\n",
              "      <td>3 tầng</td>\n",
              "      <td>4 phòng</td>\n",
              "      <td>3 phòng</td>\n",
              "      <td>NaN</td>\n",
              "      <td>Sổ đỏ/ Sổ hồng</td>\n",
              "      <td>NaN</td>\n",
              "      <td>NaN</td>\n",
              "      <td>NaN</td>\n",
              "      <td>06/11/2021</td>\n",
              "      <td>13/11/2021</td>\n",
              "      <td>31319053</td>\n",
              "      <td>4 PN</td>\n",
              "      <td>Tây-Nam</td>\n",
              "      <td>Tin thường</td>\n",
              "      <td>https://batdongsan.com.vn/nha-dat-ban//ban-nha...</td>\n",
              "    </tr>\n",
              "    <tr>\n",
              "      <th>4</th>\n",
              "      <td>Nhà MT đường số 4 Linh Xuân, ngay chợ 3MT đườn...</td>\n",
              "      <td>Nhà MT đường số 4, Linh Xuân, ngay chợ 3MT đườ...</td>\n",
              "      <td>1.8 tỷ</td>\n",
              "      <td>80 m²</td>\n",
              "      <td>Bán nhà mặt phố (nhà mặt tiền trên các tuyến phố)</td>\n",
              "      <td>Đường Số 4, Phường Linh Xuân, Thủ Đức, Hồ Chí ...</td>\n",
              "      <td>4 m</td>\n",
              "      <td>20 m</td>\n",
              "      <td>NaN</td>\n",
              "      <td>1 tầng</td>\n",
              "      <td>2 phòng</td>\n",
              "      <td>2 phòng</td>\n",
              "      <td>Cơ bản</td>\n",
              "      <td>Mua bán công chứng vi bằng</td>\n",
              "      <td>NaN</td>\n",
              "      <td>NaN</td>\n",
              "      <td>NaN</td>\n",
              "      <td>06/11/2021</td>\n",
              "      <td>13/11/2021</td>\n",
              "      <td>31319052</td>\n",
              "      <td>2 PN</td>\n",
              "      <td>NaN</td>\n",
              "      <td>Tin thường</td>\n",
              "      <td>https://batdongsan.com.vn/nha-dat-ban//ban-nha...</td>\n",
              "    </tr>\n",
              "  </tbody>\n",
              "</table>\n",
              "</div>\n",
              "      <button class=\"colab-df-convert\" onclick=\"convertToInteractive('df-81b32846-1c5a-4fe1-9dce-6a437f295d6b')\"\n",
              "              title=\"Convert this dataframe to an interactive table.\"\n",
              "              style=\"display:none;\">\n",
              "        \n",
              "  <svg xmlns=\"http://www.w3.org/2000/svg\" height=\"24px\"viewBox=\"0 0 24 24\"\n",
              "       width=\"24px\">\n",
              "    <path d=\"M0 0h24v24H0V0z\" fill=\"none\"/>\n",
              "    <path d=\"M18.56 5.44l.94 2.06.94-2.06 2.06-.94-2.06-.94-.94-2.06-.94 2.06-2.06.94zm-11 1L8.5 8.5l.94-2.06 2.06-.94-2.06-.94L8.5 2.5l-.94 2.06-2.06.94zm10 10l.94 2.06.94-2.06 2.06-.94-2.06-.94-.94-2.06-.94 2.06-2.06.94z\"/><path d=\"M17.41 7.96l-1.37-1.37c-.4-.4-.92-.59-1.43-.59-.52 0-1.04.2-1.43.59L10.3 9.45l-7.72 7.72c-.78.78-.78 2.05 0 2.83L4 21.41c.39.39.9.59 1.41.59.51 0 1.02-.2 1.41-.59l7.78-7.78 2.81-2.81c.8-.78.8-2.07 0-2.86zM5.41 20L4 18.59l7.72-7.72 1.47 1.35L5.41 20z\"/>\n",
              "  </svg>\n",
              "      </button>\n",
              "      \n",
              "  <style>\n",
              "    .colab-df-container {\n",
              "      display:flex;\n",
              "      flex-wrap:wrap;\n",
              "      gap: 12px;\n",
              "    }\n",
              "\n",
              "    .colab-df-convert {\n",
              "      background-color: #E8F0FE;\n",
              "      border: none;\n",
              "      border-radius: 50%;\n",
              "      cursor: pointer;\n",
              "      display: none;\n",
              "      fill: #1967D2;\n",
              "      height: 32px;\n",
              "      padding: 0 0 0 0;\n",
              "      width: 32px;\n",
              "    }\n",
              "\n",
              "    .colab-df-convert:hover {\n",
              "      background-color: #E2EBFA;\n",
              "      box-shadow: 0px 1px 2px rgba(60, 64, 67, 0.3), 0px 1px 3px 1px rgba(60, 64, 67, 0.15);\n",
              "      fill: #174EA6;\n",
              "    }\n",
              "\n",
              "    [theme=dark] .colab-df-convert {\n",
              "      background-color: #3B4455;\n",
              "      fill: #D2E3FC;\n",
              "    }\n",
              "\n",
              "    [theme=dark] .colab-df-convert:hover {\n",
              "      background-color: #434B5C;\n",
              "      box-shadow: 0px 1px 3px 1px rgba(0, 0, 0, 0.15);\n",
              "      filter: drop-shadow(0px 1px 2px rgba(0, 0, 0, 0.3));\n",
              "      fill: #FFFFFF;\n",
              "    }\n",
              "  </style>\n",
              "\n",
              "      <script>\n",
              "        const buttonEl =\n",
              "          document.querySelector('#df-81b32846-1c5a-4fe1-9dce-6a437f295d6b button.colab-df-convert');\n",
              "        buttonEl.style.display =\n",
              "          google.colab.kernel.accessAllowed ? 'block' : 'none';\n",
              "\n",
              "        async function convertToInteractive(key) {\n",
              "          const element = document.querySelector('#df-81b32846-1c5a-4fe1-9dce-6a437f295d6b');\n",
              "          const dataTable =\n",
              "            await google.colab.kernel.invokeFunction('convertToInteractive',\n",
              "                                                     [key], {});\n",
              "          if (!dataTable) return;\n",
              "\n",
              "          const docLinkHtml = 'Like what you see? Visit the ' +\n",
              "            '<a target=\"_blank\" href=https://colab.research.google.com/notebooks/data_table.ipynb>data table notebook</a>'\n",
              "            + ' to learn more about interactive tables.';\n",
              "          element.innerHTML = '';\n",
              "          dataTable['output_type'] = 'display_data';\n",
              "          await google.colab.output.renderOutput(dataTable, element);\n",
              "          const docLink = document.createElement('div');\n",
              "          docLink.innerHTML = docLinkHtml;\n",
              "          element.appendChild(docLink);\n",
              "        }\n",
              "      </script>\n",
              "    </div>\n",
              "  </div>\n",
              "  "
            ],
            "text/plain": [
              "                                                 Tên  ...                                                url\n",
              "0  Chính chủ cần bán gấp lô đất ngay gần chợ Sông...  ...  https://batdongsan.com.vn/nha-dat-ban//ban-dat...\n",
              "1  Bán lô đất TĐC giai đoạn 3 Bửu Long, Biên Hòa ...  ...  https://batdongsan.com.vn/nha-dat-ban//ban-dat...\n",
              "2  Duy nhất căn nhà phố vị trí đẹp khu Habor 1 Aq...  ...  https://batdongsan.com.vn/nha-dat-ban//ban-nha...\n",
              "3  Nhà mặt tiền đường Lê Hồng Phong, ngay vòng xo...  ...  https://batdongsan.com.vn/nha-dat-ban//ban-nha...\n",
              "4  Nhà MT đường số 4 Linh Xuân, ngay chợ 3MT đườn...  ...  https://batdongsan.com.vn/nha-dat-ban//ban-nha...\n",
              "\n",
              "[5 rows x 24 columns]"
            ]
          },
          "metadata": {},
          "execution_count": 7
        }
      ]
    },
    {
      "cell_type": "code",
      "metadata": {
        "id": "whfSR-rpNZv-"
      },
      "source": [
        "### Drop invalid rows\n",
        "df = df[df['url'].notna()]"
      ],
      "execution_count": 8,
      "outputs": []
    },
    {
      "cell_type": "code",
      "metadata": {
        "id": "NDmQVqpsAOrP"
      },
      "source": [
        "key = 'Mã tin'\n",
        "df[key] = df[key].fillna(-1).astype('int64')"
      ],
      "execution_count": 9,
      "outputs": []
    },
    {
      "cell_type": "code",
      "metadata": {
        "id": "FVmibrWsKNJn"
      },
      "source": [
        "### Drop exception\n",
        "errors = []\n",
        "for index, col in zip(df.index, df['Loại tin đăng']):\n",
        "  if 'Cho thuê' in col:\n",
        "    errors.append(index)\n",
        "df.drop(errors, inplace=True)"
      ],
      "execution_count": 10,
      "outputs": []
    },
    {
      "cell_type": "code",
      "metadata": {
        "id": "sw1cMza1GtLd",
        "colab": {
          "base_uri": "https://localhost:8080/"
        },
        "outputId": "4a975541-b84d-4538-9212-ea7f8323eaf8"
      },
      "source": [
        "set(df['Loại tin đăng'])"
      ],
      "execution_count": 11,
      "outputs": [
        {
          "output_type": "execute_result",
          "data": {
            "text/plain": [
              "{'Bán condotel',\n",
              " 'Bán căn hộ chung cư',\n",
              " 'Bán kho, nhà xưởng',\n",
              " 'Bán loại bất động sản khác',\n",
              " 'Bán nhà biệt thự, liền kề (nhà trong dự án quy hoạch)',\n",
              " 'Bán nhà mặt phố (nhà mặt tiền trên các tuyến phố)',\n",
              " 'Bán nhà riêng',\n",
              " 'Bán trang trại, khu nghỉ dưỡng',\n",
              " 'Bán đất',\n",
              " 'Bán đất nền dự án (đất trong dự án quy hoạch)'}"
            ]
          },
          "metadata": {},
          "execution_count": 11
        }
      ]
    },
    {
      "cell_type": "code",
      "metadata": {
        "id": "yo-f03VTJLP8"
      },
      "source": [
        "import re\n",
        "new_df = {}\n",
        "float_col = ['Mặt tiền','Đường vào']\n",
        "int_col = ['Số tầng','Số phòng ngủ','Số toilet']\n",
        "for col in float_col:\n",
        "  new_df[col] = []\n",
        "  for u in df[col]:\n",
        "    try:\n",
        "      u = u.replace(',','.')\n",
        "      v = re.findall(r'[-+]?\\d*\\.*\\d+', u)\n",
        "      if len(v)!=1:\n",
        "        print(u)\n",
        "      new_df[col].append(float(v[0]))\n",
        "      #new_df[col].append(int(v[0]))\n",
        "    except:\n",
        "      new_df[col].append(-1)\n",
        "      if str(u)!='nan':\n",
        "        print(u)\n",
        "      continue\n",
        "for col in int_col:\n",
        "  new_df[col] = []\n",
        "  for u in df[col]:\n",
        "    try:\n",
        "      u = u.replace(',','.')\n",
        "      v = re.findall(r'[-+]?\\d*\\.*\\d+', u)\n",
        "      if len(v)!=1:\n",
        "        print(u)\n",
        "      #new_df[col].append(float(v[0]))\n",
        "      new_df[col].append(int(v[0]))\n",
        "    except:\n",
        "      new_df[col].append(-1)\n",
        "      if str(u)!='nan':\n",
        "        print(u)\n",
        "      continue"
      ],
      "execution_count": 18,
      "outputs": []
    },
    {
      "cell_type": "code",
      "source": [
        "for key in new_df.keys():\n",
        "  df[key] = new_df[key]"
      ],
      "metadata": {
        "id": "Mckfhsr6C8_A"
      },
      "execution_count": 20,
      "outputs": []
    },
    {
      "cell_type": "code",
      "metadata": {
        "id": "YjJ_9EagIoni",
        "colab": {
          "base_uri": "https://localhost:8080/"
        },
        "outputId": "6edfcae9-73b3-4518-b4d9-1f5bc6428fea"
      },
      "source": [
        "df.columns"
      ],
      "execution_count": null,
      "outputs": [
        {
          "output_type": "execute_result",
          "data": {
            "text/plain": [
              "Index(['Tên', 'Mô tả', 'Mức giá', 'Diện tích', 'Loại tin đăng', 'Địa chỉ',\n",
              "       'Mặt tiền', 'Đường vào', 'Hướng ban công', 'Số tầng', 'Số phòng ngủ',\n",
              "       'Số toilet', 'Nội thất', 'Pháp lý', 'Tên dự án', 'Chủ đầu tư', 'Quy mô',\n",
              "       'Ngày đăng', 'Ngày hết hạn', 'Mã tin', 'Phòng ngủ', 'Hướng nhà',\n",
              "       'Loại tin', 'url'],\n",
              "      dtype='object')"
            ]
          },
          "metadata": {},
          "execution_count": 159
        }
      ]
    },
    {
      "cell_type": "markdown",
      "metadata": {
        "id": "QPj5yWt9cVP0"
      },
      "source": [
        "Mức giá và diện tích"
      ]
    },
    {
      "cell_type": "code",
      "metadata": {
        "id": "v-jA3sOFSCx_"
      },
      "source": [
        "currency_convert = {\n",
        "    'nghìn': 1.0/1000, 'nghìn/m²': 1.0/1000, 'thuận': 'Thỏa thuận', 'triệu': 1, 'triệu/m²': 1, 'tỷ': 1000, 'tỷ/m²': 1000, 'đồng/m²': 1.0/1000000\n",
        "}\n",
        "test = []\n",
        "for price, s in zip(df['Mức giá'], df['Diện tích']):\n",
        "  u = price.strip().split()\n",
        "  if 'm²' in u[1]:\n",
        "    if str(s)=='nan':\n",
        "      test.append(None)\n",
        "      continue\n",
        "    area = float(s.strip().split()[0])\n",
        "    p = float(u[0])*currency_convert[u[1]]\n",
        "    test.append(area*p)\n",
        "  else:\n",
        "    if u[1]!='thuận':\n",
        "      test.append(float(u[0])*currency_convert[u[1]])\n",
        "    else:\n",
        "      test.append(None)"
      ],
      "execution_count": null,
      "outputs": []
    },
    {
      "cell_type": "code",
      "metadata": {
        "id": "XKZiBoTTSwCC"
      },
      "source": [
        "new_df['Mức giá'] = test"
      ],
      "execution_count": null,
      "outputs": []
    },
    {
      "cell_type": "code",
      "metadata": {
        "id": "HB3MsuwEWa3M"
      },
      "source": [
        "new_df['Diện tích'] = []\n",
        "for s in df['Diện tích']:\n",
        "  try:\n",
        "    u = s.strip().split()\n",
        "    new_df['Diện tích'].append(float(u[0]))\n",
        "  except:\n",
        "    new_df['Diện tích'].append(None)"
      ],
      "execution_count": null,
      "outputs": []
    },
    {
      "cell_type": "markdown",
      "metadata": {
        "id": "u4sKan3rNP_g"
      },
      "source": [
        "Địa chỉ"
      ]
    },
    {
      "cell_type": "code",
      "metadata": {
        "colab": {
          "base_uri": "https://localhost:8080/",
          "height": 206
        },
        "id": "u04ZjaxRO5C8",
        "outputId": "feb5e1b0-de7d-4470-b36e-7a543ea02a58"
      },
      "source": [
        "add_df = pd.read_csv('../Danh sách quận huyện Việt Nam 2021 Full - ©DiaOcThongThai.Com.csv')\n",
        "add_df.head(5)"
      ],
      "execution_count": null,
      "outputs": [
        {
          "output_type": "execute_result",
          "data": {
            "text/html": [
              "<div>\n",
              "<style scoped>\n",
              "    .dataframe tbody tr th:only-of-type {\n",
              "        vertical-align: middle;\n",
              "    }\n",
              "\n",
              "    .dataframe tbody tr th {\n",
              "        vertical-align: top;\n",
              "    }\n",
              "\n",
              "    .dataframe thead th {\n",
              "        text-align: right;\n",
              "    }\n",
              "</style>\n",
              "<table border=\"1\" class=\"dataframe\">\n",
              "  <thead>\n",
              "    <tr style=\"text-align: right;\">\n",
              "      <th></th>\n",
              "      <th>STT</th>\n",
              "      <th>Tỉnh Thành</th>\n",
              "      <th>Quận Huyện</th>\n",
              "    </tr>\n",
              "  </thead>\n",
              "  <tbody>\n",
              "    <tr>\n",
              "      <th>0</th>\n",
              "      <td>1</td>\n",
              "      <td>Hà Nội</td>\n",
              "      <td>Quận Ba Đình</td>\n",
              "    </tr>\n",
              "    <tr>\n",
              "      <th>1</th>\n",
              "      <td>2</td>\n",
              "      <td>Hà Nội</td>\n",
              "      <td>Quận Bắc Từ Liêm</td>\n",
              "    </tr>\n",
              "    <tr>\n",
              "      <th>2</th>\n",
              "      <td>3</td>\n",
              "      <td>Hà Nội</td>\n",
              "      <td>Quận Cầu Giấy</td>\n",
              "    </tr>\n",
              "    <tr>\n",
              "      <th>3</th>\n",
              "      <td>4</td>\n",
              "      <td>Hà Nội</td>\n",
              "      <td>Quận Đống Đa</td>\n",
              "    </tr>\n",
              "    <tr>\n",
              "      <th>4</th>\n",
              "      <td>5</td>\n",
              "      <td>Hà Nội</td>\n",
              "      <td>Quận Hà Đông</td>\n",
              "    </tr>\n",
              "  </tbody>\n",
              "</table>\n",
              "</div>"
            ],
            "text/plain": [
              "   STT Tỉnh Thành        Quận Huyện\n",
              "0    1     Hà Nội      Quận Ba Đình\n",
              "1    2     Hà Nội  Quận Bắc Từ Liêm\n",
              "2    3     Hà Nội     Quận Cầu Giấy\n",
              "3    4     Hà Nội      Quận Đống Đa\n",
              "4    5     Hà Nội      Quận Hà Đông"
            ]
          },
          "metadata": {},
          "execution_count": 240
        }
      ]
    },
    {
      "cell_type": "code",
      "metadata": {
        "id": "JCYrplbycQGJ",
        "colab": {
          "base_uri": "https://localhost:8080/",
          "height": 35
        },
        "outputId": "8dd346e4-6a66-46b6-e89d-50ea036eb797"
      },
      "source": [
        "re.sub('-',' ','Bà Rịa-Vũng Tàu')"
      ],
      "execution_count": null,
      "outputs": [
        {
          "output_type": "execute_result",
          "data": {
            "application/vnd.google.colaboratory.intrinsic+json": {
              "type": "string"
            },
            "text/plain": [
              "'Bà Rịa Vũng Tàu'"
            ]
          },
          "metadata": {},
          "execution_count": 224
        }
      ]
    },
    {
      "cell_type": "code",
      "metadata": {
        "id": "NlF9gbEhkOZx",
        "colab": {
          "base_uri": "https://localhost:8080/"
        },
        "outputId": "9fa7dd2a-38fd-41f8-b5d2-8ea9a1df4a65"
      },
      "source": [
        "from difflib import SequenceMatcher\n",
        "\n",
        "def similar(a, b):\n",
        "    return SequenceMatcher(None, a, b).ratio()\n",
        "similar('Quận Long Biên', 'Long Biên')"
      ],
      "execution_count": null,
      "outputs": [
        {
          "output_type": "execute_result",
          "data": {
            "text/plain": [
              "0.782608695652174"
            ]
          },
          "metadata": {},
          "execution_count": 286
        }
      ]
    },
    {
      "cell_type": "code",
      "metadata": {
        "id": "txKAfqQYPYTn"
      },
      "source": [
        "#quan in re.sub('\\W+',' ',add_df['Quận Huyện'][i]):\n",
        "def check_add(add_df, tinh, quan):\n",
        "  tinh = re.sub('\\W+',' ',tinh).strip()\n",
        "  quan = re.sub('\\W+',' ',quan).strip()\n",
        "  for i in range(add_df.shape[0]):\n",
        "    if tinh in re.sub('\\W+',' ',add_df['Tỉnh Thành'][i]) or similar(tinh, add_df['Tỉnh Thành'][i])>0.5:\n",
        "      if similar(quan, add_df['Quận Huyện'][i])>0.5 or quan in re.sub('\\W+',' ',add_df['Quận Huyện'][i]):\n",
        "        return True, add_df['Tỉnh Thành'][i], add_df['Quận Huyện'][i]\n",
        "  return False, '', ''"
      ],
      "execution_count": null,
      "outputs": []
    },
    {
      "cell_type": "code",
      "metadata": {
        "id": "WSGv2GhEdbSt"
      },
      "source": [
        "a = pd.DataFrame({\n",
        "    'STT': [708],\n",
        "    'Tỉnh Thành': ['Hồ Chí Minh','Hồ Chí Minh'],\n",
        "    'Quận Huyện': ['Quận 2','Quận 9']\n",
        "})\n",
        "add_df = add_df.append(a, ignore_index=True)"
      ],
      "execution_count": null,
      "outputs": []
    },
    {
      "cell_type": "code",
      "metadata": {
        "id": "Wf7Pk-Y1aPtq",
        "colab": {
          "base_uri": "https://localhost:8080/",
          "height": 583
        },
        "outputId": "bdd34adc-0bfe-4c01-87bf-c4ae48cd1fc4"
      },
      "source": [
        "add_df[add_df['Tỉnh Thành']=='Gia Lai']"
      ],
      "execution_count": null,
      "outputs": [
        {
          "output_type": "execute_result",
          "data": {
            "text/html": [
              "<div>\n",
              "<style scoped>\n",
              "    .dataframe tbody tr th:only-of-type {\n",
              "        vertical-align: middle;\n",
              "    }\n",
              "\n",
              "    .dataframe tbody tr th {\n",
              "        vertical-align: top;\n",
              "    }\n",
              "\n",
              "    .dataframe thead th {\n",
              "        text-align: right;\n",
              "    }\n",
              "</style>\n",
              "<table border=\"1\" class=\"dataframe\">\n",
              "  <thead>\n",
              "    <tr style=\"text-align: right;\">\n",
              "      <th></th>\n",
              "      <th>STT</th>\n",
              "      <th>Tỉnh Thành</th>\n",
              "      <th>Quận Huyện</th>\n",
              "    </tr>\n",
              "  </thead>\n",
              "  <tbody>\n",
              "    <tr>\n",
              "      <th>261</th>\n",
              "      <td>262</td>\n",
              "      <td>Gia Lai</td>\n",
              "      <td>Thành phố Pleiku (tỉnh lỵ)</td>\n",
              "    </tr>\n",
              "    <tr>\n",
              "      <th>262</th>\n",
              "      <td>263</td>\n",
              "      <td>Gia Lai</td>\n",
              "      <td>Thị xã An Khê</td>\n",
              "    </tr>\n",
              "    <tr>\n",
              "      <th>263</th>\n",
              "      <td>264</td>\n",
              "      <td>Gia Lai</td>\n",
              "      <td>Thị xã Ayun Pa</td>\n",
              "    </tr>\n",
              "    <tr>\n",
              "      <th>264</th>\n",
              "      <td>265</td>\n",
              "      <td>Gia Lai</td>\n",
              "      <td>Huyện Chư Păh</td>\n",
              "    </tr>\n",
              "    <tr>\n",
              "      <th>265</th>\n",
              "      <td>266</td>\n",
              "      <td>Gia Lai</td>\n",
              "      <td>Huyện Chư Prông</td>\n",
              "    </tr>\n",
              "    <tr>\n",
              "      <th>266</th>\n",
              "      <td>267</td>\n",
              "      <td>Gia Lai</td>\n",
              "      <td>Huyện Chư Pưh</td>\n",
              "    </tr>\n",
              "    <tr>\n",
              "      <th>267</th>\n",
              "      <td>268</td>\n",
              "      <td>Gia Lai</td>\n",
              "      <td>Huyện Chư Sê</td>\n",
              "    </tr>\n",
              "    <tr>\n",
              "      <th>268</th>\n",
              "      <td>269</td>\n",
              "      <td>Gia Lai</td>\n",
              "      <td>Huyện Đak Đoa</td>\n",
              "    </tr>\n",
              "    <tr>\n",
              "      <th>269</th>\n",
              "      <td>270</td>\n",
              "      <td>Gia Lai</td>\n",
              "      <td>Huyện Đak Pơ</td>\n",
              "    </tr>\n",
              "    <tr>\n",
              "      <th>270</th>\n",
              "      <td>271</td>\n",
              "      <td>Gia Lai</td>\n",
              "      <td>Huyện Đức Cơ</td>\n",
              "    </tr>\n",
              "    <tr>\n",
              "      <th>271</th>\n",
              "      <td>272</td>\n",
              "      <td>Gia Lai</td>\n",
              "      <td>Huyện Ia Grai</td>\n",
              "    </tr>\n",
              "    <tr>\n",
              "      <th>272</th>\n",
              "      <td>273</td>\n",
              "      <td>Gia Lai</td>\n",
              "      <td>Huyện Ia Pa</td>\n",
              "    </tr>\n",
              "    <tr>\n",
              "      <th>273</th>\n",
              "      <td>274</td>\n",
              "      <td>Gia Lai</td>\n",
              "      <td>Huyện Kbang</td>\n",
              "    </tr>\n",
              "    <tr>\n",
              "      <th>274</th>\n",
              "      <td>275</td>\n",
              "      <td>Gia Lai</td>\n",
              "      <td>Huyện Kông Chro</td>\n",
              "    </tr>\n",
              "    <tr>\n",
              "      <th>275</th>\n",
              "      <td>276</td>\n",
              "      <td>Gia Lai</td>\n",
              "      <td>Huyện Krông Pa</td>\n",
              "    </tr>\n",
              "    <tr>\n",
              "      <th>276</th>\n",
              "      <td>277</td>\n",
              "      <td>Gia Lai</td>\n",
              "      <td>Huyện Mang Yang</td>\n",
              "    </tr>\n",
              "    <tr>\n",
              "      <th>277</th>\n",
              "      <td>278</td>\n",
              "      <td>Gia Lai</td>\n",
              "      <td>Huyện Phú Thiện</td>\n",
              "    </tr>\n",
              "  </tbody>\n",
              "</table>\n",
              "</div>"
            ],
            "text/plain": [
              "     STT Tỉnh Thành                  Quận Huyện\n",
              "261  262    Gia Lai  Thành phố Pleiku (tỉnh lỵ)\n",
              "262  263    Gia Lai               Thị xã An Khê\n",
              "263  264    Gia Lai              Thị xã Ayun Pa\n",
              "264  265    Gia Lai               Huyện Chư Păh\n",
              "265  266    Gia Lai             Huyện Chư Prông\n",
              "266  267    Gia Lai               Huyện Chư Pưh\n",
              "267  268    Gia Lai                Huyện Chư Sê\n",
              "268  269    Gia Lai               Huyện Đak Đoa\n",
              "269  270    Gia Lai                Huyện Đak Pơ\n",
              "270  271    Gia Lai                Huyện Đức Cơ\n",
              "271  272    Gia Lai               Huyện Ia Grai\n",
              "272  273    Gia Lai                 Huyện Ia Pa\n",
              "273  274    Gia Lai                 Huyện Kbang\n",
              "274  275    Gia Lai             Huyện Kông Chro\n",
              "275  276    Gia Lai              Huyện Krông Pa\n",
              "276  277    Gia Lai             Huyện Mang Yang\n",
              "277  278    Gia Lai             Huyện Phú Thiện"
            ]
          },
          "metadata": {},
          "execution_count": 275
        }
      ]
    },
    {
      "cell_type": "code",
      "metadata": {
        "id": "6-G_RYjfiCaG",
        "colab": {
          "base_uri": "https://localhost:8080/"
        },
        "outputId": "b335d273-f954-4c54-8f3e-707563d8def1"
      },
      "source": [
        "similar(' Hà Nội',' Hà Nội')"
      ],
      "execution_count": null,
      "outputs": [
        {
          "output_type": "execute_result",
          "data": {
            "text/plain": [
              "0.625"
            ]
          },
          "metadata": {},
          "execution_count": 283
        }
      ]
    },
    {
      "cell_type": "code",
      "metadata": {
        "id": "RzMOv1fQQ4zs",
        "colab": {
          "base_uri": "https://localhost:8080/"
        },
        "outputId": "3b69b498-2572-4f74-bd43-f1fcf1c53d38"
      },
      "source": [
        "error_index = []\n",
        "ds_tinh = []\n",
        "ds_quan = []\n",
        "errors = []\n",
        "for i in df.index:\n",
        "  address = str(df['Địa chỉ'][i])\n",
        "  address = address.replace('-',',')\n",
        "  devided_address = address.split(',')\n",
        "\n",
        "  if len(devided_address)<2:\n",
        "    print(address)\n",
        "    ds_tinh.append(None)\n",
        "    ds_quan.append(None)\n",
        "    continue\n",
        "  if ' Hà Nội' in devided_address[-1]:\n",
        "    devided_address[-1] = 'Hà Nội'\n",
        "  check, tinh, quan = check_add(add_df, devided_address[-1].strip(), devided_address[-2].strip())\n",
        "  if not check:\n",
        "    errors.append(address)\n",
        "    ds_tinh.append(None)\n",
        "    ds_quan.append(None)\n",
        "    continue\n",
        "    #error_index.append(i)\n",
        "  ds_tinh.append(tinh)\n",
        "  ds_quan.append(quan)\n",
        "#df['Tỉnh'] = ds_tinh\n",
        "#df['Quận'] = ds_quan\n",
        "#df = df.drop(error_index,axis=0)"
      ],
      "execution_count": null,
      "outputs": [
        {
          "output_type": "stream",
          "name": "stdout",
          "text": [
            "Đường Nguyễn Khuyến Phường Văn Quán Quận Hà Đông   Hà Nội\n",
            "Phố Việt Hưng Phường Việt Hưng Quận Long Biên   Hà Nội\n",
            "Phố Việt Hưng Phường Việt Hưng Quận Long Biên   Hà Nội\n",
            "112 minh phung\n",
            "Đường Thạch Bàn Phường Thạch Bàn Quận Long Biên   Hà Nội\n",
            "Đường Thạch Bàn Phường Thạch Bàn Quận Long Biên   Hà Nội\n",
            "112 minh phung\n",
            "112 minh phung\n",
            "112 minh phung\n",
            "112 minh phung\n",
            "Siêu víp 110m 5T 22 tỷ\n",
            "Đường Xô Viết Nghệ Tĩnh Phường 21 Quận Bình Thạnh   Hồ Chí Minh\n",
            "Đường Xô Viết Nghệ Tĩnh Phường 21 Quận Bình Thạnh   Hồ Chí Minh\n",
            "Phố Ngõ Trạm Phường Long Biên Quận Long Biên   Hà Nội\n",
            "Văn Giang\n",
            "Văn Giang\n",
            "Đường Tỉnh Lộ 422B Xã Vân Canh Huyện Hoài Đức   Hà Nội Xã Vân Canh Huyện Hoài Đức   Hà Nội\n",
            "Văn Giang\n",
            "KHU CÔNG NGHIỆP ĐÔNG MAI QUẢNG YÊN QUẢNG NINH\n",
            "327/5 Nguyễn Văn Khối(Cây Trâm) P.8 Q. Gò Vấp Tp.HCM\n",
            "Đường Võ Văn Kiệt phường Cầu Kho Quận 1 Hồ Chí Minh\n",
            "Đường Thạch Bàn Phường Thạch Bàn Quận Long Biên   Hà Nội\n"
          ]
        }
      ]
    },
    {
      "cell_type": "code",
      "metadata": {
        "id": "UaWNvMZmthxM"
      },
      "source": [
        "for key in new_df.keys():\n",
        "  if len(new_df[key])<2:\n",
        "    new_df[key] = list(df[key])"
      ],
      "execution_count": null,
      "outputs": []
    },
    {
      "cell_type": "code",
      "metadata": {
        "id": "sjoRCTl4uLpf"
      },
      "source": [
        "pd.DataFrame(new_df).to_csv('../data_preprocessed.csv', index=False)"
      ],
      "execution_count": null,
      "outputs": []
    },
    {
      "cell_type": "code",
      "metadata": {
        "id": "uX6E2tTtulcC"
      },
      "source": [
        "df = pd.read_csv('../data_preprocessed.csv')"
      ],
      "execution_count": null,
      "outputs": []
    },
    {
      "cell_type": "code",
      "metadata": {
        "id": "7Uj1_czqtlD_",
        "colab": {
          "base_uri": "https://localhost:8080/"
        },
        "outputId": "3dd9af81-02db-420b-e801-711ade000541"
      },
      "source": [
        "len(df)"
      ],
      "execution_count": null,
      "outputs": [
        {
          "output_type": "execute_result",
          "data": {
            "text/plain": [
              "199323"
            ]
          },
          "metadata": {},
          "execution_count": 336
        }
      ]
    },
    {
      "cell_type": "code",
      "metadata": {
        "id": "NxWr9dH9dczp"
      },
      "source": [
        "df = df.drop(columns=['Địa chỉ'])"
      ],
      "execution_count": null,
      "outputs": []
    },
    {
      "cell_type": "code",
      "metadata": {
        "id": "BLwmc1HY_J-S",
        "colab": {
          "base_uri": "https://localhost:8080/",
          "height": 920
        },
        "outputId": "7ad3beb3-d4ec-47dd-9618-40f9fa0b0067"
      },
      "source": [
        "df.iloc[[226,227,228,229,230]]"
      ],
      "execution_count": null,
      "outputs": [
        {
          "output_type": "execute_result",
          "data": {
            "text/html": [
              "<div>\n",
              "<style scoped>\n",
              "    .dataframe tbody tr th:only-of-type {\n",
              "        vertical-align: middle;\n",
              "    }\n",
              "\n",
              "    .dataframe tbody tr th {\n",
              "        vertical-align: top;\n",
              "    }\n",
              "\n",
              "    .dataframe thead th {\n",
              "        text-align: right;\n",
              "    }\n",
              "</style>\n",
              "<table border=\"1\" class=\"dataframe\">\n",
              "  <thead>\n",
              "    <tr style=\"text-align: right;\">\n",
              "      <th></th>\n",
              "      <th>Tên</th>\n",
              "      <th>Mô tả</th>\n",
              "      <th>Mức giá</th>\n",
              "      <th>Diện tích</th>\n",
              "      <th>Loại tin đăng</th>\n",
              "      <th>Địa chỉ</th>\n",
              "      <th>Mặt tiền</th>\n",
              "      <th>Đường vào</th>\n",
              "      <th>Hướng ban công</th>\n",
              "      <th>Số tầng</th>\n",
              "      <th>Số phòng ngủ</th>\n",
              "      <th>Số toilet</th>\n",
              "      <th>Nội thất</th>\n",
              "      <th>Pháp lý</th>\n",
              "      <th>Tên dự án</th>\n",
              "      <th>Chủ đầu tư</th>\n",
              "      <th>Quy mô</th>\n",
              "      <th>Ngày đăng</th>\n",
              "      <th>Ngày hết hạn</th>\n",
              "      <th>Mã tin</th>\n",
              "      <th>Phòng ngủ</th>\n",
              "      <th>Hướng nhà</th>\n",
              "      <th>Loại tin</th>\n",
              "      <th>url</th>\n",
              "    </tr>\n",
              "  </thead>\n",
              "  <tbody>\n",
              "    <tr>\n",
              "      <th>226</th>\n",
              "      <td>Bán BT Hoa Phượng 03 - 06 hướng ĐN, 298.1m2 đấ...</td>\n",
              "      <td>Thông tin lô biệt thự siêu đẹp khu Hoa Phượng ...</td>\n",
              "      <td>25.5 tỷ</td>\n",
              "      <td>298.1 m²</td>\n",
              "      <td>Bán nhà biệt thự, liền kề (nhà trong dự án quy...</td>\n",
              "      <td>Dự án Vinhomes Riverside, Đường Hoa Phượng 3, ...</td>\n",
              "      <td>NaN</td>\n",
              "      <td>NaN</td>\n",
              "      <td>NaN</td>\n",
              "      <td>3 tầng</td>\n",
              "      <td>NaN</td>\n",
              "      <td>NaN</td>\n",
              "      <td>NaN</td>\n",
              "      <td>NaN</td>\n",
              "      <td>Vinhomes Riverside</td>\n",
              "      <td>Tập đoàn Vingroup</td>\n",
              "      <td>3000 căn biệt thự</td>\n",
              "      <td>06/11/2021</td>\n",
              "      <td>13/11/2021</td>\n",
              "      <td>15609400</td>\n",
              "      <td>NaN</td>\n",
              "      <td>Đông-Nam</td>\n",
              "      <td>Tin thường</td>\n",
              "      <td>https://batdongsan.com.vn/nha-dat-ban//ban-nha...</td>\n",
              "    </tr>\n",
              "    <tr>\n",
              "      <th>227</th>\n",
              "      <td>Bán nhà HXH căn góc 2 mặt tiền Bùi Quang là 4....</td>\n",
              "      <td>Bán nhà HXH căn góc 2 mặt tiền Bùi Quang là 4....</td>\n",
              "      <td>6.9 tỷ</td>\n",
              "      <td>82 m²</td>\n",
              "      <td>Bán nhà riêng</td>\n",
              "      <td>Đường Bùi Quang Là, Phường 12, Gò Vấp, Hồ Chí ...</td>\n",
              "      <td>NaN</td>\n",
              "      <td>6 m</td>\n",
              "      <td>NaN</td>\n",
              "      <td>1 tầng</td>\n",
              "      <td>4 phòng</td>\n",
              "      <td>4 phòng</td>\n",
              "      <td>NaN</td>\n",
              "      <td>Sổ đỏ chính chủ</td>\n",
              "      <td>NaN</td>\n",
              "      <td>NaN</td>\n",
              "      <td>NaN</td>\n",
              "      <td>06/11/2021</td>\n",
              "      <td>16/11/2021</td>\n",
              "      <td>30807159</td>\n",
              "      <td>4 PN</td>\n",
              "      <td>NaN</td>\n",
              "      <td>Tin thường</td>\n",
              "      <td>https://batdongsan.com.vn/nha-dat-ban//ban-nha...</td>\n",
              "    </tr>\n",
              "    <tr>\n",
              "      <th>228</th>\n",
              "      <td>Chính chủ bán lỗ 5 tỷ Vinpearl PQ2 2T4PN - giá...</td>\n",
              "      <td>- Chủ nhà cần bán nhanh căn biệt thự mặt biển ...</td>\n",
              "      <td>18 tỷ</td>\n",
              "      <td>450 m²</td>\n",
              "      <td>Bán nhà biệt thự, liền kề (nhà trong dự án quy...</td>\n",
              "      <td>Dự án Vinpearl Phú Quốc, Gành Dầu, Phú Quốc, K...</td>\n",
              "      <td>NaN</td>\n",
              "      <td>NaN</td>\n",
              "      <td>NaN</td>\n",
              "      <td>2 tầng</td>\n",
              "      <td>4 phòng</td>\n",
              "      <td>NaN</td>\n",
              "      <td>NaN</td>\n",
              "      <td>NaN</td>\n",
              "      <td>Vinpearl Phú Quốc</td>\n",
              "      <td>Tập đoàn Vingroup</td>\n",
              "      <td>NaN</td>\n",
              "      <td>06/11/2021</td>\n",
              "      <td>13/11/2021</td>\n",
              "      <td>31219222</td>\n",
              "      <td>4 PN</td>\n",
              "      <td>NaN</td>\n",
              "      <td>Tin thường</td>\n",
              "      <td>https://batdongsan.com.vn/nha-dat-ban//ban-nha...</td>\n",
              "    </tr>\n",
              "    <tr>\n",
              "      <th>229</th>\n",
              "      <td>Cần bán gấp đất hẻm 8m Phước Kiển, Lê Văn Lươn...</td>\n",
              "      <td>Cần bán gấp đất hẻm 8m Phước Kiển, Lê Văn Lươn...</td>\n",
              "      <td>35.5 triệu/m²</td>\n",
              "      <td>126 m²</td>\n",
              "      <td>Bán đất</td>\n",
              "      <td>Đường Lê Văn Lương, Xã Phước Kiển, Nhà Bè, Hồ ...</td>\n",
              "      <td>NaN</td>\n",
              "      <td>8 m</td>\n",
              "      <td>NaN</td>\n",
              "      <td>NaN</td>\n",
              "      <td>NaN</td>\n",
              "      <td>NaN</td>\n",
              "      <td>NaN</td>\n",
              "      <td>NaN</td>\n",
              "      <td>NaN</td>\n",
              "      <td>NaN</td>\n",
              "      <td>NaN</td>\n",
              "      <td>06/11/2021</td>\n",
              "      <td>13/11/2021</td>\n",
              "      <td>31225082</td>\n",
              "      <td>NaN</td>\n",
              "      <td>NaN</td>\n",
              "      <td>Tin thường</td>\n",
              "      <td>https://batdongsan.com.vn/nha-dat-ban//ban-dat...</td>\n",
              "    </tr>\n",
              "    <tr>\n",
              "      <th>230</th>\n",
              "      <td>Bán căn hộ Duplex Happy Valley, hỗ trợ trả góp...</td>\n",
              "      <td>- Bán căn hộ Penthouse phong cách resort 5 sao...</td>\n",
              "      <td>Thỏa thuận</td>\n",
              "      <td>179 m²</td>\n",
              "      <td>Bán căn hộ chung cư</td>\n",
              "      <td>Dự án Happy Valley, Đường Nguyễn Văn Linh, Phư...</td>\n",
              "      <td>NaN</td>\n",
              "      <td>NaN</td>\n",
              "      <td>NaN</td>\n",
              "      <td>NaN</td>\n",
              "      <td>NaN</td>\n",
              "      <td>NaN</td>\n",
              "      <td>NaN</td>\n",
              "      <td>NaN</td>\n",
              "      <td>Happy Valley</td>\n",
              "      <td>Công ty TNHH Phát Triển Phú Mỹ Hưng</td>\n",
              "      <td>NaN</td>\n",
              "      <td>06/11/2021</td>\n",
              "      <td>13/11/2021</td>\n",
              "      <td>23688847</td>\n",
              "      <td>NaN</td>\n",
              "      <td>NaN</td>\n",
              "      <td>Tin thường</td>\n",
              "      <td>https://batdongsan.com.vn/nha-dat-ban//ban-can...</td>\n",
              "    </tr>\n",
              "  </tbody>\n",
              "</table>\n",
              "</div>"
            ],
            "text/plain": [
              "                                                   Tên  ...                                                url\n",
              "226  Bán BT Hoa Phượng 03 - 06 hướng ĐN, 298.1m2 đấ...  ...  https://batdongsan.com.vn/nha-dat-ban//ban-nha...\n",
              "227  Bán nhà HXH căn góc 2 mặt tiền Bùi Quang là 4....  ...  https://batdongsan.com.vn/nha-dat-ban//ban-nha...\n",
              "228  Chính chủ bán lỗ 5 tỷ Vinpearl PQ2 2T4PN - giá...  ...  https://batdongsan.com.vn/nha-dat-ban//ban-nha...\n",
              "229  Cần bán gấp đất hẻm 8m Phước Kiển, Lê Văn Lươn...  ...  https://batdongsan.com.vn/nha-dat-ban//ban-dat...\n",
              "230  Bán căn hộ Duplex Happy Valley, hỗ trợ trả góp...  ...  https://batdongsan.com.vn/nha-dat-ban//ban-can...\n",
              "\n",
              "[5 rows x 24 columns]"
            ]
          },
          "metadata": {},
          "execution_count": 28
        }
      ]
    },
    {
      "cell_type": "code",
      "metadata": {
        "colab": {
          "base_uri": "https://localhost:8080/",
          "height": 1000
        },
        "id": "f8UA36W3UpKi",
        "outputId": "2eb818dd-84bf-44d0-9434-fa702ded3a4c"
      },
      "source": [
        "df.head(10)"
      ],
      "execution_count": null,
      "outputs": [
        {
          "output_type": "execute_result",
          "data": {
            "text/html": [
              "<div>\n",
              "<style scoped>\n",
              "    .dataframe tbody tr th:only-of-type {\n",
              "        vertical-align: middle;\n",
              "    }\n",
              "\n",
              "    .dataframe tbody tr th {\n",
              "        vertical-align: top;\n",
              "    }\n",
              "\n",
              "    .dataframe thead th {\n",
              "        text-align: right;\n",
              "    }\n",
              "</style>\n",
              "<table border=\"1\" class=\"dataframe\">\n",
              "  <thead>\n",
              "    <tr style=\"text-align: right;\">\n",
              "      <th></th>\n",
              "      <th>Tên</th>\n",
              "      <th>Mô tả</th>\n",
              "      <th>Mức giá</th>\n",
              "      <th>Diện tích</th>\n",
              "      <th>Loại tin đăng</th>\n",
              "      <th>Địa chỉ</th>\n",
              "      <th>Mặt tiền</th>\n",
              "      <th>Đường vào</th>\n",
              "      <th>Hướng ban công</th>\n",
              "      <th>Số tầng</th>\n",
              "      <th>Số phòng ngủ</th>\n",
              "      <th>Số toilet</th>\n",
              "      <th>Nội thất</th>\n",
              "      <th>Pháp lý</th>\n",
              "      <th>Tên dự án</th>\n",
              "      <th>Chủ đầu tư</th>\n",
              "      <th>Quy mô</th>\n",
              "      <th>Ngày đăng</th>\n",
              "      <th>Ngày hết hạn</th>\n",
              "      <th>Mã tin</th>\n",
              "      <th>Phòng ngủ</th>\n",
              "      <th>Hướng nhà</th>\n",
              "      <th>Loại tin</th>\n",
              "      <th>url</th>\n",
              "    </tr>\n",
              "  </thead>\n",
              "  <tbody>\n",
              "    <tr>\n",
              "      <th>0</th>\n",
              "      <td>Chính chủ cần bán gấp lô đất ngay gần chợ Sông...</td>\n",
              "      <td>- Ngay chợ Sông Trầu.- Dân cư đang phát triển,...</td>\n",
              "      <td>860 triệu</td>\n",
              "      <td>90 m²</td>\n",
              "      <td>Bán đất</td>\n",
              "      <td>Đường Sông Trầu, Xã Sông Trầu, Trảng Bom, Đồng...</td>\n",
              "      <td>NaN</td>\n",
              "      <td>8 m</td>\n",
              "      <td>NaN</td>\n",
              "      <td>NaN</td>\n",
              "      <td>NaN</td>\n",
              "      <td>NaN</td>\n",
              "      <td>NaN</td>\n",
              "      <td>Sổ đỏ/ Sổ hồng</td>\n",
              "      <td>NaN</td>\n",
              "      <td>NaN</td>\n",
              "      <td>NaN</td>\n",
              "      <td>06/11/2021</td>\n",
              "      <td>13/11/2021</td>\n",
              "      <td>31319056</td>\n",
              "      <td>NaN</td>\n",
              "      <td>NaN</td>\n",
              "      <td>Tin thường</td>\n",
              "      <td>https://batdongsan.com.vn/nha-dat-ban//ban-dat...</td>\n",
              "    </tr>\n",
              "    <tr>\n",
              "      <th>1</th>\n",
              "      <td>Bán lô đất TĐC giai đoạn 3 Bửu Long, Biên Hòa ...</td>\n",
              "      <td>Bán lô đất TĐC giai đoạn 3 Bửu Long, Biên Hòa....</td>\n",
              "      <td>2.2 tỷ</td>\n",
              "      <td>79.8 m²</td>\n",
              "      <td>Bán đất</td>\n",
              "      <td>Phường Bửu Long, Biên Hòa, Đồng Nai</td>\n",
              "      <td>NaN</td>\n",
              "      <td>10 m</td>\n",
              "      <td>NaN</td>\n",
              "      <td>NaN</td>\n",
              "      <td>NaN</td>\n",
              "      <td>NaN</td>\n",
              "      <td>NaN</td>\n",
              "      <td>NaN</td>\n",
              "      <td>NaN</td>\n",
              "      <td>NaN</td>\n",
              "      <td>NaN</td>\n",
              "      <td>06/11/2021</td>\n",
              "      <td>13/11/2021</td>\n",
              "      <td>31319055</td>\n",
              "      <td>NaN</td>\n",
              "      <td>Nam</td>\n",
              "      <td>Tin thường</td>\n",
              "      <td>https://batdongsan.com.vn/nha-dat-ban//ban-dat...</td>\n",
              "    </tr>\n",
              "    <tr>\n",
              "      <th>2</th>\n",
              "      <td>Duy nhất căn nhà phố vị trí đẹp khu Habor 1 Aq...</td>\n",
              "      <td>* Nhà phố giá tốt - đẹp không khác gì shophous...</td>\n",
              "      <td>15.419 tỷ</td>\n",
              "      <td>138 m²</td>\n",
              "      <td>Bán nhà biệt thự, liền kề (nhà trong dự án quy...</td>\n",
              "      <td>Dự án Aqua City, Đường Hương lộ 2, Xã Long Hưn...</td>\n",
              "      <td>NaN</td>\n",
              "      <td>NaN</td>\n",
              "      <td>NaN</td>\n",
              "      <td>4 tầng</td>\n",
              "      <td>NaN</td>\n",
              "      <td>NaN</td>\n",
              "      <td>NaN</td>\n",
              "      <td>NaN</td>\n",
              "      <td>Aqua City</td>\n",
              "      <td>Novaland Group</td>\n",
              "      <td>11 phân khu với 15000 căn nhà phố, biệt thự, s...</td>\n",
              "      <td>06/11/2021</td>\n",
              "      <td>16/11/2021</td>\n",
              "      <td>31319054</td>\n",
              "      <td>NaN</td>\n",
              "      <td>NaN</td>\n",
              "      <td>Tin thường</td>\n",
              "      <td>https://batdongsan.com.vn/nha-dat-ban//ban-nha...</td>\n",
              "    </tr>\n",
              "    <tr>\n",
              "      <th>3</th>\n",
              "      <td>Nhà mặt tiền đường Lê Hồng Phong, ngay vòng xo...</td>\n",
              "      <td>Bán nhà mặt tiền đường Lê Hồng Phong, phường P...</td>\n",
              "      <td>6.5 tỷ</td>\n",
              "      <td>74.5 m²</td>\n",
              "      <td>Bán nhà mặt phố (nhà mặt tiền trên các tuyến phố)</td>\n",
              "      <td>Đường Lê Hồng Phong, Phường Phước Long, Nha Tr...</td>\n",
              "      <td>4.77 m</td>\n",
              "      <td>30 m</td>\n",
              "      <td>NaN</td>\n",
              "      <td>3 tầng</td>\n",
              "      <td>4 phòng</td>\n",
              "      <td>3 phòng</td>\n",
              "      <td>NaN</td>\n",
              "      <td>Sổ đỏ/ Sổ hồng</td>\n",
              "      <td>NaN</td>\n",
              "      <td>NaN</td>\n",
              "      <td>NaN</td>\n",
              "      <td>06/11/2021</td>\n",
              "      <td>13/11/2021</td>\n",
              "      <td>31319053</td>\n",
              "      <td>4 PN</td>\n",
              "      <td>Tây-Nam</td>\n",
              "      <td>Tin thường</td>\n",
              "      <td>https://batdongsan.com.vn/nha-dat-ban//ban-nha...</td>\n",
              "    </tr>\n",
              "    <tr>\n",
              "      <th>4</th>\n",
              "      <td>Nhà MT đường số 4 Linh Xuân, ngay chợ 3MT đườn...</td>\n",
              "      <td>Nhà MT đường số 4, Linh Xuân, ngay chợ 3MT đườ...</td>\n",
              "      <td>1.8 tỷ</td>\n",
              "      <td>80 m²</td>\n",
              "      <td>Bán nhà mặt phố (nhà mặt tiền trên các tuyến phố)</td>\n",
              "      <td>Đường Số 4, Phường Linh Xuân, Thủ Đức, Hồ Chí ...</td>\n",
              "      <td>4 m</td>\n",
              "      <td>20 m</td>\n",
              "      <td>NaN</td>\n",
              "      <td>1 tầng</td>\n",
              "      <td>2 phòng</td>\n",
              "      <td>2 phòng</td>\n",
              "      <td>Cơ bản</td>\n",
              "      <td>Mua bán công chứng vi bằng</td>\n",
              "      <td>NaN</td>\n",
              "      <td>NaN</td>\n",
              "      <td>NaN</td>\n",
              "      <td>06/11/2021</td>\n",
              "      <td>13/11/2021</td>\n",
              "      <td>31319052</td>\n",
              "      <td>2 PN</td>\n",
              "      <td>NaN</td>\n",
              "      <td>Tin thường</td>\n",
              "      <td>https://batdongsan.com.vn/nha-dat-ban//ban-nha...</td>\n",
              "    </tr>\n",
              "    <tr>\n",
              "      <th>5</th>\n",
              "      <td>Chính chủ cần bán nhanh lô đất mặt tiền nhựa B...</td>\n",
              "      <td>Chính chủ cần bán nhanh lô đất mặt tiền nhựa B...</td>\n",
              "      <td>Thỏa thuận</td>\n",
              "      <td>125 m²</td>\n",
              "      <td>Bán đất</td>\n",
              "      <td>Đường Bắc Hòa - Phú Sơn, Xã Bắc Sơn, Trảng Bom...</td>\n",
              "      <td>5 m</td>\n",
              "      <td>6 m</td>\n",
              "      <td>NaN</td>\n",
              "      <td>NaN</td>\n",
              "      <td>NaN</td>\n",
              "      <td>NaN</td>\n",
              "      <td>NaN</td>\n",
              "      <td>NaN</td>\n",
              "      <td>NaN</td>\n",
              "      <td>NaN</td>\n",
              "      <td>NaN</td>\n",
              "      <td>06/11/2021</td>\n",
              "      <td>16/11/2021</td>\n",
              "      <td>30500121</td>\n",
              "      <td>NaN</td>\n",
              "      <td>NaN</td>\n",
              "      <td>Tin thường</td>\n",
              "      <td>https://batdongsan.com.vn/nha-dat-ban//ban-dat...</td>\n",
              "    </tr>\n",
              "    <tr>\n",
              "      <th>6</th>\n",
              "      <td>Cần bán nhà hẻm xe hơi Huỳnh Mẫn Đạt, diện tíc...</td>\n",
              "      <td>Bán giảm giá mùa dịch nhà HXH Huỳnh Mẫn Đạt, Q...</td>\n",
              "      <td>11 tỷ</td>\n",
              "      <td>77 m²</td>\n",
              "      <td>Bán nhà riêng</td>\n",
              "      <td>Đường Huỳnh Mẫn Đạt, Phường 2, Quận 5, Hồ Chí ...</td>\n",
              "      <td>NaN</td>\n",
              "      <td>NaN</td>\n",
              "      <td>NaN</td>\n",
              "      <td>NaN</td>\n",
              "      <td>NaN</td>\n",
              "      <td>NaN</td>\n",
              "      <td>NaN</td>\n",
              "      <td>NaN</td>\n",
              "      <td>NaN</td>\n",
              "      <td>NaN</td>\n",
              "      <td>NaN</td>\n",
              "      <td>06/11/2021</td>\n",
              "      <td>13/11/2021</td>\n",
              "      <td>30920576</td>\n",
              "      <td>NaN</td>\n",
              "      <td>NaN</td>\n",
              "      <td>Tin thường</td>\n",
              "      <td>https://batdongsan.com.vn/nha-dat-ban//ban-nha...</td>\n",
              "    </tr>\n",
              "    <tr>\n",
              "      <th>7</th>\n",
              "      <td>Chính chủ cần bán đất P28, Bình Thạnh, SHR, 75...</td>\n",
              "      <td>Chính chủ cần bán gấp 1 lô duy nhất, đất mặt t...</td>\n",
              "      <td>4.6 tỷ</td>\n",
              "      <td>75 m²</td>\n",
              "      <td>Bán đất</td>\n",
              "      <td>Đường Bình Quới, Phường 28, Bình Thạnh, Hồ Chí...</td>\n",
              "      <td>NaN</td>\n",
              "      <td>NaN</td>\n",
              "      <td>NaN</td>\n",
              "      <td>NaN</td>\n",
              "      <td>NaN</td>\n",
              "      <td>NaN</td>\n",
              "      <td>NaN</td>\n",
              "      <td>Có sổ</td>\n",
              "      <td>NaN</td>\n",
              "      <td>NaN</td>\n",
              "      <td>NaN</td>\n",
              "      <td>06/11/2021</td>\n",
              "      <td>13/11/2021</td>\n",
              "      <td>19662900</td>\n",
              "      <td>NaN</td>\n",
              "      <td>NaN</td>\n",
              "      <td>Tin thường</td>\n",
              "      <td>https://batdongsan.com.vn/nha-dat-ban//ban-dat...</td>\n",
              "    </tr>\n",
              "    <tr>\n",
              "      <th>8</th>\n",
              "      <td>Cơ hội đầu tư TP Thủ Đức! Đất KDC Hiệp Bình mớ...</td>\n",
              "      <td>Mở bán đợt 1 mặt tiền đường Hiệp Bình, phường ...</td>\n",
              "      <td>2.8 tỷ</td>\n",
              "      <td>75 m²</td>\n",
              "      <td>Bán đất</td>\n",
              "      <td>Đường Hiệp Bình, Phường Hiệp Bình Phước, Thủ Đ...</td>\n",
              "      <td>5 m</td>\n",
              "      <td>8 m</td>\n",
              "      <td>NaN</td>\n",
              "      <td>NaN</td>\n",
              "      <td>NaN</td>\n",
              "      <td>NaN</td>\n",
              "      <td>NaN</td>\n",
              "      <td>Sổ đỏ/ Sổ hồng.</td>\n",
              "      <td>NaN</td>\n",
              "      <td>NaN</td>\n",
              "      <td>NaN</td>\n",
              "      <td>06/11/2021</td>\n",
              "      <td>13/11/2021</td>\n",
              "      <td>31319051</td>\n",
              "      <td>NaN</td>\n",
              "      <td>NaN</td>\n",
              "      <td>Tin thường</td>\n",
              "      <td>https://batdongsan.com.vn/nha-dat-ban//ban-dat...</td>\n",
              "    </tr>\n",
              "    <tr>\n",
              "      <th>9</th>\n",
              "      <td>Đất đẹp khu trung tâm thương mại 550, gần Viet...</td>\n",
              "      <td>Cần bán đất đường D3, kinh doanh buôn bán.Khu ...</td>\n",
              "      <td>5 tỷ</td>\n",
              "      <td>100 m²</td>\n",
              "      <td>Bán đất</td>\n",
              "      <td>Đường D3, Phường Dĩ An, Dĩ An, Bình Dương</td>\n",
              "      <td>5 m</td>\n",
              "      <td>NaN</td>\n",
              "      <td>NaN</td>\n",
              "      <td>NaN</td>\n",
              "      <td>NaN</td>\n",
              "      <td>NaN</td>\n",
              "      <td>NaN</td>\n",
              "      <td>NaN</td>\n",
              "      <td>NaN</td>\n",
              "      <td>NaN</td>\n",
              "      <td>NaN</td>\n",
              "      <td>06/11/2021</td>\n",
              "      <td>14/11/2021</td>\n",
              "      <td>31319050</td>\n",
              "      <td>NaN</td>\n",
              "      <td>NaN</td>\n",
              "      <td>Tin thường</td>\n",
              "      <td>https://batdongsan.com.vn/nha-dat-ban//ban-dat...</td>\n",
              "    </tr>\n",
              "  </tbody>\n",
              "</table>\n",
              "</div>"
            ],
            "text/plain": [
              "                                                 Tên  ...                                                url\n",
              "0  Chính chủ cần bán gấp lô đất ngay gần chợ Sông...  ...  https://batdongsan.com.vn/nha-dat-ban//ban-dat...\n",
              "1  Bán lô đất TĐC giai đoạn 3 Bửu Long, Biên Hòa ...  ...  https://batdongsan.com.vn/nha-dat-ban//ban-dat...\n",
              "2  Duy nhất căn nhà phố vị trí đẹp khu Habor 1 Aq...  ...  https://batdongsan.com.vn/nha-dat-ban//ban-nha...\n",
              "3  Nhà mặt tiền đường Lê Hồng Phong, ngay vòng xo...  ...  https://batdongsan.com.vn/nha-dat-ban//ban-nha...\n",
              "4  Nhà MT đường số 4 Linh Xuân, ngay chợ 3MT đườn...  ...  https://batdongsan.com.vn/nha-dat-ban//ban-nha...\n",
              "5  Chính chủ cần bán nhanh lô đất mặt tiền nhựa B...  ...  https://batdongsan.com.vn/nha-dat-ban//ban-dat...\n",
              "6  Cần bán nhà hẻm xe hơi Huỳnh Mẫn Đạt, diện tíc...  ...  https://batdongsan.com.vn/nha-dat-ban//ban-nha...\n",
              "7  Chính chủ cần bán đất P28, Bình Thạnh, SHR, 75...  ...  https://batdongsan.com.vn/nha-dat-ban//ban-dat...\n",
              "8  Cơ hội đầu tư TP Thủ Đức! Đất KDC Hiệp Bình mớ...  ...  https://batdongsan.com.vn/nha-dat-ban//ban-dat...\n",
              "9  Đất đẹp khu trung tâm thương mại 550, gần Viet...  ...  https://batdongsan.com.vn/nha-dat-ban//ban-dat...\n",
              "\n",
              "[10 rows x 24 columns]"
            ]
          },
          "metadata": {},
          "execution_count": 25
        }
      ]
    },
    {
      "cell_type": "markdown",
      "metadata": {
        "id": "FZT_EB3ndeWr"
      },
      "source": [
        "Save to csv"
      ]
    },
    {
      "cell_type": "code",
      "metadata": {
        "id": "9CzqwrC_cqUa"
      },
      "source": [
        "df.to_csv('preprocessed_data.csv')"
      ],
      "execution_count": null,
      "outputs": []
    },
    {
      "cell_type": "code",
      "metadata": {
        "colab": {
          "base_uri": "https://localhost:8080/",
          "height": 745
        },
        "id": "nLUh15_rc3O3",
        "outputId": "4c09e94f-09ea-4da7-dc20-88352a5fd261"
      },
      "source": [
        "pd.read_csv('preprocessed_data.csv').head(10)"
      ],
      "execution_count": null,
      "outputs": [
        {
          "output_type": "execute_result",
          "data": {
            "text/html": [
              "<div>\n",
              "<style scoped>\n",
              "    .dataframe tbody tr th:only-of-type {\n",
              "        vertical-align: middle;\n",
              "    }\n",
              "\n",
              "    .dataframe tbody tr th {\n",
              "        vertical-align: top;\n",
              "    }\n",
              "\n",
              "    .dataframe thead th {\n",
              "        text-align: right;\n",
              "    }\n",
              "</style>\n",
              "<table border=\"1\" class=\"dataframe\">\n",
              "  <thead>\n",
              "    <tr style=\"text-align: right;\">\n",
              "      <th></th>\n",
              "      <th>Unnamed: 0</th>\n",
              "      <th>Tên</th>\n",
              "      <th>Mô tả</th>\n",
              "      <th>Mức giá</th>\n",
              "      <th>Diện tích</th>\n",
              "      <th>Loại tin đăng</th>\n",
              "      <th>Mặt tiền</th>\n",
              "      <th>Đường vào</th>\n",
              "      <th>Hướng ban công</th>\n",
              "      <th>Số tầng</th>\n",
              "      <th>Số phòng ngủ</th>\n",
              "      <th>Số toilet</th>\n",
              "      <th>Nội thất</th>\n",
              "      <th>Pháp lý</th>\n",
              "      <th>Tên dự án</th>\n",
              "      <th>Chủ đầu tư</th>\n",
              "      <th>Quy mô</th>\n",
              "      <th>Ngày đăng</th>\n",
              "      <th>Ngày hết hạn</th>\n",
              "      <th>Mã tin</th>\n",
              "      <th>Phòng ngủ</th>\n",
              "      <th>Hướng nhà</th>\n",
              "      <th>Loại tin</th>\n",
              "      <th>url</th>\n",
              "      <th>Tỉnh</th>\n",
              "      <th>Quận</th>\n",
              "    </tr>\n",
              "  </thead>\n",
              "  <tbody>\n",
              "    <tr>\n",
              "      <th>0</th>\n",
              "      <td>0</td>\n",
              "      <td>Chính chủ cần bán gấp lô đất ngay gần chợ Sông...</td>\n",
              "      <td>- Ngay chợ Sông Trầu.- Dân cư đang phát triển,...</td>\n",
              "      <td>860.0</td>\n",
              "      <td>90.0</td>\n",
              "      <td>Bán đất</td>\n",
              "      <td>NaN</td>\n",
              "      <td>8.0</td>\n",
              "      <td>NaN</td>\n",
              "      <td>NaN</td>\n",
              "      <td>NaN</td>\n",
              "      <td>NaN</td>\n",
              "      <td>NaN</td>\n",
              "      <td>Sổ đỏ/ Sổ hồng</td>\n",
              "      <td>NaN</td>\n",
              "      <td>NaN</td>\n",
              "      <td>NaN</td>\n",
              "      <td>06/11/2021</td>\n",
              "      <td>13/11/2021</td>\n",
              "      <td>31319056.0</td>\n",
              "      <td>NaN</td>\n",
              "      <td>NaN</td>\n",
              "      <td>Tin thường</td>\n",
              "      <td>https://batdongsan.com.vn/nha-dat-ban//ban-dat...</td>\n",
              "      <td>Đồng Nai</td>\n",
              "      <td>Huyện Trảng Bom</td>\n",
              "    </tr>\n",
              "    <tr>\n",
              "      <th>1</th>\n",
              "      <td>5</td>\n",
              "      <td>Chính chủ cần bán nhanh lô đất mặt tiền nhựa B...</td>\n",
              "      <td>Chính chủ cần bán nhanh lô đất mặt tiền nhựa B...</td>\n",
              "      <td>-1.0</td>\n",
              "      <td>125.0</td>\n",
              "      <td>Bán đất</td>\n",
              "      <td>5.00</td>\n",
              "      <td>6.0</td>\n",
              "      <td>NaN</td>\n",
              "      <td>NaN</td>\n",
              "      <td>NaN</td>\n",
              "      <td>NaN</td>\n",
              "      <td>NaN</td>\n",
              "      <td>NaN</td>\n",
              "      <td>NaN</td>\n",
              "      <td>NaN</td>\n",
              "      <td>NaN</td>\n",
              "      <td>06/11/2021</td>\n",
              "      <td>16/11/2021</td>\n",
              "      <td>30500121.0</td>\n",
              "      <td>NaN</td>\n",
              "      <td>NaN</td>\n",
              "      <td>Tin thường</td>\n",
              "      <td>https://batdongsan.com.vn/nha-dat-ban//ban-dat...</td>\n",
              "      <td>Đồng Nai</td>\n",
              "      <td>Huyện Trảng Bom</td>\n",
              "    </tr>\n",
              "    <tr>\n",
              "      <th>2</th>\n",
              "      <td>6</td>\n",
              "      <td>Cần bán nhà hẻm xe hơi Huỳnh Mẫn Đạt, diện tíc...</td>\n",
              "      <td>Bán giảm giá mùa dịch nhà HXH Huỳnh Mẫn Đạt, Q...</td>\n",
              "      <td>11000.0</td>\n",
              "      <td>77.0</td>\n",
              "      <td>Bán nhà riêng</td>\n",
              "      <td>NaN</td>\n",
              "      <td>NaN</td>\n",
              "      <td>NaN</td>\n",
              "      <td>NaN</td>\n",
              "      <td>NaN</td>\n",
              "      <td>NaN</td>\n",
              "      <td>NaN</td>\n",
              "      <td>NaN</td>\n",
              "      <td>NaN</td>\n",
              "      <td>NaN</td>\n",
              "      <td>NaN</td>\n",
              "      <td>06/11/2021</td>\n",
              "      <td>13/11/2021</td>\n",
              "      <td>30920576.0</td>\n",
              "      <td>NaN</td>\n",
              "      <td>NaN</td>\n",
              "      <td>Tin thường</td>\n",
              "      <td>https://batdongsan.com.vn/nha-dat-ban//ban-nha...</td>\n",
              "      <td>Hồ Chí Minh</td>\n",
              "      <td>Quận 5</td>\n",
              "    </tr>\n",
              "    <tr>\n",
              "      <th>3</th>\n",
              "      <td>7</td>\n",
              "      <td>Chính chủ cần bán đất P28, Bình Thạnh, SHR, 75...</td>\n",
              "      <td>Chính chủ cần bán gấp 1 lô duy nhất, đất mặt t...</td>\n",
              "      <td>NaN</td>\n",
              "      <td>75.0</td>\n",
              "      <td>Bán đất</td>\n",
              "      <td>NaN</td>\n",
              "      <td>NaN</td>\n",
              "      <td>NaN</td>\n",
              "      <td>NaN</td>\n",
              "      <td>NaN</td>\n",
              "      <td>NaN</td>\n",
              "      <td>NaN</td>\n",
              "      <td>Có sổ</td>\n",
              "      <td>NaN</td>\n",
              "      <td>NaN</td>\n",
              "      <td>NaN</td>\n",
              "      <td>06/11/2021</td>\n",
              "      <td>13/11/2021</td>\n",
              "      <td>19662900.0</td>\n",
              "      <td>NaN</td>\n",
              "      <td>NaN</td>\n",
              "      <td>Tin thường</td>\n",
              "      <td>https://batdongsan.com.vn/nha-dat-ban//ban-dat...</td>\n",
              "      <td>Hồ Chí Minh</td>\n",
              "      <td>Quận Bình Thạnh</td>\n",
              "    </tr>\n",
              "    <tr>\n",
              "      <th>4</th>\n",
              "      <td>10</td>\n",
              "      <td>Bán gấp căn hộ cao cấp Fortuna Kim Hồng, Quận ...</td>\n",
              "      <td>Bán gấp căn hộ cao cấp Fortuna Kim Hồng Quận T...</td>\n",
              "      <td>NaN</td>\n",
              "      <td>75.0</td>\n",
              "      <td>Bán căn hộ chung cư</td>\n",
              "      <td>NaN</td>\n",
              "      <td>NaN</td>\n",
              "      <td>NaN</td>\n",
              "      <td>NaN</td>\n",
              "      <td>2.0</td>\n",
              "      <td>2.0</td>\n",
              "      <td>NaN</td>\n",
              "      <td>Sổ hồng</td>\n",
              "      <td>Fortuna - Vườn Lài</td>\n",
              "      <td>Công ty TNHH Dịch vụ Thương mại  Kim Hồng</td>\n",
              "      <td>NaN</td>\n",
              "      <td>06/11/2021</td>\n",
              "      <td>13/11/2021</td>\n",
              "      <td>31319048.0</td>\n",
              "      <td>2.0</td>\n",
              "      <td>NaN</td>\n",
              "      <td>Tin thường</td>\n",
              "      <td>https://batdongsan.com.vn/nha-dat-ban//ban-can...</td>\n",
              "      <td>Hồ Chí Minh</td>\n",
              "      <td>Quận Tân Phú</td>\n",
              "    </tr>\n",
              "    <tr>\n",
              "      <th>5</th>\n",
              "      <td>11</td>\n",
              "      <td>Chính chủ bán mảnh đất mặt ngõ 38 Tư Đình, Lon...</td>\n",
              "      <td>- Chủ bán mảnh đất ngõ 38 Tư Đình, Long Biên, ...</td>\n",
              "      <td>NaN</td>\n",
              "      <td>76.0</td>\n",
              "      <td>Bán đất</td>\n",
              "      <td>4.06</td>\n",
              "      <td>4.0</td>\n",
              "      <td>NaN</td>\n",
              "      <td>4.0</td>\n",
              "      <td>3.0</td>\n",
              "      <td>3.0</td>\n",
              "      <td>NaN</td>\n",
              "      <td>Sổ đỏ.</td>\n",
              "      <td>NaN</td>\n",
              "      <td>NaN</td>\n",
              "      <td>NaN</td>\n",
              "      <td>06/11/2021</td>\n",
              "      <td>13/11/2021</td>\n",
              "      <td>30957020.0</td>\n",
              "      <td>3.0</td>\n",
              "      <td>Tây-Bắc</td>\n",
              "      <td>Tin thường</td>\n",
              "      <td>https://batdongsan.com.vn/nha-dat-ban//ban-dat...</td>\n",
              "      <td>Hà Nội</td>\n",
              "      <td>Quận Long Biên</td>\n",
              "    </tr>\n",
              "    <tr>\n",
              "      <th>6</th>\n",
              "      <td>14</td>\n",
              "      <td>Chính chủ bán nhà xây mới ngõ 108 phố Đông Thi...</td>\n",
              "      <td>Chính chủ cần bán nhà ngõ 108 phố Đông Thiên, ...</td>\n",
              "      <td>NaN</td>\n",
              "      <td>37.6</td>\n",
              "      <td>Bán nhà riêng</td>\n",
              "      <td>4.00</td>\n",
              "      <td>NaN</td>\n",
              "      <td>NaN</td>\n",
              "      <td>5.0</td>\n",
              "      <td>3.0</td>\n",
              "      <td>4.0</td>\n",
              "      <td>NaN</td>\n",
              "      <td>Sổ đỏ/ Sổ hồng.</td>\n",
              "      <td>NaN</td>\n",
              "      <td>NaN</td>\n",
              "      <td>NaN</td>\n",
              "      <td>06/11/2021</td>\n",
              "      <td>13/11/2021</td>\n",
              "      <td>31319046.0</td>\n",
              "      <td>3.0</td>\n",
              "      <td>NaN</td>\n",
              "      <td>Tin thường</td>\n",
              "      <td>https://batdongsan.com.vn/nha-dat-ban//ban-nha...</td>\n",
              "      <td>Hà Nội</td>\n",
              "      <td>Quận Hoàng Mai</td>\n",
              "    </tr>\n",
              "    <tr>\n",
              "      <th>7</th>\n",
              "      <td>15</td>\n",
              "      <td>Nhà mặt đường Hàng Kênh - Lê Chân - Hải Phòng</td>\n",
              "      <td>Nhà mặt đường Hàng Kênh.- DTMB: 54m2, ngang 4,...</td>\n",
              "      <td>NaN</td>\n",
              "      <td>54.0</td>\n",
              "      <td>Bán nhà mặt phố (nhà mặt tiền trên các tuyến phố)</td>\n",
              "      <td>NaN</td>\n",
              "      <td>NaN</td>\n",
              "      <td>NaN</td>\n",
              "      <td>NaN</td>\n",
              "      <td>NaN</td>\n",
              "      <td>NaN</td>\n",
              "      <td>NaN</td>\n",
              "      <td>Sổ đỏ/ Sổ hồng</td>\n",
              "      <td>NaN</td>\n",
              "      <td>NaN</td>\n",
              "      <td>NaN</td>\n",
              "      <td>06/11/2021</td>\n",
              "      <td>13/11/2021</td>\n",
              "      <td>31226161.0</td>\n",
              "      <td>NaN</td>\n",
              "      <td>NaN</td>\n",
              "      <td>Tin thường</td>\n",
              "      <td>https://batdongsan.com.vn/nha-dat-ban//ban-nha...</td>\n",
              "      <td>Hải Phòng</td>\n",
              "      <td>Quận Lê Chân</td>\n",
              "    </tr>\n",
              "    <tr>\n",
              "      <th>8</th>\n",
              "      <td>16</td>\n",
              "      <td>Bán gấp biệt thự Cổ Nhuế - Nam Cường, 3.5 tầng...</td>\n",
              "      <td>Cần bán căn biệt thự xây thô tại khu Nam Cường...</td>\n",
              "      <td>117.0</td>\n",
              "      <td>225.0</td>\n",
              "      <td>Bán nhà biệt thự, liền kề (nhà trong dự án quy...</td>\n",
              "      <td>10.00</td>\n",
              "      <td>10.0</td>\n",
              "      <td>Đông-Nam</td>\n",
              "      <td>4.0</td>\n",
              "      <td>4.0</td>\n",
              "      <td>6.0</td>\n",
              "      <td>NaN</td>\n",
              "      <td>Sổ hồng chính chủ</td>\n",
              "      <td>Khu đô thị mới Cổ Nhuế</td>\n",
              "      <td>Công ty CP Tập đoàn Nam Cường Hà Nội</td>\n",
              "      <td>Gồm khối văn phòng cho thuê và 3 tòa chung cư ...</td>\n",
              "      <td>06/11/2021</td>\n",
              "      <td>13/11/2021</td>\n",
              "      <td>30557861.0</td>\n",
              "      <td>4.0</td>\n",
              "      <td>Đông-Nam</td>\n",
              "      <td>Tin thường</td>\n",
              "      <td>https://batdongsan.com.vn/nha-dat-ban//ban-nha...</td>\n",
              "      <td>Hà Nội</td>\n",
              "      <td>Quận Bắc Từ Liêm</td>\n",
              "    </tr>\n",
              "    <tr>\n",
              "      <th>9</th>\n",
              "      <td>17</td>\n",
              "      <td>Bán đất Hà Đông 3 tại quận Thanh Khê, Đà Nẵng:...</td>\n",
              "      <td>Cảm ơn quý khách đã quan tâm lô đất đường Hà Đ...</td>\n",
              "      <td>54.0</td>\n",
              "      <td>97.0</td>\n",
              "      <td>Bán đất</td>\n",
              "      <td>5.00</td>\n",
              "      <td>5.5</td>\n",
              "      <td>NaN</td>\n",
              "      <td>NaN</td>\n",
              "      <td>NaN</td>\n",
              "      <td>NaN</td>\n",
              "      <td>NaN</td>\n",
              "      <td>NaN</td>\n",
              "      <td>NaN</td>\n",
              "      <td>NaN</td>\n",
              "      <td>NaN</td>\n",
              "      <td>06/11/2021</td>\n",
              "      <td>13/11/2021</td>\n",
              "      <td>30931085.0</td>\n",
              "      <td>NaN</td>\n",
              "      <td>Tây</td>\n",
              "      <td>Tin thường</td>\n",
              "      <td>https://batdongsan.com.vn/nha-dat-ban//ban-dat...</td>\n",
              "      <td>Đà Nẵng</td>\n",
              "      <td>Quận Thanh Khê</td>\n",
              "    </tr>\n",
              "  </tbody>\n",
              "</table>\n",
              "</div>"
            ],
            "text/plain": [
              "   Unnamed: 0  ...              Quận\n",
              "0           0  ...   Huyện Trảng Bom\n",
              "1           5  ...   Huyện Trảng Bom\n",
              "2           6  ...            Quận 5\n",
              "3           7  ...   Quận Bình Thạnh\n",
              "4          10  ...      Quận Tân Phú\n",
              "5          11  ...    Quận Long Biên\n",
              "6          14  ...    Quận Hoàng Mai\n",
              "7          15  ...      Quận Lê Chân\n",
              "8          16  ...  Quận Bắc Từ Liêm\n",
              "9          17  ...    Quận Thanh Khê\n",
              "\n",
              "[10 rows x 26 columns]"
            ]
          },
          "metadata": {},
          "execution_count": 74
        }
      ]
    }
  ]
}