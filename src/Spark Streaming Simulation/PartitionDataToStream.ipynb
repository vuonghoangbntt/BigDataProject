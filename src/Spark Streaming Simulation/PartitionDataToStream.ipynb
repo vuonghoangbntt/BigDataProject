{
 "cells": [
  {
   "cell_type": "code",
   "execution_count": 1,
   "id": "525745af",
   "metadata": {},
   "outputs": [
    {
     "name": "stderr",
     "output_type": "stream",
     "text": [
      "Warning: Ignoring non-Spark config property: spark-master\n",
      "WARNING: An illegal reflective access operation has occurred\n",
      "WARNING: Illegal reflective access by org.apache.spark.unsafe.Platform (file:/usr/local/spark-3.2.0-bin-hadoop3.2/jars/spark-unsafe_2.12-3.2.0.jar) to constructor java.nio.DirectByteBuffer(long,int)\n",
      "WARNING: Please consider reporting this to the maintainers of org.apache.spark.unsafe.Platform\n",
      "WARNING: Use --illegal-access=warn to enable warnings of further illegal reflective access operations\n",
      "WARNING: All illegal access operations will be denied in a future release\n",
      "Using Spark's default log4j profile: org/apache/spark/log4j-defaults.properties\n",
      "Setting default log level to \"WARN\".\n",
      "To adjust logging level use sc.setLogLevel(newLevel). For SparkR, use setLogLevel(newLevel).\n",
      "21/12/31 15:49:30 WARN NativeCodeLoader: Unable to load native-hadoop library for your platform... using builtin-java classes where applicable\n"
     ]
    }
   ],
   "source": [
    "from pyspark.sql import SparkSession\n",
    "\n",
    "spark = SparkSession.builder\\\n",
    "        .master(\"local[2]\")\\\n",
    "        .appName(\"partition_data\")\\\n",
    "        .config('spark-master', '7077')\\\n",
    "        .getOrCreate()"
   ]
  },
  {
   "cell_type": "code",
   "execution_count": 2,
   "id": "514f4dcb",
   "metadata": {},
   "outputs": [],
   "source": [
    "from pyspark import SparkContext\n",
    "from pyspark.sql import functions as func\n",
    "from pyspark.sql import *"
   ]
  },
  {
   "cell_type": "code",
   "execution_count": 3,
   "id": "b91d70d4",
   "metadata": {},
   "outputs": [],
   "source": [
    "sc = spark.sparkContext\n",
    "sc._jsc.hadoopConfiguration().set(\"dfs.block.size\", \"10m\")"
   ]
  },
  {
   "cell_type": "code",
   "execution_count": 4,
   "id": "e5282052",
   "metadata": {},
   "outputs": [
    {
     "name": "stderr",
     "output_type": "stream",
     "text": [
      "                                                                                \r"
     ]
    }
   ],
   "source": [
    "df = spark.read.csv(\"hdfs://namenode:9000/bigdataproject/raws_data/data.csv\",escape = \"\\\"\", header = True, inferSchema=True,multiLine=True)"
   ]
  },
  {
   "cell_type": "code",
   "execution_count": 5,
   "id": "f72db22e",
   "metadata": {},
   "outputs": [],
   "source": [
    "df = df.select(\"*\").withColumn(\"id\", func.monotonically_increasing_id())"
   ]
  },
  {
   "cell_type": "code",
   "execution_count": 6,
   "id": "edfb6736",
   "metadata": {},
   "outputs": [],
   "source": [
    "PARTITION_SIZE = 500\n",
    "df = df.withColumn(\"group\", func.floor(func.col(\"id\")/PARTITION_SIZE))"
   ]
  },
  {
   "cell_type": "code",
   "execution_count": 7,
   "id": "17106627",
   "metadata": {},
   "outputs": [
    {
     "data": {
      "text/plain": [
       "StructType(List(StructField(Mức giá,DoubleType,true),StructField(Diện tích,DoubleType,true),StructField(Loại tin đăng,StringType,true),StructField(Địa chỉ,StringType,true),StructField(Mặt tiền,DoubleType,true),StructField(Đường vào,DoubleType,true),StructField(Hướng ban công,StringType,true),StructField(Số tầng,IntegerType,true),StructField(Số phòng ngủ,IntegerType,true),StructField(Số toilet,IntegerType,true),StructField(Pháp lý,StringType,true),StructField(Tên dự án,StringType,true),StructField(Chủ đầu tư,StringType,true),StructField(Ngày đăng,StringType,true),StructField(Ngày hết hạn,StringType,true),StructField(Mã tin,IntegerType,true),StructField(Phòng ngủ,StringType,true),StructField(Hướng nhà,StringType,true),StructField(Loại tin,StringType,true),StructField(Tỉnh,StringType,true),StructField(Quận/Huyện,StringType,true),StructField(Thời gian đăng,StringType,true),StructField(id,LongType,false),StructField(group,LongType,true)))"
      ]
     },
     "execution_count": 7,
     "metadata": {},
     "output_type": "execute_result"
    }
   ],
   "source": [
    "df.schema"
   ]
  },
  {
   "cell_type": "code",
   "execution_count": 9,
   "id": "3d024c28",
   "metadata": {},
   "outputs": [
    {
     "name": "stderr",
     "output_type": "stream",
     "text": [
      "                                                                                \r"
     ]
    }
   ],
   "source": [
    "import time\n",
    "steps = df.select(\"group\").distinct().sort(\"group\").limit(2).collect()\n",
    "for step in steps[:]:\n",
    "    start = time.time()\n",
    "    _df = df.where(f\"group = {step[0]}\")\n",
    "    #by adding coalesce(1) we save the dataframe to one file\n",
    "    _df.coalesce(1).write.mode(\"append\").option(\"header\", \"true\").csv(\"hdfs://namenode:9000/bigdataproject/streaming_data\")\n",
    "    time.sleep(30+start-time.time())"
   ]
  },
  {
   "cell_type": "code",
   "execution_count": null,
   "id": "cba02cba",
   "metadata": {},
   "outputs": [],
   "source": []
  }
 ],
 "metadata": {
  "kernelspec": {
   "display_name": "Python 3 (ipykernel)",
   "language": "python",
   "name": "python3"
  },
  "language_info": {
   "codemirror_mode": {
    "name": "ipython",
    "version": 3
   },
   "file_extension": ".py",
   "mimetype": "text/x-python",
   "name": "python",
   "nbconvert_exporter": "python",
   "pygments_lexer": "ipython3",
   "version": "3.9.7"
  }
 },
 "nbformat": 4,
 "nbformat_minor": 5
}
