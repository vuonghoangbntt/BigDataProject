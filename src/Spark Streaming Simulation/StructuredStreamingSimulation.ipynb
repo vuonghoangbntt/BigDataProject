{
 "cells": [
  {
   "cell_type": "code",
   "execution_count": 1,
   "id": "483a3785",
   "metadata": {},
   "outputs": [
    {
     "name": "stderr",
     "output_type": "stream",
     "text": [
      "Warning: Ignoring non-Spark config property: spark-master\n",
      "WARNING: An illegal reflective access operation has occurred\n",
      "WARNING: Illegal reflective access by org.apache.spark.unsafe.Platform (file:/usr/local/spark-3.2.0-bin-hadoop3.2/jars/spark-unsafe_2.12-3.2.0.jar) to constructor java.nio.DirectByteBuffer(long,int)\n",
      "WARNING: Please consider reporting this to the maintainers of org.apache.spark.unsafe.Platform\n",
      "WARNING: Use --illegal-access=warn to enable warnings of further illegal reflective access operations\n",
      "WARNING: All illegal access operations will be denied in a future release\n",
      "Using Spark's default log4j profile: org/apache/spark/log4j-defaults.properties\n",
      "Setting default log level to \"WARN\".\n",
      "To adjust logging level use sc.setLogLevel(newLevel). For SparkR, use setLogLevel(newLevel).\n",
      "21/12/31 15:45:03 WARN NativeCodeLoader: Unable to load native-hadoop library for your platform... using builtin-java classes where applicable\n",
      "21/12/31 15:45:04 WARN Utils: Service 'SparkUI' could not bind on port 4040. Attempting port 4041.\n",
      "                                                                                \r"
     ]
    }
   ],
   "source": [
    "#!/usr/bin/python\n",
    "# -*- coding: utf-8 -*-\n",
    "from pyspark import SparkContext\n",
    "from pyspark.streaming import StreamingContext\n",
    "from pyspark.sql import SparkSession\n",
    "from pyspark.sql import functions as func\n",
    "\n",
    "spark = SparkSession.builder\\\n",
    "        .master(\"local\")\\\n",
    "        .appName(\"read_streaming_data\")\\\n",
    "        .config('spark-master', '7077')\\\n",
    "        .config(\"spark.cleaner.referenceTracking.cleanCheckpoints\", \"true\")\\\n",
    "        .getOrCreate()\n",
    "\n",
    "input_schema = spark.read.csv(\n",
    "    path=\"hdfs://namenode:9000/bigdataproject/raws_data/part-00000-edec05c0-acef-40e2-a95a-e49933863ee0-c000.csv\",\n",
    "    header=True,\n",
    "    inferSchema=True,\n",
    "    multiLine=True).schema\n"
   ]
  },
  {
   "cell_type": "code",
   "execution_count": 2,
   "id": "81ce72bd",
   "metadata": {},
   "outputs": [],
   "source": [
    "streaming = (\n",
    "    spark.readStream\\\n",
    "    .schema(input_schema)\\\n",
    "    .option(\"maxFilesPerTrigger\", 1)\\\n",
    "    .csv(\"hdfs://namenode:9000/bigdataproject/streaming_data/*.csv\",escape = \"\\\"\", header = True, inferSchema=True,multiLine=True)\n",
    ")"
   ]
  },
  {
   "cell_type": "code",
   "execution_count": 24,
   "id": "fe79aaba",
   "metadata": {},
   "outputs": [],
   "source": [
    "df = streaming.where(func.col(\"Tên dự án\").isNotNull())\\\n",
    "    .withColumn('timestamp', func.to_timestamp(\"Thời gian đăng\"))\\\n",
    "    .withWatermark(\"timestamp\", \"1 days\")\\\n",
    "    .groupBy(func.window(\"timestamp\", \"2 days\", \"12 hours\"),\"Tên dự án\")\\\n",
    "    .agg(func.count(\"id\").alias(\"Số lượng tin\"))\\\n",
    "    .orderBy([\"window.start\", \"Số lượng tin\"], ascending = False)"
   ]
  },
  {
   "cell_type": "code",
   "execution_count": 22,
   "id": "bae1f2fd",
   "metadata": {},
   "outputs": [
    {
     "name": "stderr",
     "output_type": "stream",
     "text": [
      "21/12/28 15:16:28 WARN ResolveWriteToStream: spark.sql.adaptive.enabled is not supported in streaming DataFrames/Datasets and will be disabled.\n",
      "                                                                                \r"
     ]
    },
    {
     "name": "stdout",
     "output_type": "stream",
     "text": [
      "-------------------------------------------\n",
      "Batch: 0\n",
      "-------------------------------------------\n",
      "+------------------------------------------+-----------------------------+------------+\n",
      "|window                                    |Tên dự án                    |Số lượng tin|\n",
      "+------------------------------------------+-----------------------------+------------+\n",
      "|{2021-06-01 12:00:00, 2021-06-03 12:00:00}|Khu dân cư An Thuận          |4           |\n",
      "|{2021-06-01 12:00:00, 2021-06-03 12:00:00}|Green Valley                 |1           |\n",
      "|{2021-06-01 12:00:00, 2021-06-03 12:00:00}|Centana Thủ Thiêm            |1           |\n",
      "|{2021-06-01 12:00:00, 2021-06-03 12:00:00}|Khu đô thị Cát Lái           |1           |\n",
      "|{2021-06-01 12:00:00, 2021-06-03 12:00:00}|Biên Hoà Riverside           |1           |\n",
      "|{2021-06-01 12:00:00, 2021-06-03 12:00:00}|Terra Rosa                   |1           |\n",
      "|{2021-06-01 12:00:00, 2021-06-03 12:00:00}|Văn Phú Victoria             |1           |\n",
      "|{2021-06-01 12:00:00, 2021-06-03 12:00:00}|Tây Nam Hồ Linh Đàm          |1           |\n",
      "|{2021-06-01 12:00:00, 2021-06-03 12:00:00}|Hà Đô Charm Villas           |1           |\n",
      "|{2021-06-01 12:00:00, 2021-06-03 12:00:00}|Thung Lũng Xanh              |1           |\n",
      "|{2021-06-01 12:00:00, 2021-06-03 12:00:00}|Dream Home Palace            |1           |\n",
      "|{2021-06-01 00:00:00, 2021-06-03 00:00:00}|Him Lam Phú An               |12          |\n",
      "|{2021-06-01 00:00:00, 2021-06-03 00:00:00}|Khu Đô Thị E.City Tân Đức    |9           |\n",
      "|{2021-06-01 00:00:00, 2021-06-03 00:00:00}|Khu đô thị mới Đông Tăng Long|9           |\n",
      "|{2021-06-01 00:00:00, 2021-06-03 00:00:00}|Lucasta Villa                |8           |\n",
      "|{2021-06-01 00:00:00, 2021-06-03 00:00:00}|Khu dân cư Đại học Bách khoa |7           |\n",
      "|{2021-06-01 00:00:00, 2021-06-03 00:00:00}|Vinhomes Riverside           |7           |\n",
      "|{2021-06-01 00:00:00, 2021-06-03 00:00:00}|Khu dân cư An Thuận          |6           |\n",
      "|{2021-06-01 00:00:00, 2021-06-03 00:00:00}|KDC Phú Nhuận - Phước Long B |6           |\n",
      "|{2021-06-01 00:00:00, 2021-06-03 00:00:00}|Phú Mỹ Hưng                  |6           |\n",
      "+------------------------------------------+-----------------------------+------------+\n",
      "only showing top 20 rows\n",
      "\n"
     ]
    },
    {
     "name": "stderr",
     "output_type": "stream",
     "text": [
      "[Stage 64:====================================================> (196 + 1) / 200]\r"
     ]
    },
    {
     "name": "stdout",
     "output_type": "stream",
     "text": [
      "-------------------------------------------\n",
      "Batch: 1\n",
      "-------------------------------------------\n",
      "+------------------------------------------+----------------------------+------------+\n",
      "|window                                    |Tên dự án                   |Số lượng tin|\n",
      "+------------------------------------------+----------------------------+------------+\n",
      "|{2021-06-02 00:00:00, 2021-06-04 00:00:00}|Him Lam Phú An              |4           |\n",
      "|{2021-06-02 00:00:00, 2021-06-04 00:00:00}|Làng Đại Học ABC            |2           |\n",
      "|{2021-06-02 00:00:00, 2021-06-04 00:00:00}|Centana City Điền Phúc Thành|2           |\n",
      "|{2021-06-02 00:00:00, 2021-06-04 00:00:00}|Eco Green City              |2           |\n",
      "|{2021-06-02 00:00:00, 2021-06-04 00:00:00}|Q7 Saigon Riverside         |2           |\n",
      "|{2021-06-02 00:00:00, 2021-06-04 00:00:00}|N01-T4 Ngoại Giao Đoàn      |1           |\n",
      "|{2021-06-02 00:00:00, 2021-06-04 00:00:00}|EHome 4                     |1           |\n",
      "|{2021-06-02 00:00:00, 2021-06-04 00:00:00}|Imperia Garden              |1           |\n",
      "|{2021-06-02 00:00:00, 2021-06-04 00:00:00}|CityLand Park Hills         |1           |\n",
      "|{2021-06-02 00:00:00, 2021-06-04 00:00:00}|Vinhomes Central Park       |1           |\n",
      "|{2021-06-02 00:00:00, 2021-06-04 00:00:00}|Sentosa Villa               |1           |\n",
      "|{2021-06-02 00:00:00, 2021-06-04 00:00:00}|Dragon Village              |1           |\n",
      "|{2021-06-02 00:00:00, 2021-06-04 00:00:00}|IA20 Ciputra                |1           |\n",
      "|{2021-06-02 00:00:00, 2021-06-04 00:00:00}|Hong Kong Tower             |1           |\n",
      "|{2021-06-02 00:00:00, 2021-06-04 00:00:00}|HQC 35 Hồ Học Lãm           |1           |\n",
      "|{2021-06-02 00:00:00, 2021-06-04 00:00:00}|Khu đô thị Mỹ Phước 3       |1           |\n",
      "|{2021-06-02 00:00:00, 2021-06-04 00:00:00}|Feliz En Vista              |1           |\n",
      "|{2021-06-02 00:00:00, 2021-06-04 00:00:00}|Căn hộ Bình Khánh           |1           |\n",
      "|{2021-06-02 00:00:00, 2021-06-04 00:00:00}|The Era Town                |1           |\n",
      "|{2021-06-02 00:00:00, 2021-06-04 00:00:00}|Mandarin Garden 2           |1           |\n",
      "+------------------------------------------+----------------------------+------------+\n",
      "only showing top 20 rows\n",
      "\n"
     ]
    },
    {
     "name": "stderr",
     "output_type": "stream",
     "text": [
      "                                                                                \r"
     ]
    },
    {
     "name": "stdout",
     "output_type": "stream",
     "text": [
      "-------------------------------------------\n",
      "Batch: 2\n",
      "-------------------------------------------\n",
      "+------------------------------------------+-----------------------------+------------+\n",
      "|window                                    |Tên dự án                    |Số lượng tin|\n",
      "+------------------------------------------+-----------------------------+------------+\n",
      "|{2021-06-02 12:00:00, 2021-06-04 12:00:00}|Villa Park                   |2           |\n",
      "|{2021-06-02 12:00:00, 2021-06-04 12:00:00}|Khu dân cư Phú Xuân          |2           |\n",
      "|{2021-06-02 12:00:00, 2021-06-04 12:00:00}|GoldSeason                   |2           |\n",
      "|{2021-06-02 12:00:00, 2021-06-04 12:00:00}|Rosita Garden Khang Điền     |2           |\n",
      "|{2021-06-02 12:00:00, 2021-06-04 12:00:00}|Khu đô thị Mega City 2       |2           |\n",
      "|{2021-06-02 12:00:00, 2021-06-04 12:00:00}|Khu đô thị Đông Bình Dương   |2           |\n",
      "|{2021-06-02 12:00:00, 2021-06-04 12:00:00}|Oriental Plaza 685 Âu Cơ     |2           |\n",
      "|{2021-06-02 12:00:00, 2021-06-04 12:00:00}|The Costa Nha Trang          |2           |\n",
      "|{2021-06-02 12:00:00, 2021-06-04 12:00:00}|Vinhomes Central Park        |2           |\n",
      "|{2021-06-02 12:00:00, 2021-06-04 12:00:00}|Golden Bay 2                 |1           |\n",
      "|{2021-06-02 12:00:00, 2021-06-04 12:00:00}|Lan Phương MHBR Tower        |1           |\n",
      "|{2021-06-02 12:00:00, 2021-06-04 12:00:00}|Khu đô thị mới Đông Tăng Long|1           |\n",
      "|{2021-06-02 12:00:00, 2021-06-04 12:00:00}|Khu dân cư Phú Lợi           |1           |\n",
      "|{2021-06-02 12:00:00, 2021-06-04 12:00:00}|Him Lam Phú Đông             |1           |\n",
      "|{2021-06-02 12:00:00, 2021-06-04 12:00:00}|Xi Grand Court               |1           |\n",
      "|{2021-06-02 12:00:00, 2021-06-04 12:00:00}|Khu dân cư Vĩnh Phú I        |1           |\n",
      "|{2021-06-02 12:00:00, 2021-06-04 12:00:00}|KDC Phú Xuân Cảng Sài Gòn    |1           |\n",
      "|{2021-06-02 12:00:00, 2021-06-04 12:00:00}|Khu dân cư Bắc Rạch Chiếc    |1           |\n",
      "|{2021-06-02 12:00:00, 2021-06-04 12:00:00}|D’. Le Pont D’or - Hoàng Cầu |1           |\n",
      "|{2021-06-02 12:00:00, 2021-06-04 12:00:00}|Riverpark Residence          |1           |\n",
      "+------------------------------------------+-----------------------------+------------+\n",
      "only showing top 20 rows\n",
      "\n"
     ]
    },
    {
     "name": "stderr",
     "output_type": "stream",
     "text": [
      "[Stage 75:===================================================>  (100 + 2) / 104]\r"
     ]
    },
    {
     "name": "stdout",
     "output_type": "stream",
     "text": [
      "-------------------------------------------\n",
      "Batch: 3\n",
      "-------------------------------------------\n",
      "+------------------------------------------+-----------------------------------+------------+\n",
      "|window                                    |Tên dự án                          |Số lượng tin|\n",
      "+------------------------------------------+-----------------------------------+------------+\n",
      "|{2021-06-03 00:00:00, 2021-06-05 00:00:00}|Vinhomes Central Park              |4           |\n",
      "|{2021-06-03 00:00:00, 2021-06-05 00:00:00}|Khu đô thị mới Đông Tăng Long      |3           |\n",
      "|{2021-06-03 00:00:00, 2021-06-05 00:00:00}|Mega City                          |3           |\n",
      "|{2021-06-03 00:00:00, 2021-06-05 00:00:00}|Imperia Garden                     |3           |\n",
      "|{2021-06-03 00:00:00, 2021-06-05 00:00:00}|Vinhomes Golden River Ba Son       |3           |\n",
      "|{2021-06-03 00:00:00, 2021-06-05 00:00:00}|Paradise Riverside                 |3           |\n",
      "|{2021-06-03 00:00:00, 2021-06-05 00:00:00}|Khu đô thị Mega City 2             |2           |\n",
      "|{2021-06-03 00:00:00, 2021-06-05 00:00:00}|Him Lam Riverside                  |2           |\n",
      "|{2021-06-03 00:00:00, 2021-06-05 00:00:00}|Khu đô thị Geleximco - Lê Trọng Tấn|2           |\n",
      "|{2021-06-03 00:00:00, 2021-06-05 00:00:00}|Khu biệt thự Kim Long              |2           |\n",
      "|{2021-06-03 00:00:00, 2021-06-05 00:00:00}|Moonlight Boulevard                |2           |\n",
      "|{2021-06-03 00:00:00, 2021-06-05 00:00:00}|GoldSeason                         |2           |\n",
      "|{2021-06-03 00:00:00, 2021-06-05 00:00:00}|Rivera Park Hà Nội                 |2           |\n",
      "|{2021-06-03 00:00:00, 2021-06-05 00:00:00}|Dự án Huy Hoàng                    |1           |\n",
      "|{2021-06-03 00:00:00, 2021-06-05 00:00:00}|Opal Riverside                     |1           |\n",
      "|{2021-06-03 00:00:00, 2021-06-05 00:00:00}|KĐT Tây Hồ Tây - Starlake Hà Nội   |1           |\n",
      "|{2021-06-03 00:00:00, 2021-06-05 00:00:00}|Rivera Park Sài Gòn                |1           |\n",
      "|{2021-06-03 00:00:00, 2021-06-05 00:00:00}|Hoàng Anh Thanh Bình               |1           |\n",
      "|{2021-06-03 00:00:00, 2021-06-05 00:00:00}|New Times City                     |1           |\n",
      "|{2021-06-03 00:00:00, 2021-06-05 00:00:00}|Viva Riverside                     |1           |\n",
      "+------------------------------------------+-----------------------------------+------------+\n",
      "only showing top 20 rows\n",
      "\n"
     ]
    },
    {
     "name": "stderr",
     "output_type": "stream",
     "text": [
      "                                                                                \r"
     ]
    },
    {
     "name": "stdout",
     "output_type": "stream",
     "text": [
      "-------------------------------------------\n",
      "Batch: 4\n",
      "-------------------------------------------\n",
      "+------------------------------------------+----------------------------------+------------+\n",
      "|window                                    |Tên dự án                         |Số lượng tin|\n",
      "+------------------------------------------+----------------------------------+------------+\n",
      "|{2021-06-03 12:00:00, 2021-06-05 12:00:00}|Lavila Kiến Á - Nhà Bè            |9           |\n",
      "|{2021-06-03 12:00:00, 2021-06-05 12:00:00}|TTTM và Phố chợ Đô Nghĩa          |5           |\n",
      "|{2021-06-03 12:00:00, 2021-06-05 12:00:00}|Sim City                          |3           |\n",
      "|{2021-06-03 12:00:00, 2021-06-05 12:00:00}|Sarimi Sala                       |3           |\n",
      "|{2021-06-03 12:00:00, 2021-06-05 12:00:00}|Nine South Estates                |3           |\n",
      "|{2021-06-03 12:00:00, 2021-06-05 12:00:00}|Khu đô thị Thanh Hà Mường Thanh   |2           |\n",
      "|{2021-06-03 12:00:00, 2021-06-05 12:00:00}|M-One Nam Sài Gòn                 |2           |\n",
      "|{2021-06-03 12:00:00, 2021-06-05 12:00:00}|Saigon South Residences           |1           |\n",
      "|{2021-06-03 12:00:00, 2021-06-05 12:00:00}|Sài Gòn Eco Lake                  |1           |\n",
      "|{2021-06-03 12:00:00, 2021-06-05 12:00:00}|KDC Nam Long Phú Thuận            |1           |\n",
      "|{2021-06-03 12:00:00, 2021-06-05 12:00:00}|Khu đô thị Minh Giang Đầm Và      |1           |\n",
      "|{2021-06-03 12:00:00, 2021-06-05 12:00:00}|Khu đô thị mới Đại Kim - Định Công|1           |\n",
      "|{2021-06-03 12:00:00, 2021-06-05 12:00:00}|Tháp Mười Merita                  |1           |\n",
      "|{2021-06-03 12:00:00, 2021-06-05 12:00:00}|Lucky Palace                      |1           |\n",
      "|{2021-06-03 12:00:00, 2021-06-05 12:00:00}|Sky Garden I                      |1           |\n",
      "|{2021-06-03 12:00:00, 2021-06-05 12:00:00}|Riverside Residence               |1           |\n",
      "|{2021-06-03 12:00:00, 2021-06-05 12:00:00}|Hưng Ngân Garden                  |1           |\n",
      "|{2021-06-03 12:00:00, 2021-06-05 12:00:00}|Căn hộ RichStar                  |1           |\n",
      "|{2021-06-03 12:00:00, 2021-06-05 12:00:00}|Melosa Garden                     |1           |\n",
      "|{2021-06-03 12:00:00, 2021-06-05 12:00:00}|Khu dân cư Đại học Bách khoa      |1           |\n",
      "+------------------------------------------+----------------------------------+------------+\n",
      "only showing top 20 rows\n",
      "\n"
     ]
    },
    {
     "name": "stderr",
     "output_type": "stream",
     "text": [
      "                                                                                \r"
     ]
    },
    {
     "name": "stdout",
     "output_type": "stream",
     "text": [
      "-------------------------------------------\n",
      "Batch: 5\n",
      "-------------------------------------------\n",
      "+------------------------------------------+-----------------------------------+------------+\n",
      "|window                                    |Tên dự án                          |Số lượng tin|\n",
      "+------------------------------------------+-----------------------------------+------------+\n",
      "|{2021-06-04 00:00:00, 2021-06-06 00:00:00}|Riviera Point                      |6           |\n",
      "|{2021-06-04 00:00:00, 2021-06-06 00:00:00}|Aqua City                          |2           |\n",
      "|{2021-06-04 00:00:00, 2021-06-06 00:00:00}|Khu đô thị mới Hạ Đình             |2           |\n",
      "|{2021-06-04 00:00:00, 2021-06-06 00:00:00}|Hoàng Anh Thanh Bình               |2           |\n",
      "|{2021-06-04 00:00:00, 2021-06-06 00:00:00}|Mega City                          |2           |\n",
      "|{2021-06-04 00:00:00, 2021-06-06 00:00:00}|Golden Center City 3               |2           |\n",
      "|{2021-06-04 00:00:00, 2021-06-06 00:00:00}|KDC Phú Xuân Vạn Phát Hưng         |2           |\n",
      "|{2021-06-04 00:00:00, 2021-06-06 00:00:00}|Paradise Riverside                 |2           |\n",
      "|{2021-06-04 00:00:00, 2021-06-06 00:00:00}|Rosita Garden Khang Điền           |2           |\n",
      "|{2021-06-04 00:00:00, 2021-06-06 00:00:00}|Khu đô thị Mỹ Đình Sông Đà - Sudico|2           |\n",
      "|{2021-06-04 00:00:00, 2021-06-06 00:00:00}|Khu dân cư An Thuận                |1           |\n",
      "|{2021-06-04 00:00:00, 2021-06-06 00:00:00}|Khu dân cư T30                     |1           |\n",
      "|{2021-06-04 00:00:00, 2021-06-06 00:00:00}|Khu dân cư 6B Intresco             |1           |\n",
      "|{2021-06-04 00:00:00, 2021-06-06 00:00:00}|Phú Hoàng Anh                      |1           |\n",
      "|{2021-06-04 00:00:00, 2021-06-06 00:00:00}|N05 - KDT Đông Nam Trần Duy Hưng   |1           |\n",
      "|{2021-06-04 00:00:00, 2021-06-06 00:00:00}|FLC Tropical City Ha Long          |1           |\n",
      "|{2021-06-04 00:00:00, 2021-06-06 00:00:00}|Cam Ranh Mystery Villas            |1           |\n",
      "|{2021-06-04 00:00:00, 2021-06-06 00:00:00}|Dream Home Palace                  |1           |\n",
      "|{2021-06-04 00:00:00, 2021-06-06 00:00:00}|Green Stars                        |1           |\n",
      "|{2021-06-04 00:00:00, 2021-06-06 00:00:00}|The Sparks                         |1           |\n",
      "+------------------------------------------+-----------------------------------+------------+\n",
      "only showing top 20 rows\n",
      "\n"
     ]
    },
    {
     "name": "stderr",
     "output_type": "stream",
     "text": [
      "                                                                                \r"
     ]
    },
    {
     "name": "stdout",
     "output_type": "stream",
     "text": [
      "-------------------------------------------\n",
      "Batch: 6\n",
      "-------------------------------------------\n",
      "+------------------------------------------+---------------------------------+------------+\n",
      "|window                                    |Tên dự án                        |Số lượng tin|\n",
      "+------------------------------------------+---------------------------------+------------+\n",
      "|{2021-06-04 12:00:00, 2021-06-06 12:00:00}|Vinhomes Riverside               |4           |\n",
      "|{2021-06-04 12:00:00, 2021-06-06 12:00:00}|CityLand Park Hills              |4           |\n",
      "|{2021-06-04 12:00:00, 2021-06-06 12:00:00}|Sài Gòn Eco Lake                 |3           |\n",
      "|{2021-06-04 12:00:00, 2021-06-06 12:00:00}|Sunrise City View                |3           |\n",
      "|{2021-06-04 12:00:00, 2021-06-06 12:00:00}|Embassy Garden                   |2           |\n",
      "|{2021-06-04 12:00:00, 2021-06-06 12:00:00}|The Golden Star                  |2           |\n",
      "|{2021-06-04 12:00:00, 2021-06-06 12:00:00}|Khu đô thị Mega City 2           |2           |\n",
      "|{2021-06-04 12:00:00, 2021-06-06 12:00:00}|Riviera Cove                     |2           |\n",
      "|{2021-06-04 12:00:00, 2021-06-06 12:00:00}|Centana City Điền Phúc Thành     |2           |\n",
      "|{2021-06-04 12:00:00, 2021-06-06 12:00:00}|Vincom Center TP HCM             |2           |\n",
      "|{2021-06-04 12:00:00, 2021-06-06 12:00:00}|Vinhomes Golden River Ba Son     |2           |\n",
      "|{2021-06-04 12:00:00, 2021-06-06 12:00:00}|Biệt thự lâu đài Chateau         |2           |\n",
      "|{2021-06-04 12:00:00, 2021-06-06 12:00:00}|Q7 Saigon Riverside              |2           |\n",
      "|{2021-06-04 12:00:00, 2021-06-06 12:00:00}|Khu đô thị Him Lam Kênh Tẻ       |2           |\n",
      "|{2021-06-04 12:00:00, 2021-06-06 12:00:00}|Liền kề Tổng cục 5 Tân Triều|2           |\n",
      "|{2021-06-04 12:00:00, 2021-06-06 12:00:00}|Riverside Tower                  |1           |\n",
      "|{2021-06-04 12:00:00, 2021-06-06 12:00:00}|The CBD Premium Home             |1           |\n",
      "|{2021-06-04 12:00:00, 2021-06-06 12:00:00}|Vinhomes Nguyễn Chí Thanh        |1           |\n",
      "|{2021-06-04 12:00:00, 2021-06-06 12:00:00}|Royal City                       |1           |\n",
      "|{2021-06-04 12:00:00, 2021-06-06 12:00:00}|Vista Verde                      |1           |\n",
      "+------------------------------------------+---------------------------------+------------+\n",
      "only showing top 20 rows\n",
      "\n"
     ]
    },
    {
     "name": "stderr",
     "output_type": "stream",
     "text": [
      "                                                                                \r"
     ]
    },
    {
     "name": "stdout",
     "output_type": "stream",
     "text": [
      "-------------------------------------------\n",
      "Batch: 7\n",
      "-------------------------------------------\n",
      "+------------------------------------------+-----------------------------------+------------+\n",
      "|window                                    |Tên dự án                          |Số lượng tin|\n",
      "+------------------------------------------+-----------------------------------+------------+\n",
      "|{2021-06-05 00:00:00, 2021-06-07 00:00:00}|Vinhomes The Harmony               |9           |\n",
      "|{2021-06-05 00:00:00, 2021-06-07 00:00:00}|Căn hộ RichStar                   |5           |\n",
      "|{2021-06-05 00:00:00, 2021-06-07 00:00:00}|Khu dân cư Phú Xuân                |4           |\n",
      "|{2021-06-05 00:00:00, 2021-06-07 00:00:00}|Khu đô thị Vạn Phúc City           |3           |\n",
      "|{2021-06-05 00:00:00, 2021-06-07 00:00:00}|Sim City                           |3           |\n",
      "|{2021-06-05 00:00:00, 2021-06-07 00:00:00}|Khu đô thị Mỹ Đình Sông Đà - Sudico|2           |\n",
      "|{2021-06-05 00:00:00, 2021-06-07 00:00:00}|Khu đô thị mới Đại Kim - Định Công |2           |\n",
      "|{2021-06-05 00:00:00, 2021-06-07 00:00:00}|The Estella                        |2           |\n",
      "|{2021-06-05 00:00:00, 2021-06-07 00:00:00}|Vũng Tàu Pearl                     |2           |\n",
      "|{2021-06-05 00:00:00, 2021-06-07 00:00:00}|Vinhomes Riverside                 |2           |\n",
      "|{2021-06-05 00:00:00, 2021-06-07 00:00:00}|Thành phố Giao Lưu                 |2           |\n",
      "|{2021-06-05 00:00:00, 2021-06-07 00:00:00}|Mega City                          |1           |\n",
      "|{2021-06-05 00:00:00, 2021-06-07 00:00:00}|Akari City Nam Long                |1           |\n",
      "|{2021-06-05 00:00:00, 2021-06-07 00:00:00}|Hà Nội Aqua Central                |1           |\n",
      "|{2021-06-05 00:00:00, 2021-06-07 00:00:00}|The Everrich Infinity              |1           |\n",
      "|{2021-06-05 00:00:00, 2021-06-07 00:00:00}|FLC Hạ Long                        |1           |\n",
      "|{2021-06-05 00:00:00, 2021-06-07 00:00:00}|VSIP I Bình Dương                  |1           |\n",
      "|{2021-06-05 00:00:00, 2021-06-07 00:00:00}|Thảo Điền Pearl                    |1           |\n",
      "|{2021-06-05 00:00:00, 2021-06-07 00:00:00}|Hoàng Anh Thanh Bình               |1           |\n",
      "|{2021-06-05 00:00:00, 2021-06-07 00:00:00}|Sapphire Palace                    |1           |\n",
      "+------------------------------------------+-----------------------------------+------------+\n",
      "only showing top 20 rows\n",
      "\n"
     ]
    },
    {
     "name": "stderr",
     "output_type": "stream",
     "text": [
      "                                                                                \r"
     ]
    },
    {
     "name": "stdout",
     "output_type": "stream",
     "text": [
      "-------------------------------------------\n",
      "Batch: 8\n",
      "-------------------------------------------\n",
      "+------------------------------------------+----------------------------+------------+\n",
      "|window                                    |Tên dự án                   |Số lượng tin|\n",
      "+------------------------------------------+----------------------------+------------+\n",
      "|{2021-06-05 12:00:00, 2021-06-07 12:00:00}|D-Vela                      |4           |\n",
      "|{2021-06-05 12:00:00, 2021-06-07 12:00:00}|Khu đô thị Nam An Khánh     |3           |\n",
      "|{2021-06-05 12:00:00, 2021-06-07 12:00:00}|Làng Đại Học ABC            |3           |\n",
      "|{2021-06-05 12:00:00, 2021-06-07 12:00:00}|Khu đô thị Him Lam Kênh Tẻ  |3           |\n",
      "|{2021-06-05 12:00:00, 2021-06-07 12:00:00}|Flora Anh Đào               |2           |\n",
      "|{2021-06-05 12:00:00, 2021-06-07 12:00:00}|Royal City                  |2           |\n",
      "|{2021-06-05 12:00:00, 2021-06-07 12:00:00}|Quy Nhơn Melody             |2           |\n",
      "|{2021-06-05 12:00:00, 2021-06-07 12:00:00}|Vinhomes Central Park       |2           |\n",
      "|{2021-06-05 12:00:00, 2021-06-07 12:00:00}|Khu đô thị mới Dương Nội    |2           |\n",
      "|{2021-06-05 12:00:00, 2021-06-07 12:00:00}|La Maison De Cần Giờ        |2           |\n",
      "|{2021-06-05 12:00:00, 2021-06-07 12:00:00}|Midtown Phú Mỹ Hưng         |2           |\n",
      "|{2021-06-05 12:00:00, 2021-06-07 12:00:00}|KDC Phú Xuân Vạn Phát Hưng  |2           |\n",
      "|{2021-06-05 12:00:00, 2021-06-07 12:00:00}|Centana City Điền Phúc Thành|2           |\n",
      "|{2021-06-05 12:00:00, 2021-06-07 12:00:00}|Fuji Residence              |2           |\n",
      "|{2021-06-05 12:00:00, 2021-06-07 12:00:00}|The Sóng                    |2           |\n",
      "|{2021-06-05 12:00:00, 2021-06-07 12:00:00}|Vinhomes Golden River Ba Son|2           |\n",
      "|{2021-06-05 12:00:00, 2021-06-07 12:00:00}|Chung cư Phú Mỹ             |2           |\n",
      "|{2021-06-05 12:00:00, 2021-06-07 12:00:00}|Cam Ranh Mystery Villas     |1           |\n",
      "|{2021-06-05 12:00:00, 2021-06-07 12:00:00}|FLC Garden City             |1           |\n",
      "|{2021-06-05 12:00:00, 2021-06-07 12:00:00}|The Everrich Infinity       |1           |\n",
      "+------------------------------------------+----------------------------+------------+\n",
      "only showing top 20 rows\n",
      "\n"
     ]
    },
    {
     "name": "stderr",
     "output_type": "stream",
     "text": [
      "                                                                                \r"
     ]
    },
    {
     "name": "stdout",
     "output_type": "stream",
     "text": [
      "-------------------------------------------\n",
      "Batch: 9\n",
      "-------------------------------------------\n",
      "+------------------------------------------+-------------------------------+------------+\n",
      "|window                                    |Tên dự án                      |Số lượng tin|\n",
      "+------------------------------------------+-------------------------------+------------+\n",
      "|{2021-06-06 00:00:00, 2021-06-08 00:00:00}|Midtown Phú Mỹ Hưng            |7           |\n",
      "|{2021-06-06 00:00:00, 2021-06-08 00:00:00}|The Peak                       |4           |\n",
      "|{2021-06-06 00:00:00, 2021-06-08 00:00:00}|Centana Thủ Thiêm              |3           |\n",
      "|{2021-06-06 00:00:00, 2021-06-08 00:00:00}|The Art                        |3           |\n",
      "|{2021-06-06 00:00:00, 2021-06-08 00:00:00}|Him Lam Riverside              |3           |\n",
      "|{2021-06-06 00:00:00, 2021-06-08 00:00:00}|Indochina Plaza Hanoi          |3           |\n",
      "|{2021-06-06 00:00:00, 2021-06-08 00:00:00}|The View Riviera Point         |3           |\n",
      "|{2021-06-06 00:00:00, 2021-06-08 00:00:00}|The Vista An Phú               |3           |\n",
      "|{2021-06-06 00:00:00, 2021-06-08 00:00:00}|Dreamland City                 |2           |\n",
      "|{2021-06-06 00:00:00, 2021-06-08 00:00:00}|Flora Anh Đào                  |2           |\n",
      "|{2021-06-06 00:00:00, 2021-06-08 00:00:00}|Lucasta Villa                  |2           |\n",
      "|{2021-06-06 00:00:00, 2021-06-08 00:00:00}|Victoria Premium               |2           |\n",
      "|{2021-06-06 00:00:00, 2021-06-08 00:00:00}|Celadon City                   |2           |\n",
      "|{2021-06-06 00:00:00, 2021-06-08 00:00:00}|Vinhomes Golden River Ba Son   |2           |\n",
      "|{2021-06-06 00:00:00, 2021-06-08 00:00:00}|Phú Mỹ Hưng                    |2           |\n",
      "|{2021-06-06 00:00:00, 2021-06-08 00:00:00}|Vinhomes Central Park          |2           |\n",
      "|{2021-06-06 00:00:00, 2021-06-08 00:00:00}|Khu dân cư Sở Văn Hóa Thông Tin|2           |\n",
      "|{2021-06-06 00:00:00, 2021-06-08 00:00:00}|GoldSeason                     |2           |\n",
      "|{2021-06-06 00:00:00, 2021-06-08 00:00:00}|Khu đô thị mới Dương Nội       |2           |\n",
      "|{2021-06-06 00:00:00, 2021-06-08 00:00:00}|Sunview Town                   |2           |\n",
      "+------------------------------------------+-------------------------------+------------+\n",
      "only showing top 20 rows\n",
      "\n"
     ]
    }
   ],
   "source": [
    "### Write Streaming analyze to console\n",
    "activityQuery = (\n",
    "    df.writeStream.queryName(\"dest_counts\")\n",
    "    .trigger(processingTime='30 seconds')\n",
    "    .option(\"checkpointLocation\", \"hdfs://namenode:9000/bigdataproject/streaming_data/checkpoint/\")\n",
    "    .option(\"truncate\", \"false\")\n",
    "    .format(\"console\")\n",
    "    .outputMode(\"complete\") #complete or append\n",
    "    .start()\n",
    ")"
   ]
  },
  {
   "cell_type": "code",
   "execution_count": 25,
   "id": "26d98667",
   "metadata": {},
   "outputs": [
    {
     "name": "stderr",
     "output_type": "stream",
     "text": [
      "21/12/31 16:12:03 WARN ResolveWriteToStream: spark.sql.adaptive.enabled is not supported in streaming DataFrames/Datasets and will be disabled.\n",
      "                                                                                \r"
     ]
    }
   ],
   "source": [
    "### Write Streaming analyze to console\n",
    "activityQuery = (\n",
    "    df.writeStream.queryName(\"dest_counts\")\n",
    "    .trigger(processingTime='30 seconds')\n",
    "    .option(\"checkpointLocation\", \"hdfs://namenode:9000/bigdataproject/streaming_data/checkpoint/\")\n",
    "    .format(\"memory\")\n",
    "    .outputMode(\"complete\") #complete or append\n",
    "    .start()\n",
    ")"
   ]
  },
  {
   "cell_type": "code",
   "execution_count": 35,
   "id": "2b3ccd9e",
   "metadata": {},
   "outputs": [
    {
     "name": "stdout",
     "output_type": "stream",
     "text": [
      "+------------------------------------------+-----------------------------+------------+\n",
      "|window                                    |Tên dự án                    |Số lượng tin|\n",
      "+------------------------------------------+-----------------------------+------------+\n",
      "|{2021-05-31 12:00:00, 2021-06-02 12:00:00}|Him Lam Phú An               |19          |\n",
      "|{2021-06-01 00:00:00, 2021-06-03 00:00:00}|Him Lam Phú An               |19          |\n",
      "|{2021-05-31 00:00:00, 2021-06-02 00:00:00}|Him Lam Phú An               |15          |\n",
      "|{2021-05-31 00:00:00, 2021-06-02 00:00:00}|KDC Phú Nhuận - Phước Long B |14          |\n",
      "|{2021-05-31 12:00:00, 2021-06-02 12:00:00}|KDC Phú Nhuận - Phước Long B |14          |\n",
      "|{2021-06-01 00:00:00, 2021-06-03 00:00:00}|KDC Phú Nhuận - Phước Long B |14          |\n",
      "|{2021-05-31 00:00:00, 2021-06-02 00:00:00}|Khu đô thị mới Đông Tăng Long|13          |\n",
      "|{2021-06-01 00:00:00, 2021-06-03 00:00:00}|Khu đô thị mới Đông Tăng Long|13          |\n",
      "|{2021-05-31 12:00:00, 2021-06-02 12:00:00}|Khu đô thị mới Đông Tăng Long|13          |\n",
      "|{2021-05-30 12:00:00, 2021-06-01 12:00:00}|Him Lam Phú An               |12          |\n",
      "|{2021-06-01 00:00:00, 2021-06-03 00:00:00}|Lucasta Villa                |11          |\n",
      "|{2021-05-31 12:00:00, 2021-06-02 12:00:00}|Lucasta Villa                |11          |\n",
      "|{2021-05-31 00:00:00, 2021-06-02 00:00:00}|Lucasta Villa                |11          |\n",
      "+------------------------------------------+-----------------------------+------------+\n",
      "\n"
     ]
    }
   ],
   "source": [
    "spark.sql(\"select * from dest_counts WHERE `Số lượng tin`>10 ORDER BY `Số lượng tin` DESC\").show(truncate=False)"
   ]
  },
  {
   "cell_type": "code",
   "execution_count": 3,
   "id": "e613f004",
   "metadata": {},
   "outputs": [],
   "source": [
    "input_schema = spark.read.csv(\"hdfs://namenode:9000/bigdataproject/streaming_data/group=0/part-00000-b9bcd014-0f25-4e56-91d7-9c90d2a65d27.c000.csv\",\\\n",
    "                        header = True, inferSchema=True,multiLine=True).schema"
   ]
  },
  {
   "cell_type": "code",
   "execution_count": 5,
   "id": "1122ab25",
   "metadata": {},
   "outputs": [
    {
     "data": {
      "text/plain": [
       "True"
      ]
     },
     "execution_count": 5,
     "metadata": {},
     "output_type": "execute_result"
    }
   ],
   "source": [
    "spark.streams.active[0].isActive"
   ]
  },
  {
   "cell_type": "code",
   "execution_count": 26,
   "id": "534d57cb",
   "metadata": {},
   "outputs": [
    {
     "data": {
      "text/plain": [
       "{'message': 'Waiting for next trigger',\n",
       " 'isDataAvailable': False,\n",
       " 'isTriggerActive': False}"
      ]
     },
     "execution_count": 26,
     "metadata": {},
     "output_type": "execute_result"
    }
   ],
   "source": [
    "activityQuery.status"
   ]
  },
  {
   "cell_type": "code",
   "execution_count": 12,
   "id": "c5f183ee",
   "metadata": {},
   "outputs": [],
   "source": [
    "activityQuery.stop()"
   ]
  },
  {
   "cell_type": "code",
   "execution_count": 15,
   "id": "1b771bf7",
   "metadata": {},
   "outputs": [],
   "source": [
    "new_df = spark.read.csv(\n",
    "    path=\"hdfs://namenode:9000/bigdataproject/streaming_output/part-00000-46b5bc2c-c17c-43fd-8ada-dd38b46f6333-c000.csv\",\n",
    "    header=True,\n",
    "    inferSchema=True,\n",
    "    multiLine=True)"
   ]
  },
  {
   "cell_type": "code",
   "execution_count": 16,
   "id": "a5b2cc6e",
   "metadata": {},
   "outputs": [
    {
     "name": "stdout",
     "output_type": "stream",
     "text": [
      "+-----+---+---------+------------+\n",
      "|start|end|Tên dự án|Số lượng tin|\n",
      "+-----+---+---------+------------+\n",
      "+-----+---+---------+------------+\n",
      "\n"
     ]
    }
   ],
   "source": [
    "new_df.show()"
   ]
  },
  {
   "cell_type": "code",
   "execution_count": null,
   "id": "8c74a7ad",
   "metadata": {},
   "outputs": [],
   "source": []
  }
 ],
 "metadata": {
  "kernelspec": {
   "display_name": "Python 3 (ipykernel)",
   "language": "python",
   "name": "python3"
  },
  "language_info": {
   "codemirror_mode": {
    "name": "ipython",
    "version": 3
   },
   "file_extension": ".py",
   "mimetype": "text/x-python",
   "name": "python",
   "nbconvert_exporter": "python",
   "pygments_lexer": "ipython3",
   "version": "3.9.7"
  }
 },
 "nbformat": 4,
 "nbformat_minor": 5
}
